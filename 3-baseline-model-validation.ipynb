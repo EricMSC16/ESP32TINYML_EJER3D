{
 "metadata": {
  "language_info": {
   "codemirror_mode": {
    "name": "ipython",
    "version": 3
   },
   "file_extension": ".py",
   "mimetype": "text/x-python",
   "name": "python",
   "nbconvert_exporter": "python",
   "pygments_lexer": "ipython3",
   "version": "3.8.3"
  },
  "orig_nbformat": 2,
  "kernelspec": {
   "name": "python383jvsc74a57bd011be29b1d7515f91d02295bece7900dcfcd4625b0a1f7c74c6e2ef65fa62adc5",
   "display_name": "Python 3.8.3 64-bit ('tinyml': conda)"
  }
 },
 "nbformat": 4,
 "nbformat_minor": 2,
 "cells": [
  {
   "cell_type": "code",
   "execution_count": 1,
   "metadata": {},
   "outputs": [],
   "source": [
    "from models.baseline.base.decision_tree import decision_tree_100hz, decision_tree_50hz, decision_tree_25hz, decision_tree_20hz, decision_tree_10hz\n",
    "from models.baseline.base.random_forest import random_forest_100hz, random_forest_50hz, random_forest_25hz, random_forest_20hz, random_forest_10hz\n",
    "\n",
    "model_setups = [\n",
    "    (decision_tree_100hz, 100, (0,0), 'decision_tree'),\n",
    "    (decision_tree_50hz, 50, (0,1), 'decision_tree'),\n",
    "    (decision_tree_25hz, 25, (0,2), 'decision_tree'),\n",
    "    (decision_tree_20hz, 20, (0,3), 'decision_tree'),\n",
    "    (decision_tree_10hz, 10, (0,4), 'decision_tree'),\n",
    "    (random_forest_100hz, 100, (1,0), 'random_forest'),\n",
    "    (random_forest_50hz, 50, (1,1), 'random_forest'),\n",
    "    (random_forest_25hz, 25, (1,2), 'random_forest'),\n",
    "    (random_forest_20hz, 20, (1,3), 'random_forest'),\n",
    "    (random_forest_10hz, 10, (1,4), 'random_forest')\n",
    "]"
   ]
  },
  {
   "cell_type": "code",
   "execution_count": null,
   "metadata": {},
   "outputs": [],
   "source": [
    "validation_results_circle = []\n",
    "\n",
    "fig, ax = plt.subplots(ncols=2, nrows=5, sharey=True, sharex=True, figsize=(30,25))\n",
    "fig.tight_layout()\n",
    "\n",
    "for setup in model_setups:\n",
    "    MODEL = setup[0]\n",
    "    FREQ = setup[1]\n",
    "    STEP = (1000 / FREQ)\n",
    "    COL = setup[2][0]\n",
    "    ROW = setup[2][1]\n",
    "\n",
    "    df_val = pd.read_csv('data/validation/move_circle_20210522_1.csv').set_index('ms')\n",
    "\n",
    "    # initialize empty dataset to collect results\n",
    "    inf_results = pd.DataFrame([],columns=['start','end','result'])\n",
    "\n",
    "    # treat dataset \n",
    "    df_downsampled = downsample_df(df_val, STEP) # downsample dataset\n",
    "    df_inference = transform_data_for_inference(df_downsampled) # converts dataset to inference format\n",
    "\n",
    "    # Plot signals\n",
    "    ax[ROW][COL].plot(df_downsampled)\n",
    "\n",
    "    # generate a list of steps    \n",
    "    inference_step = list(np.arange(0, df_val.index[-1] + 1 - 1010, step=STEP))\n",
    "\n",
    "    for st in inference_step:\n",
    "        res = np.argmax(run_inference(df_inference, MODEL, st, STEP))\n",
    "        inf_results = pd.concat([inf_results, pd.DataFrame([{'start':st,'end':st+1000,'result':res}])], axis=0)\n",
    "\n",
    "        if res in [1,2,3]:\n",
    "            color = line_color(res)\n",
    "            ax[ROW][COL].axvline(x=st+500, ymin=0, ymax=0.4, color=color, alpha=0.4)\n",
    "\n",
    "    # Create Legend\n",
    "    blue_patch = mpatches.Patch(color='blue', label='X Movement')\n",
    "    red_patch = mpatches.Patch(color='red', label='Y Movement')\n",
    "    green_patch = mpatches.Patch(color='green', label='Circle Movement')\n",
    "    fig.legend(handles=[blue_patch, red_patch, green_patch])\n",
    "\n",
    "\n",
    "    # get error rate\n",
    "    wrong_percentage = calculate_error(inf_results, 'circle')\n",
    "\n",
    "    validation_results_circle.append({'model':setup[-1], 'hz':setup[1], 'wrong_percentage': wrong_percentage, 'value_counts': inf_results['result'].value_counts()})"
   ]
  }
 ]
}