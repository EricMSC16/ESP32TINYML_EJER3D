{
 "cells": [
  {
   "cell_type": "code",
   "execution_count": 1,
   "id": "d5496ad0-171f-4129-9717-d7183c12a226",
   "metadata": {},
   "outputs": [],
   "source": [
    "import pandas as pd\n",
    "import keepsake\n",
    "import numpy as np\n",
    "import scipy.stats as stats\n",
    "\n",
    "import seaborn as sns\n",
    "import matplotlib.pyplot as plt\n",
    "import matplotlib.patches as mpatches\n",
    "\n",
    "plt.style.use('ggplot')\n",
    "\n",
    "%matplotlib inline"
   ]
  },
  {
   "cell_type": "code",
   "execution_count": 2,
   "id": "fcb2ce55-17e7-4118-b9c4-f73f85d7f453",
   "metadata": {},
   "outputs": [],
   "source": [
    "# only need to be run once to initialize\n",
    "\n",
    "# ! echo 'repository: \"file://.keepsake\"' > keepsake.yaml "
   ]
  },
  {
   "cell_type": "code",
   "execution_count": 3,
   "id": "fce3a27d-e892-48a5-bbf2-c7c2498fec5a",
   "metadata": {},
   "outputs": [
    {
     "data": {
      "text/plain": [
       "['acc_x|acc_y|acc_z|gyro_x|label',\n",
       " 'acc_x|acc_y|acc_z|gyro_y|label',\n",
       " 'acc_x|acc_y|acc_z|gyro_z|label',\n",
       " 'acc_x|acc_y|acc_z|gyro_x|gyro_y|label',\n",
       " 'acc_x|acc_y|acc_z|gyro_x|gyro_z|label',\n",
       " 'acc_x|acc_y|acc_z|gyro_y|gyro_z|label',\n",
       " 'acc_x|acc_y|acc_z|gyro_x|gyro_y|gyro_z|label']"
      ]
     },
     "execution_count": 3,
     "metadata": {},
     "output_type": "execute_result"
    }
   ],
   "source": [
    "# Generate combinations\n",
    "from itertools import combinations\n",
    "\n",
    "comb_list = []\n",
    "\n",
    "for features in [1,2,3]:\n",
    "    for com in combinations(['gyro_x','gyro_y','gyro_z'], features):\n",
    "        comb_list.append(f'acc_x|acc_y|acc_z|{\"|\".join(list(com))}|label')\n",
    "comb_list"
   ]
  },
  {
   "cell_type": "code",
   "execution_count": 4,
   "id": "d9f78b11-d400-4747-9126-5e51e1fae68d",
   "metadata": {},
   "outputs": [],
   "source": [
    "# df_10hz = pd.read_csv('data/transformed/20210529_v2_data_all_10hz.csv')\n",
    "df_20hz = pd.read_csv('data/transformed/20210529_v2_data_all_20hz.csv')\n",
    "df_25hz = pd.read_csv('data/transformed/20210529_v2_data_all_25hz.csv')\n",
    "df_50hz = pd.read_csv('data/transformed/20210529_v2_data_all_50hz.csv')\n",
    "# df_100hz = pd.read_csv('data/transformed/20210529_v2_data_all_100hz.csv')"
   ]
  },
  {
   "cell_type": "code",
   "execution_count": 5,
   "id": "436c4c2d-cbfe-4cd5-9935-6b1defe98e40",
   "metadata": {},
   "outputs": [],
   "source": [
    "def get_df_base(df):\n",
    "    df = df[(df['shift'] == 0)]\n",
    "    return df.dropna(axis=0)"
   ]
  },
  {
   "cell_type": "code",
   "execution_count": 6,
   "id": "85b89658-7498-4472-9cc1-ec9b3b49edbf",
   "metadata": {},
   "outputs": [],
   "source": [
    "df_20hz = get_df_base(df_20hz)\n",
    "df_25hz = get_df_base(df_25hz)\n",
    "df_50hz = get_df_base(df_50hz)"
   ]
  },
  {
   "cell_type": "code",
   "execution_count": 7,
   "id": "da67e2b5-3f74-46e4-a329-c30618d78d20",
   "metadata": {},
   "outputs": [],
   "source": [
    "def save_model_optimized(classifier, stage, dataset, model_type, exp_id):\n",
    "    '''\n",
    "        Saves model to defined folder.\n",
    "\n",
    "        stage - baseline/optimized\n",
    "        dataset - base/centered/end/etc\n",
    "        model_types - decision_tree, random_forest, ...\n",
    "        hz - frequency\n",
    "    '''\n",
    "\n",
    "    import os\n",
    "    import m2cgen as m2c\n",
    "    \n",
    "    BASE_PATH = f'models/{stage}/{dataset}/{model_type}/'\n",
    "    FILE_NAME = f'{model_type}_{exp_id}.py'\n",
    "\n",
    "    if not os.path.exists(BASE_PATH):\n",
    "        os.makedirs(BASE_PATH)\n",
    "\n",
    "    code = m2c.export_to_python(classifier)\n",
    "    with open(BASE_PATH + FILE_NAME, 'w') as f:\n",
    "        f.writelines(code)"
   ]
  },
  {
   "cell_type": "code",
   "execution_count": 8,
   "id": "72b8e812-b131-48bc-8688-5fd0e1556ac8",
   "metadata": {},
   "outputs": [
    {
     "name": "stderr",
     "output_type": "stream",
     "text": [
      "\u001b[2m═══╡ \u001b[0mCreating experiment 3d76d7f...\n",
      "\u001b[2m═══╡ \u001b[0mCreating checkpoint f1a5d95...\n"
     ]
    },
    {
     "name": "stdout",
     "output_type": "stream",
     "text": [
      "Signals: ['acc_x', 'acc_y', 'acc_z', 'gyro_x', 'gyro_y'] @ 20 >> Acc: 1.0, Prec: 1.0, Recall: 1.0\n",
      "Signals: ['acc_x', 'acc_y', 'acc_z', 'gyro_x', 'gyro_y'] @ 20 >> Acc: 1.0, Prec: 1.0, Recall: 1.0\n"
     ]
    },
    {
     "name": "stderr",
     "output_type": "stream",
     "text": [
      "\u001b[2m═══╡ \u001b[0mCreating experiment 13bfccf...\n",
      "\u001b[2m═══╡ \u001b[0mCreating checkpoint c95b470...\n"
     ]
    },
    {
     "name": "stdout",
     "output_type": "stream",
     "text": [
      "Signals: ['acc_x', 'acc_y', 'acc_z', 'gyro_x', 'gyro_y'] @ 20 >> Acc: 1.0, Prec: 1.0, Recall: 1.0\n"
     ]
    },
    {
     "name": "stderr",
     "output_type": "stream",
     "text": [
      "\u001b[2m═══╡ \u001b[0mCreating experiment 108ab22...\n",
      "\u001b[2m═══╡ \u001b[0mCreating checkpoint 4c4f248...\n"
     ]
    },
    {
     "name": "stdout",
     "output_type": "stream",
     "text": [
      "Signals: ['acc_x', 'acc_y', 'acc_z', 'gyro_x', 'gyro_z'] @ 20 >> Acc: 1.0, Prec: 1.0, Recall: 1.0\n"
     ]
    },
    {
     "name": "stderr",
     "output_type": "stream",
     "text": [
      "\u001b[2m═══╡ \u001b[0mCreating experiment b3dfc46...\n",
      "\u001b[2m═══╡ \u001b[0mCreating checkpoint cbe53bd...\n"
     ]
    },
    {
     "name": "stdout",
     "output_type": "stream",
     "text": [
      "Signals: ['acc_x', 'acc_y', 'acc_z', 'gyro_x', 'gyro_y', 'gyro_z'] @ 25 >> Acc: 0.9875, Prec: 0.984375, Recall: 0.9924242424242424\n"
     ]
    },
    {
     "name": "stderr",
     "output_type": "stream",
     "text": [
      "\u001b[2m═══╡ \u001b[0mCreating experiment eb10317...\n",
      "\u001b[2m═══╡ \u001b[0mCreating checkpoint 178bd05...\n"
     ]
    },
    {
     "name": "stdout",
     "output_type": "stream",
     "text": [
      "Signals: ['acc_x', 'acc_y', 'acc_z', 'gyro_x', 'gyro_y', 'gyro_z'] @ 25 >> Acc: 0.9875, Prec: 0.984375, Recall: 0.9924242424242424\n"
     ]
    },
    {
     "name": "stderr",
     "output_type": "stream",
     "text": [
      "\u001b[2m═══╡ \u001b[0mCreating experiment 600aa47...\n",
      "\u001b[2m═══╡ \u001b[0mCreating checkpoint e0254c0...\n"
     ]
    },
    {
     "name": "stdout",
     "output_type": "stream",
     "text": [
      "Signals: ['acc_x', 'acc_y', 'acc_z', 'gyro_x', 'gyro_y'] @ 50 >> Acc: 1.0, Prec: 1.0, Recall: 1.0\n"
     ]
    },
    {
     "name": "stderr",
     "output_type": "stream",
     "text": [
      "\u001b[2m═══╡ \u001b[0mCreating experiment 801e911...\n",
      "\u001b[2m═══╡ \u001b[0mCreating checkpoint 773d393...\n"
     ]
    },
    {
     "name": "stdout",
     "output_type": "stream",
     "text": [
      "Signals: ['acc_x', 'acc_y', 'acc_z', 'gyro_x', 'gyro_z'] @ 50 >> Acc: 1.0, Prec: 1.0, Recall: 1.0\n"
     ]
    },
    {
     "name": "stderr",
     "output_type": "stream",
     "text": [
      "\u001b[2m═══╡ \u001b[0mCreating experiment 4dd6089...\n",
      "\u001b[2m═══╡ \u001b[0mCreating checkpoint 20197d7...\n"
     ]
    },
    {
     "name": "stdout",
     "output_type": "stream",
     "text": [
      "Signals: ['acc_x', 'acc_y', 'acc_z', 'gyro_x', 'gyro_y', 'gyro_z'] @ 50 >> Acc: 1.0, Prec: 1.0, Recall: 1.0\n"
     ]
    },
    {
     "name": "stderr",
     "output_type": "stream",
     "text": [
      "\u001b[2m═══╡ \u001b[0mCreating experiment bd45d83...\n",
      "\u001b[2m═══╡ \u001b[0mCreating checkpoint ab6ebed...\n"
     ]
    }
   ],
   "source": [
    "from sklearn.model_selection import train_test_split\n",
    "from sklearn.ensemble import RandomForestClassifier\n",
    "\n",
    "from sklearn import metrics\n",
    "\n",
    "is_save_model = True\n",
    "model_type = 'random_forest'\n",
    "stage = 'optimized'\n",
    "dataset = 'base'\n",
    "quantization = None\n",
    "estimators = None\n",
    "\n",
    "cutoff=0.99\n",
    "dataset_test_sizes = [0.35]\n",
    "datasets_setup = [(df_20hz, 20), (df_25hz, 25), (df_50hz, 50)]\n",
    "\n",
    "for df_t in datasets_setup:\n",
    "    for comb in comb_list:\n",
    "        for dataset_test_size in dataset_test_sizes:\n",
    "            df_filtered = df_t[0].filter(regex=comb)\n",
    "            X_train, X_test, y_train, y_test = train_test_split(\n",
    "                df_filtered.drop('label',axis=1), df_filtered['label'], test_size=dataset_test_size, random_state=42)\n",
    "\n",
    "            for estimators in [4,5,6]:\n",
    "                clf = RandomForestClassifier(n_jobs=-1, n_estimators=estimators, random_state=42)\n",
    "                clf.fit(X_train, y_train)\n",
    "\n",
    "                y_pred = clf.predict(X_test)\n",
    "\n",
    "                accuracy = metrics.accuracy_score(y_test, y_pred)\n",
    "                f1 = metrics.f1_score(y_test, y_pred, average='macro')\n",
    "                precision = metrics.precision_score(y_test, y_pred, average='macro')\n",
    "                recall = metrics.recall_score(y_test, y_pred, average='macro')\n",
    "\n",
    "                if recall > cutoff:\n",
    "                    signals = comb.replace('|label','').split('|')\n",
    "                    print(f\"Signals: {signals} @ {df_t[1]} >> Acc: {accuracy}, Prec: {precision}, Recall: {recall}\")\n",
    "                    \n",
    "                    if is_save_model:\n",
    "                        experiment = keepsake.init(\n",
    "                            params={\n",
    "                                'model':model_type,\n",
    "                                'features': signals,\n",
    "                                'feature_count': len(signals),\n",
    "                                'n_estimators': estimators,\n",
    "                                'dataset_test_size': dataset_test_size,\n",
    "                                'hz':df_t[1],\n",
    "                                'data_set':dataset,\n",
    "                                'quantization': quantization,\n",
    "                                'other_params': 'default',\n",
    "                                'accuracy': accuracy,\n",
    "                                'precision':precision,\n",
    "                                'recall':recall,\n",
    "                                'f1':f1\n",
    "                                })\n",
    "\n",
    "                        path = save_model_optimized(clf, stage=stage, dataset=dataset, model_type=model_type, exp_id=experiment.id[:7])\n",
    "\n",
    "                        experiment.checkpoint(\n",
    "                            path=path,\n",
    "                            metrics={\"accurracy\":accuracy, \"f1\": f1, \"precision\": precision, \"recall\": recall},\n",
    "                            primary_metric=(\"recall\",\"maximize\")\n",
    "                        )\n",
    "                        experiment.stop()"
   ]
  },
  {
   "cell_type": "code",
   "execution_count": 9,
   "id": "435617da-f4f7-4e3e-8611-8c1158174eeb",
   "metadata": {},
   "outputs": [
    {
     "name": "stdout",
     "output_type": "stream",
     "text": [
      "Signals: ['acc_x', 'acc_y', 'acc_z', 'gyro_x'] @ 25 >> Acc: 1.0, Prec: 1.0, Recall: 1.0\n"
     ]
    },
    {
     "name": "stderr",
     "output_type": "stream",
     "text": [
      "\u001b[2m═══╡ \u001b[0mCreating experiment 422cad5...\n",
      "\u001b[2m═══╡ \u001b[0mCreating checkpoint 3598ade...\n"
     ]
    },
    {
     "name": "stdout",
     "output_type": "stream",
     "text": [
      "Signals: ['acc_x', 'acc_y', 'acc_z', 'gyro_x'] @ 25 >> Acc: 1.0, Prec: 1.0, Recall: 1.0\n"
     ]
    },
    {
     "name": "stderr",
     "output_type": "stream",
     "text": [
      "\u001b[2m═══╡ \u001b[0mCreating experiment 7af5dfd...\n",
      "\u001b[2m═══╡ \u001b[0mCreating checkpoint 1c59282...\n"
     ]
    },
    {
     "name": "stdout",
     "output_type": "stream",
     "text": [
      "Signals: ['acc_x', 'acc_y', 'acc_z', 'gyro_x'] @ 25 >> Acc: 1.0, Prec: 1.0, Recall: 1.0\n"
     ]
    },
    {
     "name": "stderr",
     "output_type": "stream",
     "text": [
      "\u001b[2m═══╡ \u001b[0mCreating experiment c21431e...\n",
      "\u001b[2m═══╡ \u001b[0mCreating checkpoint 8b655fc...\n"
     ]
    },
    {
     "name": "stdout",
     "output_type": "stream",
     "text": [
      "Signals: ['acc_x', 'acc_y', 'acc_z', 'gyro_y'] @ 25 >> Acc: 1.0, Prec: 1.0, Recall: 1.0\n"
     ]
    },
    {
     "name": "stderr",
     "output_type": "stream",
     "text": [
      "\u001b[2m═══╡ \u001b[0mCreating experiment 7f7e49b...\n",
      "\u001b[2m═══╡ \u001b[0mCreating checkpoint d30e6c0...\n"
     ]
    },
    {
     "name": "stdout",
     "output_type": "stream",
     "text": [
      "Signals: ['acc_x', 'acc_y', 'acc_z', 'gyro_y'] @ 25 >> Acc: 1.0, Prec: 1.0, Recall: 1.0\n"
     ]
    },
    {
     "name": "stderr",
     "output_type": "stream",
     "text": [
      "\u001b[2m═══╡ \u001b[0mCreating experiment fe811f6...\n",
      "\u001b[2m═══╡ \u001b[0mCreating checkpoint e899e1b...\n"
     ]
    },
    {
     "name": "stdout",
     "output_type": "stream",
     "text": [
      "Signals: ['acc_x', 'acc_y', 'acc_z', 'gyro_y'] @ 25 >> Acc: 1.0, Prec: 1.0, Recall: 1.0\n"
     ]
    },
    {
     "name": "stderr",
     "output_type": "stream",
     "text": [
      "\u001b[2m═══╡ \u001b[0mCreating experiment 6eb4b55...\n",
      "\u001b[2m═══╡ \u001b[0mCreating checkpoint 35dfca7...\n"
     ]
    },
    {
     "name": "stdout",
     "output_type": "stream",
     "text": [
      "Signals: ['acc_x', 'acc_y', 'acc_z', 'gyro_z'] @ 25 >> Acc: 1.0, Prec: 1.0, Recall: 1.0\n"
     ]
    },
    {
     "name": "stderr",
     "output_type": "stream",
     "text": [
      "\u001b[2m═══╡ \u001b[0mCreating experiment c68b1db...\n",
      "\u001b[2m═══╡ \u001b[0mCreating checkpoint 170830a...\n"
     ]
    },
    {
     "name": "stdout",
     "output_type": "stream",
     "text": [
      "Signals: ['acc_x', 'acc_y', 'acc_z', 'gyro_z'] @ 25 >> Acc: 1.0, Prec: 1.0, Recall: 1.0\n"
     ]
    },
    {
     "name": "stderr",
     "output_type": "stream",
     "text": [
      "\u001b[2m═══╡ \u001b[0mCreating experiment 76a01f4...\n",
      "\u001b[2m═══╡ \u001b[0mCreating checkpoint 1387cfe...\n"
     ]
    },
    {
     "name": "stdout",
     "output_type": "stream",
     "text": [
      "Signals: ['acc_x', 'acc_y', 'acc_z', 'gyro_z'] @ 25 >> Acc: 1.0, Prec: 1.0, Recall: 1.0\n"
     ]
    },
    {
     "name": "stderr",
     "output_type": "stream",
     "text": [
      "\u001b[2m═══╡ \u001b[0mCreating experiment b3ffc1f...\n",
      "\u001b[2m═══╡ \u001b[0mCreating checkpoint a410ab0...\n"
     ]
    }
   ],
   "source": [
    "from sklearn.model_selection import train_test_split\n",
    "from sklearn.tree import DecisionTreeClassifier\n",
    "\n",
    "from sklearn import metrics\n",
    "\n",
    "is_save_model = True\n",
    "model_type = 'decision_tree'\n",
    "stage = 'optimized'\n",
    "dataset = 'base'\n",
    "quantization = None\n",
    "estimators = None\n",
    "\n",
    "cutoff=0.99\n",
    "dataset_test_sizes = [0.35]\n",
    "datasets_setup = [(df_20hz, 20), (df_25hz, 25), (df_50hz, 50)]\n",
    "\n",
    "for df_t in datasets_setup:\n",
    "    for comb in comb_list:\n",
    "        for dataset_test_size in dataset_test_sizes:\n",
    "            df_filtered = df_t[0].filter(regex=comb)\n",
    "            X_train, X_test, y_train, y_test = train_test_split(\n",
    "                df_filtered.drop('label',axis=1), df_filtered['label'], test_size=dataset_test_size, random_state=42)\n",
    "\n",
    "            for estimators in [4,5,6]:\n",
    "                clf = DecisionTreeClassifier(random_state=42)\n",
    "                clf.fit(X_train, y_train)\n",
    "\n",
    "                y_pred = clf.predict(X_test)\n",
    "\n",
    "                accuracy = metrics.accuracy_score(y_test, y_pred)\n",
    "                f1 = metrics.f1_score(y_test, y_pred, average='macro')\n",
    "                precision = metrics.precision_score(y_test, y_pred, average='macro')\n",
    "                recall = metrics.recall_score(y_test, y_pred, average='macro')\n",
    "\n",
    "                if recall > cutoff:\n",
    "                    signals = comb.replace('|label','').split('|')\n",
    "                    print(f\"Signals: {signals} @ {df_t[1]} >> Acc: {accuracy}, Prec: {precision}, Recall: {recall}\")\n",
    "                    \n",
    "                    if is_save_model:\n",
    "                        experiment = keepsake.init(\n",
    "                            params={\n",
    "                                'model':model_type,\n",
    "                                'features': signals,\n",
    "                                'feature_count': len(signals),\n",
    "                                'n_estimators': estimators,\n",
    "                                'dataset_test_size': dataset_test_size,\n",
    "                                'hz':df_t[1],\n",
    "                                'data_set':dataset,\n",
    "                                'quantization': quantization,\n",
    "                                'other_params': 'default',\n",
    "                                'accuracy': accuracy,\n",
    "                                'precision':precision,\n",
    "                                'recall':recall,\n",
    "                                'f1':f1\n",
    "                                })\n",
    "\n",
    "                        path = save_model_optimized(clf, stage=stage, dataset=dataset, model_type=model_type, exp_id=experiment.id[:7])\n",
    "\n",
    "                        experiment.checkpoint(\n",
    "                            path=path,\n",
    "                            metrics={\"accurracy\":accuracy, \"f1\": f1, \"precision\": precision, \"recall\": recall},\n",
    "                            primary_metric=(\"recall\",\"maximize\")\n",
    "                        )\n",
    "                        experiment.stop()"
   ]
  },
  {
   "cell_type": "code",
   "execution_count": 10,
   "id": "a5020296-900c-4047-a40f-7a4a78866de7",
   "metadata": {},
   "outputs": [
    {
     "name": "stderr",
     "output_type": "stream",
     "text": [
      "\u001b[33m═══╡ \u001b[0mFailed to load metadata from \"metadata/experiments/.DS_Store\": Parse error: invalid character '\\x00' looking for beginning of value\n"
     ]
    },
    {
     "data": {
      "text/html": [
       "<table><tr><th>id</th><th>created</th><th>params</th><th>latest_checkpoint</th><th>best_checkpoint</th></tr><tr><th>3d76d7f</th><th>2021-06-11 18:16:22.207957</th><th>{&#x27;n_estimators&#x27;: 4, &#x27;model&#x27;: &#x27;random_forest&#x27;, &#x27;data_set&#x27;: &#x27;base&#x27;, &#x27;quantization&#x27;: None, &#x27;other_params&#x27;: &#x27;default&#x27;, &#x27;precision&#x27;: 1, &#x27;dataset_test_size&#x27;: 0.35, &#x27;recall&#x27;: 1, &#x27;hz&#x27;: 20, &#x27;feature_count&#x27;: 5, &#x27;features&#x27;: [&#x27;acc_x&#x27;, &#x27;acc_y&#x27;, &#x27;acc_z&#x27;, &#x27;gyro_x&#x27;, &#x27;gyro_y&#x27;], &#x27;f1&#x27;: 1, &#x27;accuracy&#x27;: 1}</th><th>f1a5d95 (step 0; recall: 1)</th><th>f1a5d95 (step 0; recall: 1)</th></tr><tr><th>13bfccf</th><th>2021-06-11 18:16:23.271930</th><th>{&#x27;feature_count&#x27;: 5, &#x27;f1&#x27;: 1, &#x27;other_params&#x27;: &#x27;default&#x27;, &#x27;features&#x27;: [&#x27;acc_x&#x27;, &#x27;acc_y&#x27;, &#x27;acc_z&#x27;, &#x27;gyro_x&#x27;, &#x27;gyro_y&#x27;], &#x27;precision&#x27;: 1, &#x27;quantization&#x27;: None, &#x27;recall&#x27;: 1, &#x27;data_set&#x27;: &#x27;base&#x27;, &#x27;model&#x27;: &#x27;random_forest&#x27;, &#x27;accuracy&#x27;: 1, &#x27;n_estimators&#x27;: 5, &#x27;hz&#x27;: 20, &#x27;dataset_test_size&#x27;: 0.35}</th><th>c95b470 (step 0; recall: 1)</th><th>c95b470 (step 0; recall: 1)</th></tr><tr><th>108ab22</th><th>2021-06-11 18:16:24.331389</th><th>{&#x27;feature_count&#x27;: 5, &#x27;accuracy&#x27;: 1, &#x27;data_set&#x27;: &#x27;base&#x27;, &#x27;dataset_test_size&#x27;: 0.35, &#x27;model&#x27;: &#x27;random_forest&#x27;, &#x27;recall&#x27;: 1, &#x27;n_estimators&#x27;: 6, &#x27;other_params&#x27;: &#x27;default&#x27;, &#x27;f1&#x27;: 1, &#x27;features&#x27;: [&#x27;acc_x&#x27;, &#x27;acc_y&#x27;, &#x27;acc_z&#x27;, &#x27;gyro_x&#x27;, &#x27;gyro_y&#x27;], &#x27;precision&#x27;: 1, &#x27;quantization&#x27;: None, &#x27;hz&#x27;: 20}</th><th>4c4f248 (step 0; recall: 1)</th><th>4c4f248 (step 0; recall: 1)</th></tr><tr><th>b3dfc46</th><th>2021-06-11 18:16:25.398884</th><th>{&#x27;hz&#x27;: 20, &#x27;precision&#x27;: 1, &#x27;data_set&#x27;: &#x27;base&#x27;, &#x27;other_params&#x27;: &#x27;default&#x27;, &#x27;n_estimators&#x27;: 4, &#x27;quantization&#x27;: None, &#x27;f1&#x27;: 1, &#x27;features&#x27;: [&#x27;acc_x&#x27;, &#x27;acc_y&#x27;, &#x27;acc_z&#x27;, &#x27;gyro_x&#x27;, &#x27;gyro_z&#x27;], &#x27;accuracy&#x27;: 1, &#x27;model&#x27;: &#x27;random_forest&#x27;, &#x27;feature_count&#x27;: 5, &#x27;recall&#x27;: 1, &#x27;dataset_test_size&#x27;: 0.35}</th><th>cbe53bd (step 0; recall: 1)</th><th>cbe53bd (step 0; recall: 1)</th></tr><tr><th>801e911</th><th>2021-06-11 18:16:29.230001</th><th>{&#x27;other_params&#x27;: &#x27;default&#x27;, &#x27;precision&#x27;: 1, &#x27;dataset_test_size&#x27;: 0.35, &#x27;data_set&#x27;: &#x27;base&#x27;, &#x27;accuracy&#x27;: 1, &#x27;hz&#x27;: 50, &#x27;quantization&#x27;: None, &#x27;feature_count&#x27;: 5, &#x27;f1&#x27;: 1, &#x27;n_estimators&#x27;: 6, &#x27;features&#x27;: [&#x27;acc_x&#x27;, &#x27;acc_y&#x27;, &#x27;acc_z&#x27;, &#x27;gyro_x&#x27;, &#x27;gyro_y&#x27;], &#x27;model&#x27;: &#x27;random_forest&#x27;, &#x27;recall&#x27;: 1}</th><th>773d393 (step 0; recall: 1)</th><th>773d393 (step 0; recall: 1)</th></tr><tr><th>4dd6089</th><th>2021-06-11 18:16:30.348131</th><th>{&#x27;n_estimators&#x27;: 6, &#x27;feature_count&#x27;: 5, &#x27;model&#x27;: &#x27;random_forest&#x27;, &#x27;dataset_test_size&#x27;: 0.35, &#x27;precision&#x27;: 1, &#x27;quantization&#x27;: None, &#x27;data_set&#x27;: &#x27;base&#x27;, &#x27;hz&#x27;: 50, &#x27;accuracy&#x27;: 1, &#x27;features&#x27;: [&#x27;acc_x&#x27;, &#x27;acc_y&#x27;, &#x27;acc_z&#x27;, &#x27;gyro_x&#x27;, &#x27;gyro_z&#x27;], &#x27;recall&#x27;: 1, &#x27;other_params&#x27;: &#x27;default&#x27;, &#x27;f1&#x27;: 1}</th><th>20197d7 (step 0; recall: 1)</th><th>20197d7 (step 0; recall: 1)</th></tr><tr><th>bd45d83</th><th>2021-06-11 18:16:31.482641</th><th>{&#x27;features&#x27;: [&#x27;acc_x&#x27;, &#x27;acc_y&#x27;, &#x27;acc_z&#x27;, &#x27;gyro_x&#x27;, &#x27;gyro_y&#x27;, &#x27;gyro_z&#x27;], &#x27;model&#x27;: &#x27;random_forest&#x27;, &#x27;quantization&#x27;: None, &#x27;data_set&#x27;: &#x27;base&#x27;, &#x27;recall&#x27;: 1, &#x27;f1&#x27;: 1, &#x27;dataset_test_size&#x27;: 0.35, &#x27;n_estimators&#x27;: 5, &#x27;accuracy&#x27;: 1, &#x27;hz&#x27;: 50, &#x27;feature_count&#x27;: 6, &#x27;other_params&#x27;: &#x27;default&#x27;, &#x27;precision&#x27;: 1}</th><th>ab6ebed (step 0; recall: 1)</th><th>ab6ebed (step 0; recall: 1)</th></tr></table>"
      ],
      "text/plain": [
       "[Experiment(id='3d76d7f737b792c5fc9065a781fc93e51f3efae35cfc2500ee280375819a2266', created=datetime.datetime(2021, 6, 11, 18, 16, 22, 207957), user='tk', host=None, command='/Users/tk/opt/miniconda3/envs/tinyml/lib/python3.8/site-packages/ipykernel_launcher.py -f /Users/tk/Library/Jupyter/runtime/kernel-dba4cf8a-dddc-479c-9340-bb00ce08d4cb.json', config={'repository': 'file:///Users/tk/projects/tinyml-esp32-data/.keepsake', 'storage': ''}, path=None, params={'n_estimators': 4, 'model': 'random_forest', 'data_set': 'base', 'quantization': None, 'other_params': 'default', 'precision': 1, 'dataset_test_size': 0.35, 'recall': 1, 'hz': 20, 'feature_count': 5, 'features': ['acc_x', 'acc_y', 'acc_z', 'gyro_x', 'gyro_y'], 'f1': 1, 'accuracy': 1}, python_version='3.8.3', python_packages={'cffi': '1.14.5', 'decorator': '4.4.2', 'pickleshare': '0.7.5', 'psutil': '5.8.0', 'keepsake': '0.4.2', 'ptyprocess': '0.7.0', 'pygments': '2.8.1', 'pandas': '1.2.3', 'tornado': '6.1', 'wcwidth': '0.2.5', 'pytz': '2021.1', 'parso': '0.8.1', 'colorama': '0.4.4', 'backcall': '0.2.0', 'pexpect': '4.8.0', 'matplotlib': '3.3.4', 'joblib': '1.0.1', 'jedi': '0.17.0', 'traitlets': '5.0.5', 'pyparsing': '2.4.7', 'ipywidgets': '7.6.3', 'numpy': '1.20.1', 'kiwisolver': '1.3.1', 'scipy': '1.6.1', 'cycler': '0.10.0', 'ipykernel': '5.3.4', 'six': '1.15.0', 'statsmodels': '0.12.2', 'appnope': '0.1.2', 'seaborn': '0.10.1'}, keepsake_version='0.4.2', checkpoints=[Checkpoint(id='f1a5d95c28630fc62d8a1c8cd1fc09629ac1ddc5884fc02d91a419f1f5150d27', created=datetime.datetime(2021, 6, 11, 18, 16, 22, 233865), path=None, step=0, metrics={'precision': 1, 'accurracy': 1, 'f1': 1, 'recall': 1}, primary_metric={'name': 'recall', 'goal': 'maximize'})]),\n",
       " Experiment(id='13bfccff6ce324b0da6b99c6519110f9001f170f4af86296502bc237046742c4', created=datetime.datetime(2021, 6, 11, 18, 16, 23, 271930), user='tk', host=None, command='/Users/tk/opt/miniconda3/envs/tinyml/lib/python3.8/site-packages/ipykernel_launcher.py -f /Users/tk/Library/Jupyter/runtime/kernel-dba4cf8a-dddc-479c-9340-bb00ce08d4cb.json', config={'repository': 'file:///Users/tk/projects/tinyml-esp32-data/.keepsake', 'storage': ''}, path=None, params={'feature_count': 5, 'f1': 1, 'other_params': 'default', 'features': ['acc_x', 'acc_y', 'acc_z', 'gyro_x', 'gyro_y'], 'precision': 1, 'quantization': None, 'recall': 1, 'data_set': 'base', 'model': 'random_forest', 'accuracy': 1, 'n_estimators': 5, 'hz': 20, 'dataset_test_size': 0.35}, python_version='3.8.3', python_packages={'tornado': '6.1', 'pygments': '2.8.1', 'keepsake': '0.4.2', 'backcall': '0.2.0', 'scipy': '1.6.1', 'seaborn': '0.10.1', 'cycler': '0.10.0', 'traitlets': '5.0.5', 'cffi': '1.14.5', 'psutil': '5.8.0', 'six': '1.15.0', 'pexpect': '4.8.0', 'matplotlib': '3.3.4', 'colorama': '0.4.4', 'pickleshare': '0.7.5', 'm2cgen': '0.9.0', 'statsmodels': '0.12.2', 'decorator': '4.4.2', 'joblib': '1.0.1', 'ipywidgets': '7.6.3', 'parso': '0.8.1', 'numpy': '1.20.1', 'kiwisolver': '1.3.1', 'ipykernel': '5.3.4', 'pyparsing': '2.4.7', 'appnope': '0.1.2', 'pandas': '1.2.3', 'ptyprocess': '0.7.0', 'wcwidth': '0.2.5', 'jedi': '0.17.0', 'pytz': '2021.1'}, keepsake_version='0.4.2', checkpoints=[Checkpoint(id='c95b470fd789075a255ef1fe86f99542e1fb3815683e6a6d81055135a83e3112', created=datetime.datetime(2021, 6, 11, 18, 16, 23, 290661), path=None, step=0, metrics={'accurracy': 1, 'f1': 1, 'recall': 1, 'precision': 1}, primary_metric={'name': 'recall', 'goal': 'maximize'})]),\n",
       " Experiment(id='108ab22a6a0bd7ace3b8e3632c9105f3587063be7dd8d11b521b333e3dc6481c', created=datetime.datetime(2021, 6, 11, 18, 16, 24, 331389), user='tk', host=None, command='/Users/tk/opt/miniconda3/envs/tinyml/lib/python3.8/site-packages/ipykernel_launcher.py -f /Users/tk/Library/Jupyter/runtime/kernel-dba4cf8a-dddc-479c-9340-bb00ce08d4cb.json', config={'repository': 'file:///Users/tk/projects/tinyml-esp32-data/.keepsake', 'storage': ''}, path=None, params={'feature_count': 5, 'accuracy': 1, 'data_set': 'base', 'dataset_test_size': 0.35, 'model': 'random_forest', 'recall': 1, 'n_estimators': 6, 'other_params': 'default', 'f1': 1, 'features': ['acc_x', 'acc_y', 'acc_z', 'gyro_x', 'gyro_y'], 'precision': 1, 'quantization': None, 'hz': 20}, python_version='3.8.3', python_packages={'joblib': '1.0.1', 'm2cgen': '0.9.0', 'scipy': '1.6.1', 'seaborn': '0.10.1', 'ipykernel': '5.3.4', 'pandas': '1.2.3', 'pyparsing': '2.4.7', 'tornado': '6.1', 'kiwisolver': '1.3.1', 'ptyprocess': '0.7.0', 'keepsake': '0.4.2', 'decorator': '4.4.2', 'statsmodels': '0.12.2', 'matplotlib': '3.3.4', 'ipywidgets': '7.6.3', 'jedi': '0.17.0', 'appnope': '0.1.2', 'six': '1.15.0', 'numpy': '1.20.1', 'pickleshare': '0.7.5', 'cycler': '0.10.0', 'cffi': '1.14.5', 'wcwidth': '0.2.5', 'pygments': '2.8.1', 'psutil': '5.8.0', 'pytz': '2021.1', 'parso': '0.8.1', 'colorama': '0.4.4', 'pexpect': '4.8.0', 'traitlets': '5.0.5', 'backcall': '0.2.0'}, keepsake_version='0.4.2', checkpoints=[Checkpoint(id='4c4f24815160be6e6dbacd973a5e98c4677e9215dab3e1f851c49b1b54cd5f27', created=datetime.datetime(2021, 6, 11, 18, 16, 24, 344372), path=None, step=0, metrics={'recall': 1, 'f1': 1, 'accurracy': 1, 'precision': 1}, primary_metric={'name': 'recall', 'goal': 'maximize'})]),\n",
       " Experiment(id='b3dfc462762dfa0adde5c7ea40d794233d3d4212cb2a1c4ca998c4b4444cccc6', created=datetime.datetime(2021, 6, 11, 18, 16, 25, 398884), user='tk', host=None, command='/Users/tk/opt/miniconda3/envs/tinyml/lib/python3.8/site-packages/ipykernel_launcher.py -f /Users/tk/Library/Jupyter/runtime/kernel-dba4cf8a-dddc-479c-9340-bb00ce08d4cb.json', config={'repository': 'file:///Users/tk/projects/tinyml-esp32-data/.keepsake', 'storage': ''}, path=None, params={'hz': 20, 'precision': 1, 'data_set': 'base', 'other_params': 'default', 'n_estimators': 4, 'quantization': None, 'f1': 1, 'features': ['acc_x', 'acc_y', 'acc_z', 'gyro_x', 'gyro_z'], 'accuracy': 1, 'model': 'random_forest', 'feature_count': 5, 'recall': 1, 'dataset_test_size': 0.35}, python_version='3.8.3', python_packages={'parso': '0.8.1', 'cycler': '0.10.0', 'psutil': '5.8.0', 'cffi': '1.14.5', 'wcwidth': '0.2.5', 'm2cgen': '0.9.0', 'tornado': '6.1', 'joblib': '1.0.1', 'decorator': '4.4.2', 'pyparsing': '2.4.7', 'pandas': '1.2.3', 'ptyprocess': '0.7.0', 'appnope': '0.1.2', 'six': '1.15.0', 'numpy': '1.20.1', 'backcall': '0.2.0', 'keepsake': '0.4.2', 'pytz': '2021.1', 'jedi': '0.17.0', 'pygments': '2.8.1', 'traitlets': '5.0.5', 'scipy': '1.6.1', 'colorama': '0.4.4', 'statsmodels': '0.12.2', 'seaborn': '0.10.1', 'matplotlib': '3.3.4', 'pickleshare': '0.7.5', 'kiwisolver': '1.3.1', 'pexpect': '4.8.0', 'ipykernel': '5.3.4', 'ipywidgets': '7.6.3'}, keepsake_version='0.4.2', checkpoints=[Checkpoint(id='cbe53bdb8c8581f061f4fc4a8d6615cb9ff85c118d2714fc18af853075ae015d', created=datetime.datetime(2021, 6, 11, 18, 16, 25, 413427), path=None, step=0, metrics={'accurracy': 1, 'precision': 1, 'recall': 1, 'f1': 1}, primary_metric={'name': 'recall', 'goal': 'maximize'})]),\n",
       " Experiment(id='801e9111e45103b720a6bad6915e3238af0a55591455ded6f000080df3ae80ba', created=datetime.datetime(2021, 6, 11, 18, 16, 29, 230001), user='tk', host=None, command='/Users/tk/opt/miniconda3/envs/tinyml/lib/python3.8/site-packages/ipykernel_launcher.py -f /Users/tk/Library/Jupyter/runtime/kernel-dba4cf8a-dddc-479c-9340-bb00ce08d4cb.json', config={'repository': 'file:///Users/tk/projects/tinyml-esp32-data/.keepsake', 'storage': ''}, path=None, params={'other_params': 'default', 'precision': 1, 'dataset_test_size': 0.35, 'data_set': 'base', 'accuracy': 1, 'hz': 50, 'quantization': None, 'feature_count': 5, 'f1': 1, 'n_estimators': 6, 'features': ['acc_x', 'acc_y', 'acc_z', 'gyro_x', 'gyro_y'], 'model': 'random_forest', 'recall': 1}, python_version='3.8.3', python_packages={'ipykernel': '5.3.4', 'cffi': '1.14.5', 'kiwisolver': '1.3.1', 'pyparsing': '2.4.7', 'pandas': '1.2.3', 'six': '1.15.0', 'appnope': '0.1.2', 'jedi': '0.17.0', 'pickleshare': '0.7.5', 'joblib': '1.0.1', 'decorator': '4.4.2', 'keepsake': '0.4.2', 'tornado': '6.1', 'cycler': '0.10.0', 'matplotlib': '3.3.4', 'colorama': '0.4.4', 'wcwidth': '0.2.5', 'ipywidgets': '7.6.3', 'backcall': '0.2.0', 'parso': '0.8.1', 'seaborn': '0.10.1', 'pygments': '2.8.1', 'psutil': '5.8.0', 'pytz': '2021.1', 'ptyprocess': '0.7.0', 'numpy': '1.20.1', 'traitlets': '5.0.5', 'scipy': '1.6.1', 'statsmodels': '0.12.2', 'pexpect': '4.8.0', 'm2cgen': '0.9.0'}, keepsake_version='0.4.2', checkpoints=[Checkpoint(id='773d393446bbc66e0e13ebb6cb0ebaef9743a7cee947710450ff566279167544', created=datetime.datetime(2021, 6, 11, 18, 16, 29, 246075), path=None, step=0, metrics={'accurracy': 1, 'recall': 1, 'f1': 1, 'precision': 1}, primary_metric={'name': 'recall', 'goal': 'maximize'})]),\n",
       " Experiment(id='4dd608941501505ef05d2749d027ae80d273a074577c4c30173aa05b72fe5add', created=datetime.datetime(2021, 6, 11, 18, 16, 30, 348131), user='tk', host=None, command='/Users/tk/opt/miniconda3/envs/tinyml/lib/python3.8/site-packages/ipykernel_launcher.py -f /Users/tk/Library/Jupyter/runtime/kernel-dba4cf8a-dddc-479c-9340-bb00ce08d4cb.json', config={'repository': 'file:///Users/tk/projects/tinyml-esp32-data/.keepsake', 'storage': ''}, path=None, params={'n_estimators': 6, 'feature_count': 5, 'model': 'random_forest', 'dataset_test_size': 0.35, 'precision': 1, 'quantization': None, 'data_set': 'base', 'hz': 50, 'accuracy': 1, 'features': ['acc_x', 'acc_y', 'acc_z', 'gyro_x', 'gyro_z'], 'recall': 1, 'other_params': 'default', 'f1': 1}, python_version='3.8.3', python_packages={'statsmodels': '0.12.2', 'jedi': '0.17.0', 'colorama': '0.4.4', 'wcwidth': '0.2.5', 'kiwisolver': '1.3.1', 'numpy': '1.20.1', 'seaborn': '0.10.1', 'cffi': '1.14.5', 'backcall': '0.2.0', 'pexpect': '4.8.0', 'matplotlib': '3.3.4', 'pygments': '2.8.1', 'ptyprocess': '0.7.0', 'pytz': '2021.1', 'tornado': '6.1', 'six': '1.15.0', 'ipykernel': '5.3.4', 'cycler': '0.10.0', 'scipy': '1.6.1', 'pandas': '1.2.3', 'pyparsing': '2.4.7', 'decorator': '4.4.2', 'm2cgen': '0.9.0', 'traitlets': '5.0.5', 'pickleshare': '0.7.5', 'parso': '0.8.1', 'psutil': '5.8.0', 'keepsake': '0.4.2', 'ipywidgets': '7.6.3', 'appnope': '0.1.2', 'joblib': '1.0.1'}, keepsake_version='0.4.2', checkpoints=[Checkpoint(id='20197d78b8a182720636fa64d6f741520d328cf467b748ed6a77480b589bd8ab', created=datetime.datetime(2021, 6, 11, 18, 16, 30, 363491), path=None, step=0, metrics={'accurracy': 1, 'precision': 1, 'recall': 1, 'f1': 1}, primary_metric={'name': 'recall', 'goal': 'maximize'})]),\n",
       " Experiment(id='bd45d8337920173246f96e52dd9167e4edd252530624100d874dda991b4c59b9', created=datetime.datetime(2021, 6, 11, 18, 16, 31, 482641), user='tk', host=None, command='/Users/tk/opt/miniconda3/envs/tinyml/lib/python3.8/site-packages/ipykernel_launcher.py -f /Users/tk/Library/Jupyter/runtime/kernel-dba4cf8a-dddc-479c-9340-bb00ce08d4cb.json', config={'repository': 'file:///Users/tk/projects/tinyml-esp32-data/.keepsake', 'storage': ''}, path=None, params={'features': ['acc_x', 'acc_y', 'acc_z', 'gyro_x', 'gyro_y', 'gyro_z'], 'model': 'random_forest', 'quantization': None, 'data_set': 'base', 'recall': 1, 'f1': 1, 'dataset_test_size': 0.35, 'n_estimators': 5, 'accuracy': 1, 'hz': 50, 'feature_count': 6, 'other_params': 'default', 'precision': 1}, python_version='3.8.3', python_packages={'ipywidgets': '7.6.3', 'six': '1.15.0', 'tornado': '6.1', 'colorama': '0.4.4', 'kiwisolver': '1.3.1', 'jedi': '0.17.0', 'numpy': '1.20.1', 'pandas': '1.2.3', 'cffi': '1.14.5', 'm2cgen': '0.9.0', 'pyparsing': '2.4.7', 'appnope': '0.1.2', 'joblib': '1.0.1', 'pytz': '2021.1', 'ipykernel': '5.3.4', 'statsmodels': '0.12.2', 'cycler': '0.10.0', 'backcall': '0.2.0', 'seaborn': '0.10.1', 'wcwidth': '0.2.5', 'scipy': '1.6.1', 'pexpect': '4.8.0', 'matplotlib': '3.3.4', 'decorator': '4.4.2', 'pickleshare': '0.7.5', 'pygments': '2.8.1', 'ptyprocess': '0.7.0', 'traitlets': '5.0.5', 'parso': '0.8.1', 'psutil': '5.8.0', 'keepsake': '0.4.2'}, keepsake_version='0.4.2', checkpoints=[Checkpoint(id='ab6ebed51325f65b74c8c0837108984cca5cd037b20ede4095e8b76fd705ac86', created=datetime.datetime(2021, 6, 11, 18, 16, 31, 499412), path=None, step=0, metrics={'recall': 1, 'accurracy': 1, 'f1': 1, 'precision': 1}, primary_metric={'name': 'recall', 'goal': 'maximize'})])]"
      ]
     },
     "execution_count": 10,
     "metadata": {},
     "output_type": "execute_result"
    }
   ],
   "source": [
    "keepsake.experiments.list(lambda exp: exp.params['accuracy'] == 1.0 and exp.params['model'] == 'random_forest')"
   ]
  },
  {
   "cell_type": "code",
   "execution_count": 11,
   "id": "4d91cf4f-0939-4303-ad14-29762c580464",
   "metadata": {},
   "outputs": [
    {
     "data": {
      "text/html": [
       "<table><tr><th>id</th><th>created</th><th>params</th><th>latest_checkpoint</th><th>best_checkpoint</th></tr><tr><th>422cad5</th><th>2021-06-11 18:16:32.770409</th><th>{&#x27;data_set&#x27;: &#x27;base&#x27;, &#x27;feature_count&#x27;: 4, &#x27;features&#x27;: [&#x27;acc_x&#x27;, &#x27;acc_y&#x27;, &#x27;acc_z&#x27;, &#x27;gyro_x&#x27;], &#x27;precision&#x27;: 1, &#x27;accuracy&#x27;: 1, &#x27;hz&#x27;: 25, &#x27;other_params&#x27;: &#x27;default&#x27;, &#x27;quantization&#x27;: None, &#x27;n_estimators&#x27;: 4, &#x27;f1&#x27;: 1, &#x27;recall&#x27;: 1, &#x27;dataset_test_size&#x27;: 0.35, &#x27;model&#x27;: &#x27;decision_tree&#x27;}</th><th>3598ade (step 0; recall: 1)</th><th>3598ade (step 0; recall: 1)</th></tr><tr><th>7af5dfd</th><th>2021-06-11 18:16:33.820238</th><th>{&#x27;n_estimators&#x27;: 5, &#x27;precision&#x27;: 1, &#x27;recall&#x27;: 1, &#x27;features&#x27;: [&#x27;acc_x&#x27;, &#x27;acc_y&#x27;, &#x27;acc_z&#x27;, &#x27;gyro_x&#x27;], &#x27;other_params&#x27;: &#x27;default&#x27;, &#x27;model&#x27;: &#x27;decision_tree&#x27;, &#x27;quantization&#x27;: None, &#x27;accuracy&#x27;: 1, &#x27;dataset_test_size&#x27;: 0.35, &#x27;f1&#x27;: 1, &#x27;data_set&#x27;: &#x27;base&#x27;, &#x27;feature_count&#x27;: 4, &#x27;hz&#x27;: 25}</th><th>1c59282 (step 0; recall: 1)</th><th>1c59282 (step 0; recall: 1)</th></tr><tr><th>c21431e</th><th>2021-06-11 18:16:34.865517</th><th>{&#x27;features&#x27;: [&#x27;acc_x&#x27;, &#x27;acc_y&#x27;, &#x27;acc_z&#x27;, &#x27;gyro_x&#x27;], &#x27;model&#x27;: &#x27;decision_tree&#x27;, &#x27;quantization&#x27;: None, &#x27;data_set&#x27;: &#x27;base&#x27;, &#x27;hz&#x27;: 25, &#x27;dataset_test_size&#x27;: 0.35, &#x27;f1&#x27;: 1, &#x27;feature_count&#x27;: 4, &#x27;other_params&#x27;: &#x27;default&#x27;, &#x27;recall&#x27;: 1, &#x27;precision&#x27;: 1, &#x27;accuracy&#x27;: 1, &#x27;n_estimators&#x27;: 6}</th><th>8b655fc (step 0; recall: 1)</th><th>8b655fc (step 0; recall: 1)</th></tr><tr><th>7f7e49b</th><th>2021-06-11 18:16:35.910328</th><th>{&#x27;precision&#x27;: 1, &#x27;f1&#x27;: 1, &#x27;accuracy&#x27;: 1, &#x27;data_set&#x27;: &#x27;base&#x27;, &#x27;recall&#x27;: 1, &#x27;n_estimators&#x27;: 4, &#x27;model&#x27;: &#x27;decision_tree&#x27;, &#x27;dataset_test_size&#x27;: 0.35, &#x27;feature_count&#x27;: 4, &#x27;features&#x27;: [&#x27;acc_x&#x27;, &#x27;acc_y&#x27;, &#x27;acc_z&#x27;, &#x27;gyro_y&#x27;], &#x27;other_params&#x27;: &#x27;default&#x27;, &#x27;hz&#x27;: 25, &#x27;quantization&#x27;: None}</th><th>d30e6c0 (step 0; recall: 1)</th><th>d30e6c0 (step 0; recall: 1)</th></tr><tr><th>fe811f6</th><th>2021-06-11 18:16:36.961192</th><th>{&#x27;f1&#x27;: 1, &#x27;precision&#x27;: 1, &#x27;n_estimators&#x27;: 5, &#x27;data_set&#x27;: &#x27;base&#x27;, &#x27;recall&#x27;: 1, &#x27;other_params&#x27;: &#x27;default&#x27;, &#x27;feature_count&#x27;: 4, &#x27;accuracy&#x27;: 1, &#x27;model&#x27;: &#x27;decision_tree&#x27;, &#x27;dataset_test_size&#x27;: 0.35, &#x27;quantization&#x27;: None, &#x27;features&#x27;: [&#x27;acc_x&#x27;, &#x27;acc_y&#x27;, &#x27;acc_z&#x27;, &#x27;gyro_y&#x27;], &#x27;hz&#x27;: 25}</th><th>e899e1b (step 0; recall: 1)</th><th>e899e1b (step 0; recall: 1)</th></tr><tr><th>6eb4b55</th><th>2021-06-11 18:16:38.009594</th><th>{&#x27;f1&#x27;: 1, &#x27;model&#x27;: &#x27;decision_tree&#x27;, &#x27;accuracy&#x27;: 1, &#x27;feature_count&#x27;: 4, &#x27;recall&#x27;: 1, &#x27;hz&#x27;: 25, &#x27;quantization&#x27;: None, &#x27;n_estimators&#x27;: 6, &#x27;other_params&#x27;: &#x27;default&#x27;, &#x27;dataset_test_size&#x27;: 0.35, &#x27;precision&#x27;: 1, &#x27;features&#x27;: [&#x27;acc_x&#x27;, &#x27;acc_y&#x27;, &#x27;acc_z&#x27;, &#x27;gyro_y&#x27;], &#x27;data_set&#x27;: &#x27;base&#x27;}</th><th>35dfca7 (step 0; recall: 1)</th><th>35dfca7 (step 0; recall: 1)</th></tr><tr><th>c68b1db</th><th>2021-06-11 18:16:39.060393</th><th>{&#x27;other_params&#x27;: &#x27;default&#x27;, &#x27;f1&#x27;: 1, &#x27;feature_count&#x27;: 4, &#x27;features&#x27;: [&#x27;acc_x&#x27;, &#x27;acc_y&#x27;, &#x27;acc_z&#x27;, &#x27;gyro_z&#x27;], &#x27;model&#x27;: &#x27;decision_tree&#x27;, &#x27;dataset_test_size&#x27;: 0.35, &#x27;quantization&#x27;: None, &#x27;hz&#x27;: 25, &#x27;accuracy&#x27;: 1, &#x27;recall&#x27;: 1, &#x27;precision&#x27;: 1, &#x27;n_estimators&#x27;: 4, &#x27;data_set&#x27;: &#x27;base&#x27;}</th><th>170830a (step 0; recall: 1)</th><th>170830a (step 0; recall: 1)</th></tr><tr><th>76a01f4</th><th>2021-06-11 18:16:40.109861</th><th>{&#x27;recall&#x27;: 1, &#x27;f1&#x27;: 1, &#x27;model&#x27;: &#x27;decision_tree&#x27;, &#x27;accuracy&#x27;: 1, &#x27;n_estimators&#x27;: 5, &#x27;quantization&#x27;: None, &#x27;hz&#x27;: 25, &#x27;precision&#x27;: 1, &#x27;feature_count&#x27;: 4, &#x27;data_set&#x27;: &#x27;base&#x27;, &#x27;features&#x27;: [&#x27;acc_x&#x27;, &#x27;acc_y&#x27;, &#x27;acc_z&#x27;, &#x27;gyro_z&#x27;], &#x27;dataset_test_size&#x27;: 0.35, &#x27;other_params&#x27;: &#x27;default&#x27;}</th><th>1387cfe (step 0; recall: 1)</th><th>1387cfe (step 0; recall: 1)</th></tr><tr><th>b3ffc1f</th><th>2021-06-11 18:16:41.154905</th><th>{&#x27;features&#x27;: [&#x27;acc_x&#x27;, &#x27;acc_y&#x27;, &#x27;acc_z&#x27;, &#x27;gyro_z&#x27;], &#x27;hz&#x27;: 25, &#x27;quantization&#x27;: None, &#x27;accuracy&#x27;: 1, &#x27;f1&#x27;: 1, &#x27;other_params&#x27;: &#x27;default&#x27;, &#x27;precision&#x27;: 1, &#x27;data_set&#x27;: &#x27;base&#x27;, &#x27;model&#x27;: &#x27;decision_tree&#x27;, &#x27;feature_count&#x27;: 4, &#x27;dataset_test_size&#x27;: 0.35, &#x27;recall&#x27;: 1, &#x27;n_estimators&#x27;: 6}</th><th>a410ab0 (step 0; recall: 1)</th><th>a410ab0 (step 0; recall: 1)</th></tr></table>"
      ],
      "text/plain": [
       "[Experiment(id='422cad5146d0de73173c44e39bb2b0aaabad513dbb41a8eec1afcd92fbf09665', created=datetime.datetime(2021, 6, 11, 18, 16, 32, 770409), user='tk', host=None, command='/Users/tk/opt/miniconda3/envs/tinyml/lib/python3.8/site-packages/ipykernel_launcher.py -f /Users/tk/Library/Jupyter/runtime/kernel-dba4cf8a-dddc-479c-9340-bb00ce08d4cb.json', config={'repository': 'file:///Users/tk/projects/tinyml-esp32-data/.keepsake', 'storage': ''}, path=None, params={'data_set': 'base', 'feature_count': 4, 'features': ['acc_x', 'acc_y', 'acc_z', 'gyro_x'], 'precision': 1, 'accuracy': 1, 'hz': 25, 'other_params': 'default', 'quantization': None, 'n_estimators': 4, 'f1': 1, 'recall': 1, 'dataset_test_size': 0.35, 'model': 'decision_tree'}, python_version='3.8.3', python_packages={'pexpect': '4.8.0', 'decorator': '4.4.2', 'seaborn': '0.10.1', 'scipy': '1.6.1', 'tornado': '6.1', 'matplotlib': '3.3.4', 'cffi': '1.14.5', 'backcall': '0.2.0', 'pytz': '2021.1', 'pyparsing': '2.4.7', 'm2cgen': '0.9.0', 'traitlets': '5.0.5', 'wcwidth': '0.2.5', 'parso': '0.8.1', 'six': '1.15.0', 'ptyprocess': '0.7.0', 'pandas': '1.2.3', 'psutil': '5.8.0', 'appnope': '0.1.2', 'ipykernel': '5.3.4', 'numpy': '1.20.1', 'jedi': '0.17.0', 'colorama': '0.4.4', 'ipywidgets': '7.6.3', 'pygments': '2.8.1', 'joblib': '1.0.1', 'keepsake': '0.4.2', 'pickleshare': '0.7.5', 'cycler': '0.10.0', 'statsmodels': '0.12.2', 'kiwisolver': '1.3.1'}, keepsake_version='0.4.2', checkpoints=[Checkpoint(id='3598adecebad68fa5423ff02bb42465def3891a75e1840418352fd3636a78290', created=datetime.datetime(2021, 6, 11, 18, 16, 32, 780342), path=None, step=0, metrics={'precision': 1, 'f1': 1, 'accurracy': 1, 'recall': 1}, primary_metric={'name': 'recall', 'goal': 'maximize'})]),\n",
       " Experiment(id='7af5dfd877a34267567513727761a28e2c9622278bd722426461d74b84583dca', created=datetime.datetime(2021, 6, 11, 18, 16, 33, 820238), user='tk', host=None, command='/Users/tk/opt/miniconda3/envs/tinyml/lib/python3.8/site-packages/ipykernel_launcher.py -f /Users/tk/Library/Jupyter/runtime/kernel-dba4cf8a-dddc-479c-9340-bb00ce08d4cb.json', config={'repository': 'file:///Users/tk/projects/tinyml-esp32-data/.keepsake', 'storage': ''}, path=None, params={'n_estimators': 5, 'precision': 1, 'recall': 1, 'features': ['acc_x', 'acc_y', 'acc_z', 'gyro_x'], 'other_params': 'default', 'model': 'decision_tree', 'quantization': None, 'accuracy': 1, 'dataset_test_size': 0.35, 'f1': 1, 'data_set': 'base', 'feature_count': 4, 'hz': 25}, python_version='3.8.3', python_packages={'parso': '0.8.1', 'tornado': '6.1', 'colorama': '0.4.4', 'pytz': '2021.1', 'seaborn': '0.10.1', 'ipywidgets': '7.6.3', 'traitlets': '5.0.5', 'm2cgen': '0.9.0', 'appnope': '0.1.2', 'pickleshare': '0.7.5', 'jedi': '0.17.0', 'cycler': '0.10.0', 'psutil': '5.8.0', 'wcwidth': '0.2.5', 'ipykernel': '5.3.4', 'kiwisolver': '1.3.1', 'six': '1.15.0', 'statsmodels': '0.12.2', 'pexpect': '4.8.0', 'pyparsing': '2.4.7', 'decorator': '4.4.2', 'numpy': '1.20.1', 'keepsake': '0.4.2', 'pygments': '2.8.1', 'cffi': '1.14.5', 'pandas': '1.2.3', 'ptyprocess': '0.7.0', 'scipy': '1.6.1', 'joblib': '1.0.1', 'matplotlib': '3.3.4', 'backcall': '0.2.0'}, keepsake_version='0.4.2', checkpoints=[Checkpoint(id='1c59282742efb0bf4ffdf3d185c8c40bef6fd486bfb22283f9db79afdafbcbe5', created=datetime.datetime(2021, 6, 11, 18, 16, 33, 829191), path=None, step=0, metrics={'precision': 1, 'recall': 1, 'f1': 1, 'accurracy': 1}, primary_metric={'name': 'recall', 'goal': 'maximize'})]),\n",
       " Experiment(id='c21431e9dd6b82b3fe398480dc85fe7dece1e1453d3e40560106f8ac3d35ddc5', created=datetime.datetime(2021, 6, 11, 18, 16, 34, 865517), user='tk', host=None, command='/Users/tk/opt/miniconda3/envs/tinyml/lib/python3.8/site-packages/ipykernel_launcher.py -f /Users/tk/Library/Jupyter/runtime/kernel-dba4cf8a-dddc-479c-9340-bb00ce08d4cb.json', config={'repository': 'file:///Users/tk/projects/tinyml-esp32-data/.keepsake', 'storage': ''}, path=None, params={'features': ['acc_x', 'acc_y', 'acc_z', 'gyro_x'], 'model': 'decision_tree', 'quantization': None, 'data_set': 'base', 'hz': 25, 'dataset_test_size': 0.35, 'f1': 1, 'feature_count': 4, 'other_params': 'default', 'recall': 1, 'precision': 1, 'accuracy': 1, 'n_estimators': 6}, python_version='3.8.3', python_packages={'pygments': '2.8.1', 'seaborn': '0.10.1', 'kiwisolver': '1.3.1', 'keepsake': '0.4.2', 'matplotlib': '3.3.4', 'six': '1.15.0', 'appnope': '0.1.2', 'tornado': '6.1', 'm2cgen': '0.9.0', 'numpy': '1.20.1', 'ipykernel': '5.3.4', 'colorama': '0.4.4', 'parso': '0.8.1', 'backcall': '0.2.0', 'ipywidgets': '7.6.3', 'wcwidth': '0.2.5', 'joblib': '1.0.1', 'jedi': '0.17.0', 'decorator': '4.4.2', 'scipy': '1.6.1', 'pyparsing': '2.4.7', 'pexpect': '4.8.0', 'cycler': '0.10.0', 'pytz': '2021.1', 'ptyprocess': '0.7.0', 'pandas': '1.2.3', 'pickleshare': '0.7.5', 'traitlets': '5.0.5', 'statsmodels': '0.12.2', 'psutil': '5.8.0', 'cffi': '1.14.5'}, keepsake_version='0.4.2', checkpoints=[Checkpoint(id='8b655fc9f56ebd0156642f6a3c94cc4341d93d4b0196e05a876e82c04c064fc0', created=datetime.datetime(2021, 6, 11, 18, 16, 34, 872326), path=None, step=0, metrics={'precision': 1, 'f1': 1, 'accurracy': 1, 'recall': 1}, primary_metric={'name': 'recall', 'goal': 'maximize'})]),\n",
       " Experiment(id='7f7e49bab7c09af0127e8a968a95e5c97c73845dc5f990dbed8f18884237caca', created=datetime.datetime(2021, 6, 11, 18, 16, 35, 910328), user='tk', host=None, command='/Users/tk/opt/miniconda3/envs/tinyml/lib/python3.8/site-packages/ipykernel_launcher.py -f /Users/tk/Library/Jupyter/runtime/kernel-dba4cf8a-dddc-479c-9340-bb00ce08d4cb.json', config={'repository': 'file:///Users/tk/projects/tinyml-esp32-data/.keepsake', 'storage': ''}, path=None, params={'precision': 1, 'f1': 1, 'accuracy': 1, 'data_set': 'base', 'recall': 1, 'n_estimators': 4, 'model': 'decision_tree', 'dataset_test_size': 0.35, 'feature_count': 4, 'features': ['acc_x', 'acc_y', 'acc_z', 'gyro_y'], 'other_params': 'default', 'hz': 25, 'quantization': None}, python_version='3.8.3', python_packages={'psutil': '5.8.0', 'pytz': '2021.1', 'decorator': '4.4.2', 'joblib': '1.0.1', 'traitlets': '5.0.5', 'colorama': '0.4.4', 'statsmodels': '0.12.2', 'kiwisolver': '1.3.1', 'keepsake': '0.4.2', 'jedi': '0.17.0', 'cycler': '0.10.0', 'seaborn': '0.10.1', 'numpy': '1.20.1', 'pexpect': '4.8.0', 'pandas': '1.2.3', 'pygments': '2.8.1', 'pickleshare': '0.7.5', 'pyparsing': '2.4.7', 'appnope': '0.1.2', 'ptyprocess': '0.7.0', 'six': '1.15.0', 'wcwidth': '0.2.5', 'm2cgen': '0.9.0', 'tornado': '6.1', 'cffi': '1.14.5', 'ipywidgets': '7.6.3', 'parso': '0.8.1', 'ipykernel': '5.3.4', 'matplotlib': '3.3.4', 'backcall': '0.2.0', 'scipy': '1.6.1'}, keepsake_version='0.4.2', checkpoints=[Checkpoint(id='d30e6c00d7c61e4f24589049c105cd719ffc9d0ccb2f60358726777eb4926dee', created=datetime.datetime(2021, 6, 11, 18, 16, 35, 919371), path=None, step=0, metrics={'accurracy': 1, 'f1': 1, 'recall': 1, 'precision': 1}, primary_metric={'name': 'recall', 'goal': 'maximize'})]),\n",
       " Experiment(id='fe811f601c4a5bbac9c1eca1563c4b69e9e59cd03a737d3b3e24320b82fe9624', created=datetime.datetime(2021, 6, 11, 18, 16, 36, 961192), user='tk', host=None, command='/Users/tk/opt/miniconda3/envs/tinyml/lib/python3.8/site-packages/ipykernel_launcher.py -f /Users/tk/Library/Jupyter/runtime/kernel-dba4cf8a-dddc-479c-9340-bb00ce08d4cb.json', config={'repository': 'file:///Users/tk/projects/tinyml-esp32-data/.keepsake', 'storage': ''}, path=None, params={'f1': 1, 'precision': 1, 'n_estimators': 5, 'data_set': 'base', 'recall': 1, 'other_params': 'default', 'feature_count': 4, 'accuracy': 1, 'model': 'decision_tree', 'dataset_test_size': 0.35, 'quantization': None, 'features': ['acc_x', 'acc_y', 'acc_z', 'gyro_y'], 'hz': 25}, python_version='3.8.3', python_packages={'joblib': '1.0.1', 'jedi': '0.17.0', 'appnope': '0.1.2', 'decorator': '4.4.2', 'keepsake': '0.4.2', 'tornado': '6.1', 'ptyprocess': '0.7.0', 'parso': '0.8.1', 'wcwidth': '0.2.5', 'traitlets': '5.0.5', 'pexpect': '4.8.0', 'six': '1.15.0', 'psutil': '5.8.0', 'pygments': '2.8.1', 'colorama': '0.4.4', 'seaborn': '0.10.1', 'cycler': '0.10.0', 'cffi': '1.14.5', 'pickleshare': '0.7.5', 'ipywidgets': '7.6.3', 'scipy': '1.6.1', 'matplotlib': '3.3.4', 'ipykernel': '5.3.4', 'm2cgen': '0.9.0', 'numpy': '1.20.1', 'statsmodels': '0.12.2', 'kiwisolver': '1.3.1', 'backcall': '0.2.0', 'pytz': '2021.1', 'pandas': '1.2.3', 'pyparsing': '2.4.7'}, keepsake_version='0.4.2', checkpoints=[Checkpoint(id='e899e1bb6174b50b5a970d86e987a2071071405a7c077cd642d5e42d68a5067f', created=datetime.datetime(2021, 6, 11, 18, 16, 36, 968874), path=None, step=0, metrics={'precision': 1, 'f1': 1, 'accurracy': 1, 'recall': 1}, primary_metric={'name': 'recall', 'goal': 'maximize'})]),\n",
       " Experiment(id='6eb4b55bc88a320c68967d6d7b1b6e6c615db0992bdd81746d0710abdf550bd8', created=datetime.datetime(2021, 6, 11, 18, 16, 38, 9594), user='tk', host=None, command='/Users/tk/opt/miniconda3/envs/tinyml/lib/python3.8/site-packages/ipykernel_launcher.py -f /Users/tk/Library/Jupyter/runtime/kernel-dba4cf8a-dddc-479c-9340-bb00ce08d4cb.json', config={'repository': 'file:///Users/tk/projects/tinyml-esp32-data/.keepsake', 'storage': ''}, path=None, params={'f1': 1, 'model': 'decision_tree', 'accuracy': 1, 'feature_count': 4, 'recall': 1, 'hz': 25, 'quantization': None, 'n_estimators': 6, 'other_params': 'default', 'dataset_test_size': 0.35, 'precision': 1, 'features': ['acc_x', 'acc_y', 'acc_z', 'gyro_y'], 'data_set': 'base'}, python_version='3.8.3', python_packages={'matplotlib': '3.3.4', 'numpy': '1.20.1', 'kiwisolver': '1.3.1', 'six': '1.15.0', 'wcwidth': '0.2.5', 'ptyprocess': '0.7.0', 'pandas': '1.2.3', 'scipy': '1.6.1', 'pyparsing': '2.4.7', 'pygments': '2.8.1', 'appnope': '0.1.2', 'traitlets': '5.0.5', 'tornado': '6.1', 'pytz': '2021.1', 'psutil': '5.8.0', 'jedi': '0.17.0', 'm2cgen': '0.9.0', 'backcall': '0.2.0', 'ipywidgets': '7.6.3', 'cffi': '1.14.5', 'parso': '0.8.1', 'joblib': '1.0.1', 'keepsake': '0.4.2', 'statsmodels': '0.12.2', 'cycler': '0.10.0', 'pickleshare': '0.7.5', 'colorama': '0.4.4', 'decorator': '4.4.2', 'seaborn': '0.10.1', 'pexpect': '4.8.0', 'ipykernel': '5.3.4'}, keepsake_version='0.4.2', checkpoints=[Checkpoint(id='35dfca7b2e946bccfbf86c0a317f5da00e548302d3386bbab162f5c91c3cdf95', created=datetime.datetime(2021, 6, 11, 18, 16, 38, 18728), path=None, step=0, metrics={'recall': 1, 'precision': 1, 'accurracy': 1, 'f1': 1}, primary_metric={'name': 'recall', 'goal': 'maximize'})]),\n",
       " Experiment(id='c68b1dba0559ac8837399397ff4f0a1dffd5ace711d46c243c3057a279a883fc', created=datetime.datetime(2021, 6, 11, 18, 16, 39, 60393), user='tk', host=None, command='/Users/tk/opt/miniconda3/envs/tinyml/lib/python3.8/site-packages/ipykernel_launcher.py -f /Users/tk/Library/Jupyter/runtime/kernel-dba4cf8a-dddc-479c-9340-bb00ce08d4cb.json', config={'repository': 'file:///Users/tk/projects/tinyml-esp32-data/.keepsake', 'storage': ''}, path=None, params={'other_params': 'default', 'f1': 1, 'feature_count': 4, 'features': ['acc_x', 'acc_y', 'acc_z', 'gyro_z'], 'model': 'decision_tree', 'dataset_test_size': 0.35, 'quantization': None, 'hz': 25, 'accuracy': 1, 'recall': 1, 'precision': 1, 'n_estimators': 4, 'data_set': 'base'}, python_version='3.8.3', python_packages={'parso': '0.8.1', 'appnope': '0.1.2', 'tornado': '6.1', 'pygments': '2.8.1', 'cffi': '1.14.5', 'numpy': '1.20.1', 'statsmodels': '0.12.2', 'traitlets': '5.0.5', 'ipykernel': '5.3.4', 'm2cgen': '0.9.0', 'joblib': '1.0.1', 'six': '1.15.0', 'keepsake': '0.4.2', 'pickleshare': '0.7.5', 'cycler': '0.10.0', 'backcall': '0.2.0', 'kiwisolver': '1.3.1', 'scipy': '1.6.1', 'pandas': '1.2.3', 'decorator': '4.4.2', 'ipywidgets': '7.6.3', 'pexpect': '4.8.0', 'colorama': '0.4.4', 'pyparsing': '2.4.7', 'seaborn': '0.10.1', 'wcwidth': '0.2.5', 'psutil': '5.8.0', 'ptyprocess': '0.7.0', 'pytz': '2021.1', 'matplotlib': '3.3.4', 'jedi': '0.17.0'}, keepsake_version='0.4.2', checkpoints=[Checkpoint(id='170830a2afdae1628c77a44ecd74572282cbc03936e4fbc2498f1481a416ee2e', created=datetime.datetime(2021, 6, 11, 18, 16, 39, 70214), path=None, step=0, metrics={'precision': 1, 'accurracy': 1, 'recall': 1, 'f1': 1}, primary_metric={'name': 'recall', 'goal': 'maximize'})]),\n",
       " Experiment(id='76a01f4fe2760e9fb8f5c0a682924678fd27164b4b212eb90b686e74fb94d05c', created=datetime.datetime(2021, 6, 11, 18, 16, 40, 109861), user='tk', host=None, command='/Users/tk/opt/miniconda3/envs/tinyml/lib/python3.8/site-packages/ipykernel_launcher.py -f /Users/tk/Library/Jupyter/runtime/kernel-dba4cf8a-dddc-479c-9340-bb00ce08d4cb.json', config={'repository': 'file:///Users/tk/projects/tinyml-esp32-data/.keepsake', 'storage': ''}, path=None, params={'recall': 1, 'f1': 1, 'model': 'decision_tree', 'accuracy': 1, 'n_estimators': 5, 'quantization': None, 'hz': 25, 'precision': 1, 'feature_count': 4, 'data_set': 'base', 'features': ['acc_x', 'acc_y', 'acc_z', 'gyro_z'], 'dataset_test_size': 0.35, 'other_params': 'default'}, python_version='3.8.3', python_packages={'pytz': '2021.1', 'cycler': '0.10.0', 'pickleshare': '0.7.5', 'jedi': '0.17.0', 'backcall': '0.2.0', 'scipy': '1.6.1', 'six': '1.15.0', 'psutil': '5.8.0', 'ptyprocess': '0.7.0', 'pandas': '1.2.3', 'pyparsing': '2.4.7', 'keepsake': '0.4.2', 'parso': '0.8.1', 'traitlets': '5.0.5', 'ipykernel': '5.3.4', 'pexpect': '4.8.0', 'appnope': '0.1.2', 'ipywidgets': '7.6.3', 'wcwidth': '0.2.5', 'matplotlib': '3.3.4', 'pygments': '2.8.1', 'm2cgen': '0.9.0', 'numpy': '1.20.1', 'joblib': '1.0.1', 'statsmodels': '0.12.2', 'decorator': '4.4.2', 'kiwisolver': '1.3.1', 'tornado': '6.1', 'seaborn': '0.10.1', 'cffi': '1.14.5', 'colorama': '0.4.4'}, keepsake_version='0.4.2', checkpoints=[Checkpoint(id='1387cfe49d96dc16b37bd2b6dc6cd1c75c0bc249babde55dd57a6f74fbf4715a', created=datetime.datetime(2021, 6, 11, 18, 16, 40, 119681), path=None, step=0, metrics={'f1': 1, 'precision': 1, 'accurracy': 1, 'recall': 1}, primary_metric={'name': 'recall', 'goal': 'maximize'})]),\n",
       " Experiment(id='b3ffc1f9ab50fb0720362a941baa78c359c091d8bb237ac02535f0331ff24da2', created=datetime.datetime(2021, 6, 11, 18, 16, 41, 154905), user='tk', host=None, command='/Users/tk/opt/miniconda3/envs/tinyml/lib/python3.8/site-packages/ipykernel_launcher.py -f /Users/tk/Library/Jupyter/runtime/kernel-dba4cf8a-dddc-479c-9340-bb00ce08d4cb.json', config={'repository': 'file:///Users/tk/projects/tinyml-esp32-data/.keepsake', 'storage': ''}, path=None, params={'features': ['acc_x', 'acc_y', 'acc_z', 'gyro_z'], 'hz': 25, 'quantization': None, 'accuracy': 1, 'f1': 1, 'other_params': 'default', 'precision': 1, 'data_set': 'base', 'model': 'decision_tree', 'feature_count': 4, 'dataset_test_size': 0.35, 'recall': 1, 'n_estimators': 6}, python_version='3.8.3', python_packages={'backcall': '0.2.0', 'scipy': '1.6.1', 'appnope': '0.1.2', 'parso': '0.8.1', 'cffi': '1.14.5', 'tornado': '6.1', 'traitlets': '5.0.5', 'pyparsing': '2.4.7', 'seaborn': '0.10.1', 'jedi': '0.17.0', 'ptyprocess': '0.7.0', 'cycler': '0.10.0', 'ipykernel': '5.3.4', 'pandas': '1.2.3', 'six': '1.15.0', 'statsmodels': '0.12.2', 'ipywidgets': '7.6.3', 'pytz': '2021.1', 'pexpect': '4.8.0', 'pickleshare': '0.7.5', 'colorama': '0.4.4', 'psutil': '5.8.0', 'wcwidth': '0.2.5', 'pygments': '2.8.1', 'm2cgen': '0.9.0', 'decorator': '4.4.2', 'joblib': '1.0.1', 'matplotlib': '3.3.4', 'kiwisolver': '1.3.1', 'numpy': '1.20.1', 'keepsake': '0.4.2'}, keepsake_version='0.4.2', checkpoints=[Checkpoint(id='a410ab0513cb9432fc9936e8ac7c36442980c447e5d7abe05cea9798f45a1d8f', created=datetime.datetime(2021, 6, 11, 18, 16, 41, 164403), path=None, step=0, metrics={'f1': 1, 'accurracy': 1, 'precision': 1, 'recall': 1}, primary_metric={'name': 'recall', 'goal': 'maximize'})])]"
      ]
     },
     "execution_count": 11,
     "metadata": {},
     "output_type": "execute_result"
    }
   ],
   "source": [
    "keepsake.experiments.list(lambda exp: exp.params['accuracy'] == 1.0 and exp.params['model'] == 'decision_tree')"
   ]
  },
  {
   "cell_type": "code",
   "execution_count": null,
   "id": "635c4198-20fa-43fb-8cd1-77565abd21b4",
   "metadata": {},
   "outputs": [],
   "source": []
  }
 ],
 "metadata": {
  "kernelspec": {
   "display_name": "Python 3",
   "language": "python",
   "name": "python3"
  },
  "language_info": {
   "codemirror_mode": {
    "name": "ipython",
    "version": 3
   },
   "file_extension": ".py",
   "mimetype": "text/x-python",
   "name": "python",
   "nbconvert_exporter": "python",
   "pygments_lexer": "ipython3",
   "version": "3.8.3"
  }
 },
 "nbformat": 4,
 "nbformat_minor": 5
}
