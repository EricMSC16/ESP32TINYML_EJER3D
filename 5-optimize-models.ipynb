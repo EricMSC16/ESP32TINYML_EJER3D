{
 "cells": [
  {
   "cell_type": "code",
   "execution_count": 1,
   "id": "d5496ad0-171f-4129-9717-d7183c12a226",
   "metadata": {},
   "outputs": [],
   "source": [
    "import pandas as pd\n",
    "import keepsake\n",
    "import numpy as np\n",
    "import scipy.stats as stats\n",
    "\n",
    "import seaborn as sns\n",
    "import matplotlib.pyplot as plt\n",
    "import matplotlib.patches as mpatches\n",
    "\n",
    "plt.style.use('ggplot')\n",
    "\n",
    "%matplotlib inline"
   ]
  },
  {
   "cell_type": "code",
   "execution_count": 2,
   "id": "fcb2ce55-17e7-4118-b9c4-f73f85d7f453",
   "metadata": {},
   "outputs": [],
   "source": [
    "# only need to be run once to initialize\n",
    "\n",
    "# ! echo 'repository: \"file://.keepsake\"' > keepsake.yaml "
   ]
  },
  {
   "cell_type": "code",
   "execution_count": 3,
   "id": "fce3a27d-e892-48a5-bbf2-c7c2498fec5a",
   "metadata": {},
   "outputs": [
    {
     "data": {
      "text/plain": [
       "['acc_x|acc_y|acc_z|gyro_x|label',\n",
       " 'acc_x|acc_y|acc_z|gyro_y|label',\n",
       " 'acc_x|acc_y|acc_z|gyro_z|label',\n",
       " 'acc_x|acc_y|acc_z|gyro_x|gyro_y|label',\n",
       " 'acc_x|acc_y|acc_z|gyro_x|gyro_z|label',\n",
       " 'acc_x|acc_y|acc_z|gyro_y|gyro_z|label',\n",
       " 'acc_x|acc_y|acc_z|gyro_x|gyro_y|gyro_z|label']"
      ]
     },
     "execution_count": 3,
     "metadata": {},
     "output_type": "execute_result"
    }
   ],
   "source": [
    "# Generate combinations\n",
    "from itertools import combinations\n",
    "\n",
    "comb_list = []\n",
    "\n",
    "for features in [1,2,3]:\n",
    "    for com in combinations(['gyro_x','gyro_y','gyro_z'], features):\n",
    "        comb_list.append(f'acc_x|acc_y|acc_z|{\"|\".join(list(com))}|label')\n",
    "comb_list"
   ]
  },
  {
   "cell_type": "code",
   "execution_count": 4,
   "id": "d9f78b11-d400-4747-9126-5e51e1fae68d",
   "metadata": {},
   "outputs": [],
   "source": [
    "# df_10hz = pd.read_csv('data/transformed/20210529_v2_data_all_10hz.csv')\n",
    "df_20hz = pd.read_csv('data/transformed/20210529_v2_data_all_20hz.csv')\n",
    "df_25hz = pd.read_csv('data/transformed/20210529_v2_data_all_25hz.csv')\n",
    "df_50hz = pd.read_csv('data/transformed/20210529_v2_data_all_50hz.csv')\n",
    "# df_100hz = pd.read_csv('data/transformed/20210529_v2_data_all_100hz.csv')"
   ]
  },
  {
   "cell_type": "code",
   "execution_count": 5,
   "id": "436c4c2d-cbfe-4cd5-9935-6b1defe98e40",
   "metadata": {},
   "outputs": [],
   "source": [
    "def get_df_base(df):\n",
    "    df = df[(df['shift'] == 0)]\n",
    "    return df.dropna(axis=0)"
   ]
  },
  {
   "cell_type": "code",
   "execution_count": 6,
   "id": "85b89658-7498-4472-9cc1-ec9b3b49edbf",
   "metadata": {},
   "outputs": [],
   "source": [
    "df_20hz = get_df_base(df_20hz)\n",
    "df_25hz = get_df_base(df_25hz)\n",
    "df_50hz = get_df_base(df_50hz)"
   ]
  },
  {
   "cell_type": "code",
   "execution_count": 7,
   "id": "da67e2b5-3f74-46e4-a329-c30618d78d20",
   "metadata": {},
   "outputs": [],
   "source": [
    "def save_model_optimized(classifier, stage, dataset, model_type, exp_id):\n",
    "    '''\n",
    "        Saves model to defined folder.\n",
    "\n",
    "        stage - baseline/optimized\n",
    "        dataset - base/centered/end/etc\n",
    "        model_types - decision_tree, random_forest, ...\n",
    "        hz - frequency\n",
    "    '''\n",
    "\n",
    "    import os\n",
    "    import m2cgen as m2c\n",
    "    \n",
    "    BASE_PATH = f'models/{stage}/{dataset}/{model_type}/'\n",
    "    FILE_NAME = f'{model_type}_{exp_id}.py'\n",
    "\n",
    "    if not os.path.exists(BASE_PATH):\n",
    "        os.makedirs(BASE_PATH)\n",
    "\n",
    "    code = m2c.export_to_python(classifier)\n",
    "    with open(BASE_PATH + FILE_NAME, 'w') as f:\n",
    "        f.writelines(code)"
   ]
  },
  {
   "cell_type": "code",
   "execution_count": 8,
   "id": "72b8e812-b131-48bc-8688-5fd0e1556ac8",
   "metadata": {},
   "outputs": [
    {
     "name": "stderr",
     "output_type": "stream",
     "text": [
      "\u001b[2m═══╡ \u001b[0mCreating experiment 5ee0933...\n",
      "\u001b[2m═══╡ \u001b[0mCreating checkpoint 6b64329...\n"
     ]
    },
    {
     "name": "stdout",
     "output_type": "stream",
     "text": [
      "Signals: ['acc_x', 'acc_y', 'acc_z', 'gyro_x', 'gyro_y'] @ 20 >> Acc: 1.0, Prec: 1.0, Recall: 1.0\n",
      "Signals: ['acc_x', 'acc_y', 'acc_z', 'gyro_x', 'gyro_y'] @ 20 >> Acc: 1.0, Prec: 1.0, Recall: 1.0\n"
     ]
    },
    {
     "name": "stderr",
     "output_type": "stream",
     "text": [
      "\u001b[2m═══╡ \u001b[0mCreating experiment 3705b82...\n",
      "\u001b[2m═══╡ \u001b[0mCreating checkpoint a696a16...\n"
     ]
    },
    {
     "name": "stdout",
     "output_type": "stream",
     "text": [
      "Signals: ['acc_x', 'acc_y', 'acc_z', 'gyro_x', 'gyro_y'] @ 20 >> Acc: 1.0, Prec: 1.0, Recall: 1.0\n"
     ]
    },
    {
     "name": "stderr",
     "output_type": "stream",
     "text": [
      "\u001b[2m═══╡ \u001b[0mCreating experiment d75f1ea...\n",
      "\u001b[2m═══╡ \u001b[0mCreating checkpoint f90d0e8...\n"
     ]
    },
    {
     "name": "stdout",
     "output_type": "stream",
     "text": [
      "Signals: ['acc_x', 'acc_y', 'acc_z', 'gyro_x', 'gyro_z'] @ 20 >> Acc: 1.0, Prec: 1.0, Recall: 1.0\n"
     ]
    },
    {
     "name": "stderr",
     "output_type": "stream",
     "text": [
      "\u001b[2m═══╡ \u001b[0mCreating experiment 4d9ba42...\n",
      "\u001b[2m═══╡ \u001b[0mCreating checkpoint 888b2c1...\n"
     ]
    },
    {
     "name": "stdout",
     "output_type": "stream",
     "text": [
      "Signals: ['acc_x', 'acc_y', 'acc_z', 'gyro_x', 'gyro_y', 'gyro_z'] @ 25 >> Acc: 0.9875, Prec: 0.984375, Recall: 0.9924242424242424\n"
     ]
    },
    {
     "name": "stderr",
     "output_type": "stream",
     "text": [
      "\u001b[2m═══╡ \u001b[0mCreating experiment 706aea9...\n",
      "\u001b[2m═══╡ \u001b[0mCreating checkpoint 166e4e7...\n"
     ]
    },
    {
     "name": "stdout",
     "output_type": "stream",
     "text": [
      "Signals: ['acc_x', 'acc_y', 'acc_z', 'gyro_x', 'gyro_y', 'gyro_z'] @ 25 >> Acc: 0.9875, Prec: 0.984375, Recall: 0.9924242424242424\n"
     ]
    },
    {
     "name": "stderr",
     "output_type": "stream",
     "text": [
      "\u001b[2m═══╡ \u001b[0mCreating experiment e228c03...\n",
      "\u001b[2m═══╡ \u001b[0mCreating checkpoint b63dacf...\n"
     ]
    },
    {
     "name": "stdout",
     "output_type": "stream",
     "text": [
      "Signals: ['acc_x', 'acc_y', 'acc_z', 'gyro_x', 'gyro_y'] @ 50 >> Acc: 1.0, Prec: 1.0, Recall: 1.0\n"
     ]
    },
    {
     "name": "stderr",
     "output_type": "stream",
     "text": [
      "\u001b[2m═══╡ \u001b[0mCreating experiment 0136ff8...\n",
      "\u001b[2m═══╡ \u001b[0mCreating checkpoint ee5c849...\n"
     ]
    },
    {
     "name": "stdout",
     "output_type": "stream",
     "text": [
      "Signals: ['acc_x', 'acc_y', 'acc_z', 'gyro_x', 'gyro_z'] @ 50 >> Acc: 1.0, Prec: 1.0, Recall: 1.0\n"
     ]
    },
    {
     "name": "stderr",
     "output_type": "stream",
     "text": [
      "\u001b[2m═══╡ \u001b[0mCreating experiment a8bc105...\n",
      "\u001b[2m═══╡ \u001b[0mCreating checkpoint 82ed6d8...\n"
     ]
    },
    {
     "name": "stdout",
     "output_type": "stream",
     "text": [
      "Signals: ['acc_x', 'acc_y', 'acc_z', 'gyro_x', 'gyro_y', 'gyro_z'] @ 50 >> Acc: 1.0, Prec: 1.0, Recall: 1.0\n"
     ]
    },
    {
     "name": "stderr",
     "output_type": "stream",
     "text": [
      "\u001b[2m═══╡ \u001b[0mCreating experiment 1a919a5...\n",
      "\u001b[2m═══╡ \u001b[0mCreating checkpoint b9d7531...\n"
     ]
    }
   ],
   "source": [
    "from sklearn.model_selection import train_test_split\n",
    "from sklearn.ensemble import RandomForestClassifier\n",
    "\n",
    "from sklearn import metrics\n",
    "\n",
    "is_save_model=True\n",
    "model_type = 'random_forest'\n",
    "stage='optimized'\n",
    "dataset='base'\n",
    "quantization=None\n",
    "\n",
    "cutoff=0.99\n",
    "dataset_test_sizes = [0.35]\n",
    "datasets_setup = [(df_20hz, 20), (df_25hz, 25), (df_50hz, 50)]\n",
    "\n",
    "for df_t in datasets_setup:\n",
    "    for comb in comb_list:\n",
    "        for dataset_test_size in dataset_test_sizes:\n",
    "            df_filtered = df_t[0].filter(regex=comb)\n",
    "            X_train, X_test, y_train, y_test = train_test_split(\n",
    "                df_filtered.drop('label',axis=1), df_filtered['label'], test_size=dataset_test_size, random_state=42)\n",
    "\n",
    "            for estimators in [4,5,6]:\n",
    "                clf = RandomForestClassifier(n_jobs=-1, n_estimators=estimators, random_state=42)\n",
    "                clf.fit(X_train, y_train)\n",
    "\n",
    "                y_pred = clf.predict(X_test)\n",
    "\n",
    "                accuracy = metrics.accuracy_score(y_test, y_pred)\n",
    "                f1 = metrics.f1_score(y_test, y_pred, average='macro')\n",
    "                precision = metrics.precision_score(y_test, y_pred, average='macro')\n",
    "                recall = metrics.recall_score(y_test, y_pred, average='macro')\n",
    "\n",
    "                if recall > cutoff:\n",
    "                    signals = comb.replace('|label','').split('|')\n",
    "                    print(f\"Signals: {signals} @ {df_t[1]} >> Acc: {accuracy}, Prec: {precision}, Recall: {recall}\")\n",
    "                    \n",
    "                    if is_save_model:\n",
    "                        experiment = keepsake.init(\n",
    "                            params={\n",
    "                                'model':model_type,\n",
    "                                'features': signals,\n",
    "                                'feature_count': len(signals),\n",
    "                                'n_estimators': estimators,\n",
    "                                'dataset_test_size': dataset_test_size,\n",
    "                                'hz':df_t[1],\n",
    "                                'data_set':dataset,\n",
    "                                'quantization': quantization,\n",
    "                                'other_params': 'default',\n",
    "                                'accuracy': accuracy,\n",
    "                                'precision':precision,\n",
    "                                'recall':recall,\n",
    "                                'f1':f1\n",
    "                                })\n",
    "\n",
    "                        path = save_model_optimized(clf, stage=stage, dataset=dataset, model_type=model_type, exp_id=experiment.id[:7])\n",
    "\n",
    "                        experiment.checkpoint(\n",
    "                            path=path,\n",
    "                            metrics={\"accurracy\":accuracy, \"f1\": f1, \"precision\": precision, \"recall\": recall},\n",
    "                            primary_metric=(\"recall\",\"maximize\")\n",
    "                        )\n",
    "                        experiment.stop()"
   ]
  },
  {
   "cell_type": "code",
   "execution_count": 9,
   "id": "435617da-f4f7-4e3e-8611-8c1158174eeb",
   "metadata": {},
   "outputs": [
    {
     "name": "stdout",
     "output_type": "stream",
     "text": [
      "Signals: ['acc_x', 'acc_y', 'acc_z', 'gyro_x'] @ 25 >> Acc: 1.0, Prec: 1.0, Recall: 1.0\n"
     ]
    },
    {
     "name": "stderr",
     "output_type": "stream",
     "text": [
      "\u001b[2m═══╡ \u001b[0mCreating experiment 55a187f...\n",
      "\u001b[2m═══╡ \u001b[0mCreating checkpoint f657040...\n"
     ]
    },
    {
     "name": "stdout",
     "output_type": "stream",
     "text": [
      "Signals: ['acc_x', 'acc_y', 'acc_z', 'gyro_x'] @ 25 >> Acc: 1.0, Prec: 1.0, Recall: 1.0\n"
     ]
    },
    {
     "name": "stderr",
     "output_type": "stream",
     "text": [
      "\u001b[2m═══╡ \u001b[0mCreating experiment 4e9abf7...\n",
      "\u001b[2m═══╡ \u001b[0mCreating checkpoint 6b901ac...\n"
     ]
    },
    {
     "name": "stdout",
     "output_type": "stream",
     "text": [
      "Signals: ['acc_x', 'acc_y', 'acc_z', 'gyro_x'] @ 25 >> Acc: 1.0, Prec: 1.0, Recall: 1.0\n"
     ]
    },
    {
     "name": "stderr",
     "output_type": "stream",
     "text": [
      "\u001b[2m═══╡ \u001b[0mCreating experiment a619ed2...\n",
      "\u001b[2m═══╡ \u001b[0mCreating checkpoint ec9b383...\n"
     ]
    },
    {
     "name": "stdout",
     "output_type": "stream",
     "text": [
      "Signals: ['acc_x', 'acc_y', 'acc_z', 'gyro_y'] @ 25 >> Acc: 1.0, Prec: 1.0, Recall: 1.0\n"
     ]
    },
    {
     "name": "stderr",
     "output_type": "stream",
     "text": [
      "\u001b[2m═══╡ \u001b[0mCreating experiment 8e89dfc...\n",
      "\u001b[2m═══╡ \u001b[0mCreating checkpoint a4a74b1...\n"
     ]
    },
    {
     "name": "stdout",
     "output_type": "stream",
     "text": [
      "Signals: ['acc_x', 'acc_y', 'acc_z', 'gyro_y'] @ 25 >> Acc: 1.0, Prec: 1.0, Recall: 1.0\n"
     ]
    },
    {
     "name": "stderr",
     "output_type": "stream",
     "text": [
      "\u001b[2m═══╡ \u001b[0mCreating experiment 6a6868f...\n",
      "\u001b[2m═══╡ \u001b[0mCreating checkpoint b86968a...\n"
     ]
    },
    {
     "name": "stdout",
     "output_type": "stream",
     "text": [
      "Signals: ['acc_x', 'acc_y', 'acc_z', 'gyro_y'] @ 25 >> Acc: 1.0, Prec: 1.0, Recall: 1.0\n"
     ]
    },
    {
     "name": "stderr",
     "output_type": "stream",
     "text": [
      "\u001b[2m═══╡ \u001b[0mCreating experiment 3dab78c...\n",
      "\u001b[2m═══╡ \u001b[0mCreating checkpoint 9e2831a...\n"
     ]
    },
    {
     "name": "stdout",
     "output_type": "stream",
     "text": [
      "Signals: ['acc_x', 'acc_y', 'acc_z', 'gyro_z'] @ 25 >> Acc: 1.0, Prec: 1.0, Recall: 1.0\n"
     ]
    },
    {
     "name": "stderr",
     "output_type": "stream",
     "text": [
      "\u001b[2m═══╡ \u001b[0mCreating experiment d0d141e...\n",
      "\u001b[2m═══╡ \u001b[0mCreating checkpoint 1eb8a47...\n"
     ]
    },
    {
     "name": "stdout",
     "output_type": "stream",
     "text": [
      "Signals: ['acc_x', 'acc_y', 'acc_z', 'gyro_z'] @ 25 >> Acc: 1.0, Prec: 1.0, Recall: 1.0\n"
     ]
    },
    {
     "name": "stderr",
     "output_type": "stream",
     "text": [
      "\u001b[2m═══╡ \u001b[0mCreating experiment 20ee1e4...\n",
      "\u001b[2m═══╡ \u001b[0mCreating checkpoint 1c7eb3b...\n"
     ]
    },
    {
     "name": "stdout",
     "output_type": "stream",
     "text": [
      "Signals: ['acc_x', 'acc_y', 'acc_z', 'gyro_z'] @ 25 >> Acc: 1.0, Prec: 1.0, Recall: 1.0\n"
     ]
    },
    {
     "name": "stderr",
     "output_type": "stream",
     "text": [
      "\u001b[2m═══╡ \u001b[0mCreating experiment 647eac6...\n",
      "\u001b[2m═══╡ \u001b[0mCreating checkpoint 4611a2c...\n"
     ]
    },
    {
     "name": "stdout",
     "output_type": "stream",
     "text": [
      "Signals: ['acc_x', 'acc_y', 'acc_z', 'gyro_x'] @ 50 >> Acc: 0.9875, Prec: 0.9722222222222222, Recall: 0.9895833333333334\n"
     ]
    },
    {
     "name": "stderr",
     "output_type": "stream",
     "text": [
      "\u001b[2m═══╡ \u001b[0mCreating experiment f7dee0f...\n",
      "\u001b[2m═══╡ \u001b[0mCreating checkpoint 0f8297b...\n"
     ]
    },
    {
     "name": "stdout",
     "output_type": "stream",
     "text": [
      "Signals: ['acc_x', 'acc_y', 'acc_z', 'gyro_x'] @ 50 >> Acc: 0.9875, Prec: 0.9722222222222222, Recall: 0.9895833333333334\n"
     ]
    },
    {
     "name": "stderr",
     "output_type": "stream",
     "text": [
      "\u001b[2m═══╡ \u001b[0mCreating experiment 2804e5d...\n",
      "\u001b[2m═══╡ \u001b[0mCreating checkpoint cb57d7b...\n"
     ]
    },
    {
     "name": "stdout",
     "output_type": "stream",
     "text": [
      "Signals: ['acc_x', 'acc_y', 'acc_z', 'gyro_x'] @ 50 >> Acc: 0.9875, Prec: 0.9722222222222222, Recall: 0.9895833333333334\n"
     ]
    },
    {
     "name": "stderr",
     "output_type": "stream",
     "text": [
      "\u001b[2m═══╡ \u001b[0mCreating experiment 82db6a2...\n",
      "\u001b[2m═══╡ \u001b[0mCreating checkpoint 094bfdf...\n"
     ]
    },
    {
     "name": "stdout",
     "output_type": "stream",
     "text": [
      "Signals: ['acc_x', 'acc_y', 'acc_z', 'gyro_y'] @ 50 >> Acc: 0.9875, Prec: 0.9722222222222222, Recall: 0.9895833333333334\n"
     ]
    },
    {
     "name": "stderr",
     "output_type": "stream",
     "text": [
      "\u001b[2m═══╡ \u001b[0mCreating experiment 9f1f49f...\n",
      "\u001b[2m═══╡ \u001b[0mCreating checkpoint 8f7762d...\n"
     ]
    },
    {
     "name": "stdout",
     "output_type": "stream",
     "text": [
      "Signals: ['acc_x', 'acc_y', 'acc_z', 'gyro_y'] @ 50 >> Acc: 0.9875, Prec: 0.9722222222222222, Recall: 0.9895833333333334\n"
     ]
    },
    {
     "name": "stderr",
     "output_type": "stream",
     "text": [
      "\u001b[2m═══╡ \u001b[0mCreating experiment 20c41aa...\n",
      "\u001b[2m═══╡ \u001b[0mCreating checkpoint 811575c...\n"
     ]
    },
    {
     "name": "stdout",
     "output_type": "stream",
     "text": [
      "Signals: ['acc_x', 'acc_y', 'acc_z', 'gyro_y'] @ 50 >> Acc: 0.9875, Prec: 0.9722222222222222, Recall: 0.9895833333333334\n"
     ]
    },
    {
     "name": "stderr",
     "output_type": "stream",
     "text": [
      "\u001b[2m═══╡ \u001b[0mCreating experiment fd11ea3...\n",
      "\u001b[2m═══╡ \u001b[0mCreating checkpoint 3a08a37...\n"
     ]
    },
    {
     "name": "stdout",
     "output_type": "stream",
     "text": [
      "Signals: ['acc_x', 'acc_y', 'acc_z', 'gyro_z'] @ 50 >> Acc: 0.9875, Prec: 0.9722222222222222, Recall: 0.9895833333333334\n"
     ]
    },
    {
     "name": "stderr",
     "output_type": "stream",
     "text": [
      "\u001b[2m═══╡ \u001b[0mCreating experiment 881d8a3...\n",
      "\u001b[2m═══╡ \u001b[0mCreating checkpoint 0a81c72...\n"
     ]
    },
    {
     "name": "stdout",
     "output_type": "stream",
     "text": [
      "Signals: ['acc_x', 'acc_y', 'acc_z', 'gyro_z'] @ 50 >> Acc: 0.9875, Prec: 0.9722222222222222, Recall: 0.9895833333333334\n"
     ]
    },
    {
     "name": "stderr",
     "output_type": "stream",
     "text": [
      "\u001b[2m═══╡ \u001b[0mCreating experiment 37d13bd...\n",
      "\u001b[2m═══╡ \u001b[0mCreating checkpoint 68e6639...\n"
     ]
    },
    {
     "name": "stdout",
     "output_type": "stream",
     "text": [
      "Signals: ['acc_x', 'acc_y', 'acc_z', 'gyro_z'] @ 50 >> Acc: 0.9875, Prec: 0.9722222222222222, Recall: 0.9895833333333334\n"
     ]
    },
    {
     "name": "stderr",
     "output_type": "stream",
     "text": [
      "\u001b[2m═══╡ \u001b[0mCreating experiment 752a24a...\n",
      "\u001b[2m═══╡ \u001b[0mCreating checkpoint 2663202...\n"
     ]
    }
   ],
   "source": [
    "from sklearn.model_selection import train_test_split\n",
    "from sklearn.tree import DecisionTreeClassifier\n",
    "\n",
    "from sklearn import metrics\n",
    "\n",
    "is_save_model=True\n",
    "model_type = 'decision_tree'\n",
    "stage='optimized'\n",
    "dataset='base'\n",
    "quantization=None\n",
    "\n",
    "cutoff=0.985\n",
    "dataset_test_sizes = [0.35]\n",
    "datasets_setup = [(df_20hz, 20), (df_25hz, 25), (df_50hz, 50)]\n",
    "\n",
    "for df_t in datasets_setup:\n",
    "    for comb in comb_list:\n",
    "        for dataset_test_size in dataset_test_sizes:\n",
    "            df_filtered = df_t[0].filter(regex=comb)\n",
    "            X_train, X_test, y_train, y_test = train_test_split(\n",
    "                df_filtered.drop('label',axis=1), df_filtered['label'], test_size=dataset_test_size, random_state=42)\n",
    "\n",
    "            for estimators in [4,5,6]:\n",
    "                clf = DecisionTreeClassifier(random_state=42)\n",
    "                clf.fit(X_train, y_train)\n",
    "\n",
    "                y_pred = clf.predict(X_test)\n",
    "\n",
    "                accuracy = metrics.accuracy_score(y_test, y_pred)\n",
    "                f1 = metrics.f1_score(y_test, y_pred, average='macro')\n",
    "                precision = metrics.precision_score(y_test, y_pred, average='macro')\n",
    "                recall = metrics.recall_score(y_test, y_pred, average='macro')\n",
    "\n",
    "                if recall > cutoff:\n",
    "                    signals = comb.replace('|label','').split('|')\n",
    "                    print(f\"Signals: {signals} @ {df_t[1]} >> Acc: {accuracy}, Prec: {precision}, Recall: {recall}\")\n",
    "                    \n",
    "                    if is_save_model:\n",
    "                        experiment = keepsake.init(\n",
    "                            params={\n",
    "                                'model':model_type,\n",
    "                                'features': signals,\n",
    "                                'feature_count': len(signals),\n",
    "                                'n_estimators': estimators,\n",
    "                                'dataset_test_size': dataset_test_size,\n",
    "                                'hz':df_t[1],\n",
    "                                'data_set':dataset,\n",
    "                                'quantization': quantization,\n",
    "                                'other_params': 'default',\n",
    "                                'accuracy': accuracy,\n",
    "                                'precision':precision,\n",
    "                                'recall':recall,\n",
    "                                'f1':f1\n",
    "                                })\n",
    "\n",
    "                        path = save_model_optimized(clf, stage=stage, dataset=dataset, model_type=model_type, exp_id=experiment.id[:7])\n",
    "\n",
    "                        experiment.checkpoint(\n",
    "                            path=path,\n",
    "                            metrics={\"accurracy\":accuracy, \"f1\": f1, \"precision\": precision, \"recall\": recall},\n",
    "                            primary_metric=(\"recall\",\"maximize\")\n",
    "                        )\n",
    "                        experiment.stop()"
   ]
  },
  {
   "cell_type": "code",
   "execution_count": 12,
   "id": "a5020296-900c-4047-a40f-7a4a78866de7",
   "metadata": {},
   "outputs": [
    {
     "data": {
      "text/html": [
       "<table><tr><th>id</th><th>created</th><th>params</th><th>latest_checkpoint</th><th>best_checkpoint</th></tr><tr><th>5ee0933</th><th>2021-06-11 18:02:29.878801</th><th>{&#x27;quantization&#x27;: None, &#x27;dataset_test_size&#x27;: 0.35, &#x27;other_params&#x27;: &#x27;default&#x27;, &#x27;f1&#x27;: 1, &#x27;data_set&#x27;: &#x27;base&#x27;, &#x27;features&#x27;: [&#x27;acc_x&#x27;, &#x27;acc_y&#x27;, &#x27;acc_z&#x27;, &#x27;gyro_x&#x27;, &#x27;gyro_y&#x27;], &#x27;precision&#x27;: 1, &#x27;model&#x27;: &#x27;random_forest&#x27;, &#x27;accuracy&#x27;: 1, &#x27;recall&#x27;: 1, &#x27;n_estimators&#x27;: 4, &#x27;feature_count&#x27;: 5, &#x27;hz&#x27;: 20}</th><th>6b64329 (step 0; recall: 1)</th><th>6b64329 (step 0; recall: 1)</th></tr><tr><th>3705b82</th><th>2021-06-11 18:02:30.950993</th><th>{&#x27;f1&#x27;: 1, &#x27;model&#x27;: &#x27;random_forest&#x27;, &#x27;n_estimators&#x27;: 5, &#x27;features&#x27;: [&#x27;acc_x&#x27;, &#x27;acc_y&#x27;, &#x27;acc_z&#x27;, &#x27;gyro_x&#x27;, &#x27;gyro_y&#x27;], &#x27;other_params&#x27;: &#x27;default&#x27;, &#x27;data_set&#x27;: &#x27;base&#x27;, &#x27;dataset_test_size&#x27;: 0.35, &#x27;precision&#x27;: 1, &#x27;feature_count&#x27;: 5, &#x27;hz&#x27;: 20, &#x27;quantization&#x27;: None, &#x27;accuracy&#x27;: 1, &#x27;recall&#x27;: 1}</th><th>a696a16 (step 0; recall: 1)</th><th>a696a16 (step 0; recall: 1)</th></tr><tr><th>d75f1ea</th><th>2021-06-11 18:02:32.011452</th><th>{&#x27;precision&#x27;: 1, &#x27;n_estimators&#x27;: 6, &#x27;feature_count&#x27;: 5, &#x27;data_set&#x27;: &#x27;base&#x27;, &#x27;other_params&#x27;: &#x27;default&#x27;, &#x27;features&#x27;: [&#x27;acc_x&#x27;, &#x27;acc_y&#x27;, &#x27;acc_z&#x27;, &#x27;gyro_x&#x27;, &#x27;gyro_y&#x27;], &#x27;accuracy&#x27;: 1, &#x27;hz&#x27;: 20, &#x27;quantization&#x27;: None, &#x27;dataset_test_size&#x27;: 0.35, &#x27;f1&#x27;: 1, &#x27;model&#x27;: &#x27;random_forest&#x27;, &#x27;recall&#x27;: 1}</th><th>f90d0e8 (step 0; recall: 1)</th><th>f90d0e8 (step 0; recall: 1)</th></tr><tr><th>4d9ba42</th><th>2021-06-11 18:02:33.080264</th><th>{&#x27;accuracy&#x27;: 1, &#x27;recall&#x27;: 1, &#x27;other_params&#x27;: &#x27;default&#x27;, &#x27;data_set&#x27;: &#x27;base&#x27;, &#x27;hz&#x27;: 20, &#x27;features&#x27;: [&#x27;acc_x&#x27;, &#x27;acc_y&#x27;, &#x27;acc_z&#x27;, &#x27;gyro_x&#x27;, &#x27;gyro_z&#x27;], &#x27;quantization&#x27;: None, &#x27;n_estimators&#x27;: 4, &#x27;f1&#x27;: 1, &#x27;precision&#x27;: 1, &#x27;feature_count&#x27;: 5, &#x27;model&#x27;: &#x27;random_forest&#x27;, &#x27;dataset_test_size&#x27;: 0.35}</th><th>888b2c1 (step 0; recall: 1)</th><th>888b2c1 (step 0; recall: 1)</th></tr><tr><th>0136ff8</th><th>2021-06-11 18:02:36.906082</th><th>{&#x27;hz&#x27;: 50, &#x27;f1&#x27;: 1, &#x27;precision&#x27;: 1, &#x27;feature_count&#x27;: 5, &#x27;model&#x27;: &#x27;random_forest&#x27;, &#x27;n_estimators&#x27;: 6, &#x27;quantization&#x27;: None, &#x27;recall&#x27;: 1, &#x27;features&#x27;: [&#x27;acc_x&#x27;, &#x27;acc_y&#x27;, &#x27;acc_z&#x27;, &#x27;gyro_x&#x27;, &#x27;gyro_y&#x27;], &#x27;dataset_test_size&#x27;: 0.35, &#x27;other_params&#x27;: &#x27;default&#x27;, &#x27;data_set&#x27;: &#x27;base&#x27;, &#x27;accuracy&#x27;: 1}</th><th>ee5c849 (step 0; recall: 1)</th><th>ee5c849 (step 0; recall: 1)</th></tr><tr><th>a8bc105</th><th>2021-06-11 18:02:38.004194</th><th>{&#x27;recall&#x27;: 1, &#x27;n_estimators&#x27;: 6, &#x27;data_set&#x27;: &#x27;base&#x27;, &#x27;model&#x27;: &#x27;random_forest&#x27;, &#x27;quantization&#x27;: None, &#x27;other_params&#x27;: &#x27;default&#x27;, &#x27;dataset_test_size&#x27;: 0.35, &#x27;features&#x27;: [&#x27;acc_x&#x27;, &#x27;acc_y&#x27;, &#x27;acc_z&#x27;, &#x27;gyro_x&#x27;, &#x27;gyro_z&#x27;], &#x27;precision&#x27;: 1, &#x27;f1&#x27;: 1, &#x27;accuracy&#x27;: 1, &#x27;hz&#x27;: 50, &#x27;feature_count&#x27;: 5}</th><th>82ed6d8 (step 0; recall: 1)</th><th>82ed6d8 (step 0; recall: 1)</th></tr><tr><th>1a919a5</th><th>2021-06-11 18:02:39.130068</th><th>{&#x27;f1&#x27;: 1, &#x27;feature_count&#x27;: 6, &#x27;precision&#x27;: 1, &#x27;other_params&#x27;: &#x27;default&#x27;, &#x27;dataset_test_size&#x27;: 0.35, &#x27;data_set&#x27;: &#x27;base&#x27;, &#x27;recall&#x27;: 1, &#x27;hz&#x27;: 50, &#x27;features&#x27;: [&#x27;acc_x&#x27;, &#x27;acc_y&#x27;, &#x27;acc_z&#x27;, &#x27;gyro_x&#x27;, &#x27;gyro_y&#x27;, &#x27;gyro_z&#x27;], &#x27;n_estimators&#x27;: 5, &#x27;accuracy&#x27;: 1, &#x27;model&#x27;: &#x27;random_forest&#x27;, &#x27;quantization&#x27;: None}</th><th>b9d7531 (step 0; recall: 1)</th><th>b9d7531 (step 0; recall: 1)</th></tr></table>"
      ],
      "text/plain": [
       "[Experiment(id='5ee09333ec3fa73d1dc2b113b09d8a4208e53259a51c3153e918a6a370c6d08c', created=datetime.datetime(2021, 6, 11, 18, 2, 29, 878801), user='tk', host=None, command='/Users/tk/opt/miniconda3/envs/tinyml/lib/python3.8/site-packages/ipykernel_launcher.py -f /Users/tk/Library/Jupyter/runtime/kernel-dba4cf8a-dddc-479c-9340-bb00ce08d4cb.json', config={'repository': 'file:///Users/tk/projects/tinyml-esp32-data/.keepsake', 'storage': ''}, path=None, params={'quantization': None, 'dataset_test_size': 0.35, 'other_params': 'default', 'f1': 1, 'data_set': 'base', 'features': ['acc_x', 'acc_y', 'acc_z', 'gyro_x', 'gyro_y'], 'precision': 1, 'model': 'random_forest', 'accuracy': 1, 'recall': 1, 'n_estimators': 4, 'feature_count': 5, 'hz': 20}, python_version='3.8.3', python_packages={'wcwidth': '0.2.5', 'kiwisolver': '1.3.1', 'matplotlib': '3.3.4', 'ptyprocess': '0.7.0', 'appnope': '0.1.2', 'ipykernel': '5.3.4', 'colorama': '0.4.4', 'pygments': '2.8.1', 'seaborn': '0.10.1', 'scipy': '1.6.1', 'pytz': '2021.1', 'jedi': '0.17.0', 'numpy': '1.20.1', 'ipywidgets': '7.6.3', 'psutil': '5.8.0', 'joblib': '1.0.1', 'pickleshare': '0.7.5', 'statsmodels': '0.12.2', 'pandas': '1.2.3', 'pyparsing': '2.4.7', 'decorator': '4.4.2', 'backcall': '0.2.0', 'parso': '0.8.1', 'tornado': '6.1', 'six': '1.15.0', 'keepsake': '0.4.2', 'cffi': '1.14.5', 'cycler': '0.10.0', 'traitlets': '5.0.5', 'pexpect': '4.8.0'}, keepsake_version='0.4.2', checkpoints=[Checkpoint(id='6b643295239b79180a100fefbe0819921538d26f9b3162faeeebaaded45570de', created=datetime.datetime(2021, 6, 11, 18, 2, 29, 904293), path=None, step=0, metrics={'precision': 1, 'recall': 1, 'accurracy': 1, 'f1': 1}, primary_metric={'name': 'recall', 'goal': 'maximize'})]),\n",
       " Experiment(id='3705b82c32ead98afba6327b40a8315630694338ff3ead8c24fdd4e800f26185', created=datetime.datetime(2021, 6, 11, 18, 2, 30, 950993), user='tk', host=None, command='/Users/tk/opt/miniconda3/envs/tinyml/lib/python3.8/site-packages/ipykernel_launcher.py -f /Users/tk/Library/Jupyter/runtime/kernel-dba4cf8a-dddc-479c-9340-bb00ce08d4cb.json', config={'repository': 'file:///Users/tk/projects/tinyml-esp32-data/.keepsake', 'storage': ''}, path=None, params={'f1': 1, 'model': 'random_forest', 'n_estimators': 5, 'features': ['acc_x', 'acc_y', 'acc_z', 'gyro_x', 'gyro_y'], 'other_params': 'default', 'data_set': 'base', 'dataset_test_size': 0.35, 'precision': 1, 'feature_count': 5, 'hz': 20, 'quantization': None, 'accuracy': 1, 'recall': 1}, python_version='3.8.3', python_packages={'ipykernel': '5.3.4', 'traitlets': '5.0.5', 'six': '1.15.0', 'colorama': '0.4.4', 'parso': '0.8.1', 'm2cgen': '0.9.0', 'cycler': '0.10.0', 'psutil': '5.8.0', 'wcwidth': '0.2.5', 'cffi': '1.14.5', 'seaborn': '0.10.1', 'decorator': '4.4.2', 'matplotlib': '3.3.4', 'pygments': '2.8.1', 'joblib': '1.0.1', 'kiwisolver': '1.3.1', 'keepsake': '0.4.2', 'tornado': '6.1', 'jedi': '0.17.0', 'pandas': '1.2.3', 'statsmodels': '0.12.2', 'pexpect': '4.8.0', 'pickleshare': '0.7.5', 'appnope': '0.1.2', 'backcall': '0.2.0', 'ptyprocess': '0.7.0', 'numpy': '1.20.1', 'pyparsing': '2.4.7', 'scipy': '1.6.1', 'ipywidgets': '7.6.3', 'pytz': '2021.1'}, keepsake_version='0.4.2', checkpoints=[Checkpoint(id='a696a1615082c720178d1f5ff785a01c8b4c7a600d7eebcea560e7ebfe226703', created=datetime.datetime(2021, 6, 11, 18, 2, 30, 965096), path=None, step=0, metrics={'recall': 1, 'accurracy': 1, 'f1': 1, 'precision': 1}, primary_metric={'name': 'recall', 'goal': 'maximize'})]),\n",
       " Experiment(id='d75f1ea04bcb336a3c85b489213781ed3133317abbee4a9ce58e5f33b0380e06', created=datetime.datetime(2021, 6, 11, 18, 2, 32, 11452), user='tk', host=None, command='/Users/tk/opt/miniconda3/envs/tinyml/lib/python3.8/site-packages/ipykernel_launcher.py -f /Users/tk/Library/Jupyter/runtime/kernel-dba4cf8a-dddc-479c-9340-bb00ce08d4cb.json', config={'repository': 'file:///Users/tk/projects/tinyml-esp32-data/.keepsake', 'storage': ''}, path=None, params={'precision': 1, 'n_estimators': 6, 'feature_count': 5, 'data_set': 'base', 'other_params': 'default', 'features': ['acc_x', 'acc_y', 'acc_z', 'gyro_x', 'gyro_y'], 'accuracy': 1, 'hz': 20, 'quantization': None, 'dataset_test_size': 0.35, 'f1': 1, 'model': 'random_forest', 'recall': 1}, python_version='3.8.3', python_packages={'psutil': '5.8.0', 'traitlets': '5.0.5', 'pytz': '2021.1', 'parso': '0.8.1', 'm2cgen': '0.9.0', 'statsmodels': '0.12.2', 'appnope': '0.1.2', 'numpy': '1.20.1', 'joblib': '1.0.1', 'keepsake': '0.4.2', 'ipykernel': '5.3.4', 'colorama': '0.4.4', 'wcwidth': '0.2.5', 'pandas': '1.2.3', 'backcall': '0.2.0', 'seaborn': '0.10.1', 'ptyprocess': '0.7.0', 'matplotlib': '3.3.4', 'pexpect': '4.8.0', 'ipywidgets': '7.6.3', 'tornado': '6.1', 'kiwisolver': '1.3.1', 'six': '1.15.0', 'pickleshare': '0.7.5', 'decorator': '4.4.2', 'pygments': '2.8.1', 'pyparsing': '2.4.7', 'jedi': '0.17.0', 'scipy': '1.6.1', 'cffi': '1.14.5', 'cycler': '0.10.0'}, keepsake_version='0.4.2', checkpoints=[Checkpoint(id='f90d0e8adf804ad212d8694ca615b68d2211016711c95034a6e5309aec09819e', created=datetime.datetime(2021, 6, 11, 18, 2, 32, 26954), path=None, step=0, metrics={'accurracy': 1, 'recall': 1, 'precision': 1, 'f1': 1}, primary_metric={'name': 'recall', 'goal': 'maximize'})]),\n",
       " Experiment(id='4d9ba42a7eb03ff84964fd5d3716a997d516fe2683bc34b18799c87b44a06fcd', created=datetime.datetime(2021, 6, 11, 18, 2, 33, 80264), user='tk', host=None, command='/Users/tk/opt/miniconda3/envs/tinyml/lib/python3.8/site-packages/ipykernel_launcher.py -f /Users/tk/Library/Jupyter/runtime/kernel-dba4cf8a-dddc-479c-9340-bb00ce08d4cb.json', config={'repository': 'file:///Users/tk/projects/tinyml-esp32-data/.keepsake', 'storage': ''}, path=None, params={'accuracy': 1, 'recall': 1, 'other_params': 'default', 'data_set': 'base', 'hz': 20, 'features': ['acc_x', 'acc_y', 'acc_z', 'gyro_x', 'gyro_z'], 'quantization': None, 'n_estimators': 4, 'f1': 1, 'precision': 1, 'feature_count': 5, 'model': 'random_forest', 'dataset_test_size': 0.35}, python_version='3.8.3', python_packages={'numpy': '1.20.1', 'pygments': '2.8.1', 'six': '1.15.0', 'keepsake': '0.4.2', 'parso': '0.8.1', 'ptyprocess': '0.7.0', 'matplotlib': '3.3.4', 'wcwidth': '0.2.5', 'scipy': '1.6.1', 'jedi': '0.17.0', 'ipykernel': '5.3.4', 'm2cgen': '0.9.0', 'pytz': '2021.1', 'pandas': '1.2.3', 'tornado': '6.1', 'psutil': '5.8.0', 'traitlets': '5.0.5', 'pickleshare': '0.7.5', 'pyparsing': '2.4.7', 'kiwisolver': '1.3.1', 'pexpect': '4.8.0', 'ipywidgets': '7.6.3', 'appnope': '0.1.2', 'joblib': '1.0.1', 'decorator': '4.4.2', 'cffi': '1.14.5', 'statsmodels': '0.12.2', 'cycler': '0.10.0', 'backcall': '0.2.0', 'seaborn': '0.10.1', 'colorama': '0.4.4'}, keepsake_version='0.4.2', checkpoints=[Checkpoint(id='888b2c102ecf3c5a15f1e2d9e8de96a16222651cfca2a57eaa47cb07bdd9b22e', created=datetime.datetime(2021, 6, 11, 18, 2, 33, 95927), path=None, step=0, metrics={'recall': 1, 'f1': 1, 'precision': 1, 'accurracy': 1}, primary_metric={'name': 'recall', 'goal': 'maximize'})]),\n",
       " Experiment(id='0136ff84f182d0976d0b908ece0ecbb58e981c6f1efba743cb207265a0def4d2', created=datetime.datetime(2021, 6, 11, 18, 2, 36, 906082), user='tk', host=None, command='/Users/tk/opt/miniconda3/envs/tinyml/lib/python3.8/site-packages/ipykernel_launcher.py -f /Users/tk/Library/Jupyter/runtime/kernel-dba4cf8a-dddc-479c-9340-bb00ce08d4cb.json', config={'repository': 'file:///Users/tk/projects/tinyml-esp32-data/.keepsake', 'storage': ''}, path=None, params={'hz': 50, 'f1': 1, 'precision': 1, 'feature_count': 5, 'model': 'random_forest', 'n_estimators': 6, 'quantization': None, 'recall': 1, 'features': ['acc_x', 'acc_y', 'acc_z', 'gyro_x', 'gyro_y'], 'dataset_test_size': 0.35, 'other_params': 'default', 'data_set': 'base', 'accuracy': 1}, python_version='3.8.3', python_packages={'traitlets': '5.0.5', 'm2cgen': '0.9.0', 'pickleshare': '0.7.5', 'pexpect': '4.8.0', 'seaborn': '0.10.1', 'joblib': '1.0.1', 'scipy': '1.6.1', 'numpy': '1.20.1', 'wcwidth': '0.2.5', 'psutil': '5.8.0', 'keepsake': '0.4.2', 'appnope': '0.1.2', 'jedi': '0.17.0', 'parso': '0.8.1', 'tornado': '6.1', 'ipykernel': '5.3.4', 'pygments': '2.8.1', 'pandas': '1.2.3', 'decorator': '4.4.2', 'ptyprocess': '0.7.0', 'pytz': '2021.1', 'cffi': '1.14.5', 'kiwisolver': '1.3.1', 'matplotlib': '3.3.4', 'pyparsing': '2.4.7', 'backcall': '0.2.0', 'cycler': '0.10.0', 'ipywidgets': '7.6.3', 'six': '1.15.0', 'colorama': '0.4.4', 'statsmodels': '0.12.2'}, keepsake_version='0.4.2', checkpoints=[Checkpoint(id='ee5c849b323ab7e49def74b168eef563f9de668db4a649ebe2bd1652d4794093', created=datetime.datetime(2021, 6, 11, 18, 2, 36, 922311), path=None, step=0, metrics={'recall': 1, 'precision': 1, 'f1': 1, 'accurracy': 1}, primary_metric={'name': 'recall', 'goal': 'maximize'})]),\n",
       " Experiment(id='a8bc1052f5464c265cc2b10064a72b87f0e19cb52dffd29de1fe338cfdbb6d3d', created=datetime.datetime(2021, 6, 11, 18, 2, 38, 4194), user='tk', host=None, command='/Users/tk/opt/miniconda3/envs/tinyml/lib/python3.8/site-packages/ipykernel_launcher.py -f /Users/tk/Library/Jupyter/runtime/kernel-dba4cf8a-dddc-479c-9340-bb00ce08d4cb.json', config={'repository': 'file:///Users/tk/projects/tinyml-esp32-data/.keepsake', 'storage': ''}, path=None, params={'recall': 1, 'n_estimators': 6, 'data_set': 'base', 'model': 'random_forest', 'quantization': None, 'other_params': 'default', 'dataset_test_size': 0.35, 'features': ['acc_x', 'acc_y', 'acc_z', 'gyro_x', 'gyro_z'], 'precision': 1, 'f1': 1, 'accuracy': 1, 'hz': 50, 'feature_count': 5}, python_version='3.8.3', python_packages={'numpy': '1.20.1', 'cffi': '1.14.5', 'statsmodels': '0.12.2', 'pygments': '2.8.1', 'pickleshare': '0.7.5', 'parso': '0.8.1', 'tornado': '6.1', 'wcwidth': '0.2.5', 'joblib': '1.0.1', 'pyparsing': '2.4.7', 'seaborn': '0.10.1', 'pandas': '1.2.3', 'ipywidgets': '7.6.3', 'ipykernel': '5.3.4', 'traitlets': '5.0.5', 'psutil': '5.8.0', 'm2cgen': '0.9.0', 'jedi': '0.17.0', 'kiwisolver': '1.3.1', 'scipy': '1.6.1', 'matplotlib': '3.3.4', 'six': '1.15.0', 'colorama': '0.4.4', 'pytz': '2021.1', 'keepsake': '0.4.2', 'ptyprocess': '0.7.0', 'appnope': '0.1.2', 'backcall': '0.2.0', 'pexpect': '4.8.0', 'decorator': '4.4.2', 'cycler': '0.10.0'}, keepsake_version='0.4.2', checkpoints=[Checkpoint(id='82ed6d836fa3006fed58850e4d0cfeeb6e3cef16ee2cd02da8e01b8a014ffc23', created=datetime.datetime(2021, 6, 11, 18, 2, 38, 13058), path=None, step=0, metrics={'f1': 1, 'precision': 1, 'accurracy': 1, 'recall': 1}, primary_metric={'name': 'recall', 'goal': 'maximize'})]),\n",
       " Experiment(id='1a919a59fb8577655d1c530296dec23dd9ef8c92fd04bb927f4aa5161874f7b3', created=datetime.datetime(2021, 6, 11, 18, 2, 39, 130068), user='tk', host=None, command='/Users/tk/opt/miniconda3/envs/tinyml/lib/python3.8/site-packages/ipykernel_launcher.py -f /Users/tk/Library/Jupyter/runtime/kernel-dba4cf8a-dddc-479c-9340-bb00ce08d4cb.json', config={'repository': 'file:///Users/tk/projects/tinyml-esp32-data/.keepsake', 'storage': ''}, path=None, params={'f1': 1, 'feature_count': 6, 'precision': 1, 'other_params': 'default', 'dataset_test_size': 0.35, 'data_set': 'base', 'recall': 1, 'hz': 50, 'features': ['acc_x', 'acc_y', 'acc_z', 'gyro_x', 'gyro_y', 'gyro_z'], 'n_estimators': 5, 'accuracy': 1, 'model': 'random_forest', 'quantization': None}, python_version='3.8.3', python_packages={'ipykernel': '5.3.4', 'parso': '0.8.1', 'traitlets': '5.0.5', 'decorator': '4.4.2', 'pyparsing': '2.4.7', 'psutil': '5.8.0', 'statsmodels': '0.12.2', 'jedi': '0.17.0', 'keepsake': '0.4.2', 'pandas': '1.2.3', 'wcwidth': '0.2.5', 'scipy': '1.6.1', 'pygments': '2.8.1', 'six': '1.15.0', 'tornado': '6.1', 'joblib': '1.0.1', 'pytz': '2021.1', 'numpy': '1.20.1', 'appnope': '0.1.2', 'backcall': '0.2.0', 'cffi': '1.14.5', 'pickleshare': '0.7.5', 'cycler': '0.10.0', 'ipywidgets': '7.6.3', 'pexpect': '4.8.0', 'seaborn': '0.10.1', 'm2cgen': '0.9.0', 'kiwisolver': '1.3.1', 'ptyprocess': '0.7.0', 'matplotlib': '3.3.4', 'colorama': '0.4.4'}, keepsake_version='0.4.2', checkpoints=[Checkpoint(id='b9d75310b9739c842573847c249191b9a770791c36503b97ae308c997a9498b7', created=datetime.datetime(2021, 6, 11, 18, 2, 39, 146959), path=None, step=0, metrics={'accurracy': 1, 'recall': 1, 'f1': 1, 'precision': 1}, primary_metric={'name': 'recall', 'goal': 'maximize'})])]"
      ]
     },
     "execution_count": 12,
     "metadata": {},
     "output_type": "execute_result"
    }
   ],
   "source": [
    "keepsake.experiments.list(lambda exp: exp.params['accuracy'] == 1.0 and exp.params['model'] == 'random_forest')"
   ]
  },
  {
   "cell_type": "code",
   "execution_count": 13,
   "id": "4d91cf4f-0939-4303-ad14-29762c580464",
   "metadata": {},
   "outputs": [
    {
     "data": {
      "text/html": [
       "<table><tr><th>id</th><th>created</th><th>params</th><th>latest_checkpoint</th><th>best_checkpoint</th></tr><tr><th>55a187f</th><th>2021-06-11 18:02:40.403022</th><th>{&#x27;data_set&#x27;: &#x27;base&#x27;, &#x27;accuracy&#x27;: 1, &#x27;precision&#x27;: 1, &#x27;hz&#x27;: 25, &#x27;f1&#x27;: 1, &#x27;recall&#x27;: 1, &#x27;model&#x27;: &#x27;decision_tree&#x27;, &#x27;other_params&#x27;: &#x27;default&#x27;, &#x27;dataset_test_size&#x27;: 0.35, &#x27;n_estimators&#x27;: 4, &#x27;features&#x27;: [&#x27;acc_x&#x27;, &#x27;acc_y&#x27;, &#x27;acc_z&#x27;, &#x27;gyro_x&#x27;], &#x27;quantization&#x27;: None, &#x27;feature_count&#x27;: 4}</th><th>f657040 (step 0; recall: 1)</th><th>f657040 (step 0; recall: 1)</th></tr><tr><th>4e9abf7</th><th>2021-06-11 18:02:41.451743</th><th>{&#x27;accuracy&#x27;: 1, &#x27;data_set&#x27;: &#x27;base&#x27;, &#x27;n_estimators&#x27;: 5, &#x27;quantization&#x27;: None, &#x27;model&#x27;: &#x27;decision_tree&#x27;, &#x27;other_params&#x27;: &#x27;default&#x27;, &#x27;dataset_test_size&#x27;: 0.35, &#x27;hz&#x27;: 25, &#x27;recall&#x27;: 1, &#x27;precision&#x27;: 1, &#x27;f1&#x27;: 1, &#x27;features&#x27;: [&#x27;acc_x&#x27;, &#x27;acc_y&#x27;, &#x27;acc_z&#x27;, &#x27;gyro_x&#x27;], &#x27;feature_count&#x27;: 4}</th><th>6b901ac (step 0; recall: 1)</th><th>6b901ac (step 0; recall: 1)</th></tr><tr><th>a619ed2</th><th>2021-06-11 18:02:42.499350</th><th>{&#x27;quantization&#x27;: None, &#x27;other_params&#x27;: &#x27;default&#x27;, &#x27;precision&#x27;: 1, &#x27;data_set&#x27;: &#x27;base&#x27;, &#x27;model&#x27;: &#x27;decision_tree&#x27;, &#x27;feature_count&#x27;: 4, &#x27;accuracy&#x27;: 1, &#x27;dataset_test_size&#x27;: 0.35, &#x27;features&#x27;: [&#x27;acc_x&#x27;, &#x27;acc_y&#x27;, &#x27;acc_z&#x27;, &#x27;gyro_x&#x27;], &#x27;f1&#x27;: 1, &#x27;n_estimators&#x27;: 6, &#x27;recall&#x27;: 1, &#x27;hz&#x27;: 25}</th><th>ec9b383 (step 0; recall: 1)</th><th>ec9b383 (step 0; recall: 1)</th></tr><tr><th>8e89dfc</th><th>2021-06-11 18:02:43.550260</th><th>{&#x27;model&#x27;: &#x27;decision_tree&#x27;, &#x27;precision&#x27;: 1, &#x27;features&#x27;: [&#x27;acc_x&#x27;, &#x27;acc_y&#x27;, &#x27;acc_z&#x27;, &#x27;gyro_y&#x27;], &#x27;f1&#x27;: 1, &#x27;other_params&#x27;: &#x27;default&#x27;, &#x27;feature_count&#x27;: 4, &#x27;quantization&#x27;: None, &#x27;data_set&#x27;: &#x27;base&#x27;, &#x27;recall&#x27;: 1, &#x27;n_estimators&#x27;: 4, &#x27;dataset_test_size&#x27;: 0.35, &#x27;hz&#x27;: 25, &#x27;accuracy&#x27;: 1}</th><th>a4a74b1 (step 0; recall: 1)</th><th>a4a74b1 (step 0; recall: 1)</th></tr><tr><th>6a6868f</th><th>2021-06-11 18:02:44.599815</th><th>{&#x27;hz&#x27;: 25, &#x27;quantization&#x27;: None, &#x27;data_set&#x27;: &#x27;base&#x27;, &#x27;model&#x27;: &#x27;decision_tree&#x27;, &#x27;feature_count&#x27;: 4, &#x27;n_estimators&#x27;: 5, &#x27;precision&#x27;: 1, &#x27;features&#x27;: [&#x27;acc_x&#x27;, &#x27;acc_y&#x27;, &#x27;acc_z&#x27;, &#x27;gyro_y&#x27;], &#x27;accuracy&#x27;: 1, &#x27;f1&#x27;: 1, &#x27;other_params&#x27;: &#x27;default&#x27;, &#x27;dataset_test_size&#x27;: 0.35, &#x27;recall&#x27;: 1}</th><th>b86968a (step 0; recall: 1)</th><th>b86968a (step 0; recall: 1)</th></tr><tr><th>3dab78c</th><th>2021-06-11 18:02:45.645298</th><th>{&#x27;features&#x27;: [&#x27;acc_x&#x27;, &#x27;acc_y&#x27;, &#x27;acc_z&#x27;, &#x27;gyro_y&#x27;], &#x27;model&#x27;: &#x27;decision_tree&#x27;, &#x27;feature_count&#x27;: 4, &#x27;recall&#x27;: 1, &#x27;f1&#x27;: 1, &#x27;accuracy&#x27;: 1, &#x27;n_estimators&#x27;: 6, &#x27;precision&#x27;: 1, &#x27;dataset_test_size&#x27;: 0.35, &#x27;data_set&#x27;: &#x27;base&#x27;, &#x27;other_params&#x27;: &#x27;default&#x27;, &#x27;hz&#x27;: 25, &#x27;quantization&#x27;: None}</th><th>9e2831a (step 0; recall: 1)</th><th>9e2831a (step 0; recall: 1)</th></tr><tr><th>d0d141e</th><th>2021-06-11 18:02:46.698828</th><th>{&#x27;dataset_test_size&#x27;: 0.35, &#x27;n_estimators&#x27;: 4, &#x27;hz&#x27;: 25, &#x27;f1&#x27;: 1, &#x27;model&#x27;: &#x27;decision_tree&#x27;, &#x27;features&#x27;: [&#x27;acc_x&#x27;, &#x27;acc_y&#x27;, &#x27;acc_z&#x27;, &#x27;gyro_z&#x27;], &#x27;recall&#x27;: 1, &#x27;accuracy&#x27;: 1, &#x27;quantization&#x27;: None, &#x27;other_params&#x27;: &#x27;default&#x27;, &#x27;precision&#x27;: 1, &#x27;data_set&#x27;: &#x27;base&#x27;, &#x27;feature_count&#x27;: 4}</th><th>1eb8a47 (step 0; recall: 1)</th><th>1eb8a47 (step 0; recall: 1)</th></tr><tr><th>20ee1e4</th><th>2021-06-11 18:02:47.745302</th><th>{&#x27;features&#x27;: [&#x27;acc_x&#x27;, &#x27;acc_y&#x27;, &#x27;acc_z&#x27;, &#x27;gyro_z&#x27;], &#x27;feature_count&#x27;: 4, &#x27;accuracy&#x27;: 1, &#x27;model&#x27;: &#x27;decision_tree&#x27;, &#x27;f1&#x27;: 1, &#x27;precision&#x27;: 1, &#x27;data_set&#x27;: &#x27;base&#x27;, &#x27;recall&#x27;: 1, &#x27;quantization&#x27;: None, &#x27;dataset_test_size&#x27;: 0.35, &#x27;n_estimators&#x27;: 5, &#x27;hz&#x27;: 25, &#x27;other_params&#x27;: &#x27;default&#x27;}</th><th>1c7eb3b (step 0; recall: 1)</th><th>1c7eb3b (step 0; recall: 1)</th></tr><tr><th>647eac6</th><th>2021-06-11 18:02:48.791788</th><th>{&#x27;data_set&#x27;: &#x27;base&#x27;, &#x27;features&#x27;: [&#x27;acc_x&#x27;, &#x27;acc_y&#x27;, &#x27;acc_z&#x27;, &#x27;gyro_z&#x27;], &#x27;dataset_test_size&#x27;: 0.35, &#x27;n_estimators&#x27;: 6, &#x27;other_params&#x27;: &#x27;default&#x27;, &#x27;f1&#x27;: 1, &#x27;precision&#x27;: 1, &#x27;recall&#x27;: 1, &#x27;model&#x27;: &#x27;decision_tree&#x27;, &#x27;hz&#x27;: 25, &#x27;feature_count&#x27;: 4, &#x27;quantization&#x27;: None, &#x27;accuracy&#x27;: 1}</th><th>4611a2c (step 0; recall: 1)</th><th>4611a2c (step 0; recall: 1)</th></tr></table>"
      ],
      "text/plain": [
       "[Experiment(id='55a187f546cca0d064f02aab75ed14ba8847c0a0cca30f5317baea99063da28a', created=datetime.datetime(2021, 6, 11, 18, 2, 40, 403022), user='tk', host=None, command='/Users/tk/opt/miniconda3/envs/tinyml/lib/python3.8/site-packages/ipykernel_launcher.py -f /Users/tk/Library/Jupyter/runtime/kernel-dba4cf8a-dddc-479c-9340-bb00ce08d4cb.json', config={'repository': 'file:///Users/tk/projects/tinyml-esp32-data/.keepsake', 'storage': ''}, path=None, params={'data_set': 'base', 'accuracy': 1, 'precision': 1, 'hz': 25, 'f1': 1, 'recall': 1, 'model': 'decision_tree', 'other_params': 'default', 'dataset_test_size': 0.35, 'n_estimators': 4, 'features': ['acc_x', 'acc_y', 'acc_z', 'gyro_x'], 'quantization': None, 'feature_count': 4}, python_version='3.8.3', python_packages={'kiwisolver': '1.3.1', 'scipy': '1.6.1', 'keepsake': '0.4.2', 'psutil': '5.8.0', 'colorama': '0.4.4', 'pygments': '2.8.1', 'ipykernel': '5.3.4', 'six': '1.15.0', 'backcall': '0.2.0', 'appnope': '0.1.2', 'wcwidth': '0.2.5', 'tornado': '6.1', 'pandas': '1.2.3', 'ipywidgets': '7.6.3', 'ptyprocess': '0.7.0', 'matplotlib': '3.3.4', 'pyparsing': '2.4.7', 'seaborn': '0.10.1', 'cycler': '0.10.0', 'numpy': '1.20.1', 'parso': '0.8.1', 'joblib': '1.0.1', 'jedi': '0.17.0', 'traitlets': '5.0.5', 'pytz': '2021.1', 'statsmodels': '0.12.2', 'pexpect': '4.8.0', 'cffi': '1.14.5', 'pickleshare': '0.7.5', 'decorator': '4.4.2', 'm2cgen': '0.9.0'}, keepsake_version='0.4.2', checkpoints=[Checkpoint(id='f657040cb9c1aa037948e902a304eeb6fddf627aa54b6b806c162c8a6fed3775', created=datetime.datetime(2021, 6, 11, 18, 2, 40, 412348), path=None, step=0, metrics={'precision': 1, 'accurracy': 1, 'f1': 1, 'recall': 1}, primary_metric={'name': 'recall', 'goal': 'maximize'})]),\n",
       " Experiment(id='4e9abf79e80d8afa8cf33e79882418078216b1883ad9a694c195f09086b29a36', created=datetime.datetime(2021, 6, 11, 18, 2, 41, 451743), user='tk', host=None, command='/Users/tk/opt/miniconda3/envs/tinyml/lib/python3.8/site-packages/ipykernel_launcher.py -f /Users/tk/Library/Jupyter/runtime/kernel-dba4cf8a-dddc-479c-9340-bb00ce08d4cb.json', config={'repository': 'file:///Users/tk/projects/tinyml-esp32-data/.keepsake', 'storage': ''}, path=None, params={'accuracy': 1, 'data_set': 'base', 'n_estimators': 5, 'quantization': None, 'model': 'decision_tree', 'other_params': 'default', 'dataset_test_size': 0.35, 'hz': 25, 'recall': 1, 'precision': 1, 'f1': 1, 'features': ['acc_x', 'acc_y', 'acc_z', 'gyro_x'], 'feature_count': 4}, python_version='3.8.3', python_packages={'pytz': '2021.1', 'm2cgen': '0.9.0', 'matplotlib': '3.3.4', 'cffi': '1.14.5', 'pexpect': '4.8.0', 'wcwidth': '0.2.5', 'pyparsing': '2.4.7', 'appnope': '0.1.2', 'ipywidgets': '7.6.3', 'parso': '0.8.1', 'jedi': '0.17.0', 'decorator': '4.4.2', 'scipy': '1.6.1', 'pickleshare': '0.7.5', 'traitlets': '5.0.5', 'pandas': '1.2.3', 'keepsake': '0.4.2', 'backcall': '0.2.0', 'cycler': '0.10.0', 'numpy': '1.20.1', 'ptyprocess': '0.7.0', 'colorama': '0.4.4', 'psutil': '5.8.0', 'ipykernel': '5.3.4', 'six': '1.15.0', 'kiwisolver': '1.3.1', 'pygments': '2.8.1', 'joblib': '1.0.1', 'statsmodels': '0.12.2', 'seaborn': '0.10.1', 'tornado': '6.1'}, keepsake_version='0.4.2', checkpoints=[Checkpoint(id='6b901ac7e9a016eff1a95e7897ae71a1914e357133cf051a8cd8a84c46a878cc', created=datetime.datetime(2021, 6, 11, 18, 2, 41, 457973), path=None, step=0, metrics={'precision': 1, 'f1': 1, 'accurracy': 1, 'recall': 1}, primary_metric={'name': 'recall', 'goal': 'maximize'})]),\n",
       " Experiment(id='a619ed2c2c4c6f19c5eb6cd3a04eb2d837d629d5a8750d85326bd13871c519d5', created=datetime.datetime(2021, 6, 11, 18, 2, 42, 499350), user='tk', host=None, command='/Users/tk/opt/miniconda3/envs/tinyml/lib/python3.8/site-packages/ipykernel_launcher.py -f /Users/tk/Library/Jupyter/runtime/kernel-dba4cf8a-dddc-479c-9340-bb00ce08d4cb.json', config={'repository': 'file:///Users/tk/projects/tinyml-esp32-data/.keepsake', 'storage': ''}, path=None, params={'quantization': None, 'other_params': 'default', 'precision': 1, 'data_set': 'base', 'model': 'decision_tree', 'feature_count': 4, 'accuracy': 1, 'dataset_test_size': 0.35, 'features': ['acc_x', 'acc_y', 'acc_z', 'gyro_x'], 'f1': 1, 'n_estimators': 6, 'recall': 1, 'hz': 25}, python_version='3.8.3', python_packages={'backcall': '0.2.0', 'traitlets': '5.0.5', 'six': '1.15.0', 'cycler': '0.10.0', 'joblib': '1.0.1', 'ipywidgets': '7.6.3', 'seaborn': '0.10.1', 'ptyprocess': '0.7.0', 'appnope': '0.1.2', 'parso': '0.8.1', 'keepsake': '0.4.2', 'numpy': '1.20.1', 'jedi': '0.17.0', 'statsmodels': '0.12.2', 'colorama': '0.4.4', 'psutil': '5.8.0', 'decorator': '4.4.2', 'pickleshare': '0.7.5', 'pexpect': '4.8.0', 'm2cgen': '0.9.0', 'matplotlib': '3.3.4', 'scipy': '1.6.1', 'pandas': '1.2.3', 'kiwisolver': '1.3.1', 'ipykernel': '5.3.4', 'pytz': '2021.1', 'cffi': '1.14.5', 'wcwidth': '0.2.5', 'pyparsing': '2.4.7', 'tornado': '6.1', 'pygments': '2.8.1'}, keepsake_version='0.4.2', checkpoints=[Checkpoint(id='ec9b383941606548355295a716c794119ac5588c36fa56ab568f7435ad9406b5', created=datetime.datetime(2021, 6, 11, 18, 2, 42, 505951), path=None, step=0, metrics={'accurracy': 1, 'f1': 1, 'precision': 1, 'recall': 1}, primary_metric={'name': 'recall', 'goal': 'maximize'})]),\n",
       " Experiment(id='8e89dfc290edcc059b8123ce10e516d02ea2860a0b97845a3cb555148f556a02', created=datetime.datetime(2021, 6, 11, 18, 2, 43, 550260), user='tk', host=None, command='/Users/tk/opt/miniconda3/envs/tinyml/lib/python3.8/site-packages/ipykernel_launcher.py -f /Users/tk/Library/Jupyter/runtime/kernel-dba4cf8a-dddc-479c-9340-bb00ce08d4cb.json', config={'repository': 'file:///Users/tk/projects/tinyml-esp32-data/.keepsake', 'storage': ''}, path=None, params={'model': 'decision_tree', 'precision': 1, 'features': ['acc_x', 'acc_y', 'acc_z', 'gyro_y'], 'f1': 1, 'other_params': 'default', 'feature_count': 4, 'quantization': None, 'data_set': 'base', 'recall': 1, 'n_estimators': 4, 'dataset_test_size': 0.35, 'hz': 25, 'accuracy': 1}, python_version='3.8.3', python_packages={'keepsake': '0.4.2', 'matplotlib': '3.3.4', 'colorama': '0.4.4', 'wcwidth': '0.2.5', 'ipywidgets': '7.6.3', 'decorator': '4.4.2', 'statsmodels': '0.12.2', 'pygments': '2.8.1', 'backcall': '0.2.0', 'appnope': '0.1.2', 'scipy': '1.6.1', 'joblib': '1.0.1', 'cffi': '1.14.5', 'pytz': '2021.1', 'parso': '0.8.1', 'pickleshare': '0.7.5', 'cycler': '0.10.0', 'jedi': '0.17.0', 'm2cgen': '0.9.0', 'traitlets': '5.0.5', 'pyparsing': '2.4.7', 'tornado': '6.1', 'ptyprocess': '0.7.0', 'pexpect': '4.8.0', 'pandas': '1.2.3', 'kiwisolver': '1.3.1', 'numpy': '1.20.1', 'psutil': '5.8.0', 'ipykernel': '5.3.4', 'six': '1.15.0', 'seaborn': '0.10.1'}, keepsake_version='0.4.2', checkpoints=[Checkpoint(id='a4a74b1d8c588eaecc674ebeebb61d8f9392b9837b0aa03cc3d8ed425529f079', created=datetime.datetime(2021, 6, 11, 18, 2, 43, 559145), path=None, step=0, metrics={'recall': 1, 'accurracy': 1, 'f1': 1, 'precision': 1}, primary_metric={'name': 'recall', 'goal': 'maximize'})]),\n",
       " Experiment(id='6a6868f1532e8e02a76ef60632c26977937a900e68b019a0b50c50447a5a9644', created=datetime.datetime(2021, 6, 11, 18, 2, 44, 599815), user='tk', host=None, command='/Users/tk/opt/miniconda3/envs/tinyml/lib/python3.8/site-packages/ipykernel_launcher.py -f /Users/tk/Library/Jupyter/runtime/kernel-dba4cf8a-dddc-479c-9340-bb00ce08d4cb.json', config={'repository': 'file:///Users/tk/projects/tinyml-esp32-data/.keepsake', 'storage': ''}, path=None, params={'hz': 25, 'quantization': None, 'data_set': 'base', 'model': 'decision_tree', 'feature_count': 4, 'n_estimators': 5, 'precision': 1, 'features': ['acc_x', 'acc_y', 'acc_z', 'gyro_y'], 'accuracy': 1, 'f1': 1, 'other_params': 'default', 'dataset_test_size': 0.35, 'recall': 1}, python_version='3.8.3', python_packages={'m2cgen': '0.9.0', 'six': '1.15.0', 'scipy': '1.6.1', 'kiwisolver': '1.3.1', 'appnope': '0.1.2', 'pytz': '2021.1', 'pyparsing': '2.4.7', 'ipykernel': '5.3.4', 'pandas': '1.2.3', 'wcwidth': '0.2.5', 'matplotlib': '3.3.4', 'traitlets': '5.0.5', 'decorator': '4.4.2', 'tornado': '6.1', 'colorama': '0.4.4', 'numpy': '1.20.1', 'pickleshare': '0.7.5', 'parso': '0.8.1', 'cffi': '1.14.5', 'ptyprocess': '0.7.0', 'pygments': '2.8.1', 'backcall': '0.2.0', 'statsmodels': '0.12.2', 'psutil': '5.8.0', 'jedi': '0.17.0', 'joblib': '1.0.1', 'keepsake': '0.4.2', 'ipywidgets': '7.6.3', 'seaborn': '0.10.1', 'cycler': '0.10.0', 'pexpect': '4.8.0'}, keepsake_version='0.4.2', checkpoints=[Checkpoint(id='b86968a1893d1f8e159d3f9c0146c7c656f7564622f42b8f2f48fc17da2d36cb', created=datetime.datetime(2021, 6, 11, 18, 2, 44, 609496), path=None, step=0, metrics={'precision': 1, 'recall': 1, 'accurracy': 1, 'f1': 1}, primary_metric={'name': 'recall', 'goal': 'maximize'})]),\n",
       " Experiment(id='3dab78c250b39cc6246099eef94190a605db9168417a8e54b4404df27d7044f8', created=datetime.datetime(2021, 6, 11, 18, 2, 45, 645298), user='tk', host=None, command='/Users/tk/opt/miniconda3/envs/tinyml/lib/python3.8/site-packages/ipykernel_launcher.py -f /Users/tk/Library/Jupyter/runtime/kernel-dba4cf8a-dddc-479c-9340-bb00ce08d4cb.json', config={'repository': 'file:///Users/tk/projects/tinyml-esp32-data/.keepsake', 'storage': ''}, path=None, params={'features': ['acc_x', 'acc_y', 'acc_z', 'gyro_y'], 'model': 'decision_tree', 'feature_count': 4, 'recall': 1, 'f1': 1, 'accuracy': 1, 'n_estimators': 6, 'precision': 1, 'dataset_test_size': 0.35, 'data_set': 'base', 'other_params': 'default', 'hz': 25, 'quantization': None}, python_version='3.8.3', python_packages={'ipywidgets': '7.6.3', 'cycler': '0.10.0', 'pygments': '2.8.1', 'numpy': '1.20.1', 'backcall': '0.2.0', 'matplotlib': '3.3.4', 'decorator': '4.4.2', 'scipy': '1.6.1', 'ipykernel': '5.3.4', 'traitlets': '5.0.5', 'six': '1.15.0', 'colorama': '0.4.4', 'tornado': '6.1', 'pyparsing': '2.4.7', 'appnope': '0.1.2', 'seaborn': '0.10.1', 'parso': '0.8.1', 'statsmodels': '0.12.2', 'jedi': '0.17.0', 'pandas': '1.2.3', 'pickleshare': '0.7.5', 'ptyprocess': '0.7.0', 'kiwisolver': '1.3.1', 'psutil': '5.8.0', 'keepsake': '0.4.2', 'pexpect': '4.8.0', 'wcwidth': '0.2.5', 'pytz': '2021.1', 'cffi': '1.14.5', 'm2cgen': '0.9.0', 'joblib': '1.0.1'}, keepsake_version='0.4.2', checkpoints=[Checkpoint(id='9e2831a245db7e4bc334248626e96560c37aa4125a17624e4d41eeb65a6710a0', created=datetime.datetime(2021, 6, 11, 18, 2, 45, 652366), path=None, step=0, metrics={'precision': 1, 'f1': 1, 'recall': 1, 'accurracy': 1}, primary_metric={'name': 'recall', 'goal': 'maximize'})]),\n",
       " Experiment(id='d0d141ee4b5e64fd29c13f6442480ea8c63a229d708fbe02c37f8acd3756eeaf', created=datetime.datetime(2021, 6, 11, 18, 2, 46, 698828), user='tk', host=None, command='/Users/tk/opt/miniconda3/envs/tinyml/lib/python3.8/site-packages/ipykernel_launcher.py -f /Users/tk/Library/Jupyter/runtime/kernel-dba4cf8a-dddc-479c-9340-bb00ce08d4cb.json', config={'repository': 'file:///Users/tk/projects/tinyml-esp32-data/.keepsake', 'storage': ''}, path=None, params={'dataset_test_size': 0.35, 'n_estimators': 4, 'hz': 25, 'f1': 1, 'model': 'decision_tree', 'features': ['acc_x', 'acc_y', 'acc_z', 'gyro_z'], 'recall': 1, 'accuracy': 1, 'quantization': None, 'other_params': 'default', 'precision': 1, 'data_set': 'base', 'feature_count': 4}, python_version='3.8.3', python_packages={'scipy': '1.6.1', 'appnope': '0.1.2', 'cffi': '1.14.5', 'ipywidgets': '7.6.3', 'jedi': '0.17.0', 'ipykernel': '5.3.4', 'ptyprocess': '0.7.0', 'backcall': '0.2.0', 'colorama': '0.4.4', 'numpy': '1.20.1', 'six': '1.15.0', 'pickleshare': '0.7.5', 'pytz': '2021.1', 'pandas': '1.2.3', 'traitlets': '5.0.5', 'pyparsing': '2.4.7', 'joblib': '1.0.1', 'kiwisolver': '1.3.1', 'pygments': '2.8.1', 'wcwidth': '0.2.5', 'parso': '0.8.1', 'seaborn': '0.10.1', 'statsmodels': '0.12.2', 'matplotlib': '3.3.4', 'cycler': '0.10.0', 'decorator': '4.4.2', 'keepsake': '0.4.2', 'psutil': '5.8.0', 'tornado': '6.1', 'm2cgen': '0.9.0', 'pexpect': '4.8.0'}, keepsake_version='0.4.2', checkpoints=[Checkpoint(id='1eb8a47b77f1d4440af66dd678e2847db0adf6b2587629b5466d90f81b749ae3', created=datetime.datetime(2021, 6, 11, 18, 2, 46, 706939), path=None, step=0, metrics={'precision': 1, 'accurracy': 1, 'recall': 1, 'f1': 1}, primary_metric={'name': 'recall', 'goal': 'maximize'})]),\n",
       " Experiment(id='20ee1e4a6ef5840526ce32166ea0c340b2db7736676bf93ca5815b84cb3f21e2', created=datetime.datetime(2021, 6, 11, 18, 2, 47, 745302), user='tk', host=None, command='/Users/tk/opt/miniconda3/envs/tinyml/lib/python3.8/site-packages/ipykernel_launcher.py -f /Users/tk/Library/Jupyter/runtime/kernel-dba4cf8a-dddc-479c-9340-bb00ce08d4cb.json', config={'repository': 'file:///Users/tk/projects/tinyml-esp32-data/.keepsake', 'storage': ''}, path=None, params={'features': ['acc_x', 'acc_y', 'acc_z', 'gyro_z'], 'feature_count': 4, 'accuracy': 1, 'model': 'decision_tree', 'f1': 1, 'precision': 1, 'data_set': 'base', 'recall': 1, 'quantization': None, 'dataset_test_size': 0.35, 'n_estimators': 5, 'hz': 25, 'other_params': 'default'}, python_version='3.8.3', python_packages={'six': '1.15.0', 'jedi': '0.17.0', 'pickleshare': '0.7.5', 'ipywidgets': '7.6.3', 'pytz': '2021.1', 'pandas': '1.2.3', 'psutil': '5.8.0', 'ipykernel': '5.3.4', 'wcwidth': '0.2.5', 'joblib': '1.0.1', 'cycler': '0.10.0', 'm2cgen': '0.9.0', 'traitlets': '5.0.5', 'tornado': '6.1', 'ptyprocess': '0.7.0', 'colorama': '0.4.4', 'cffi': '1.14.5', 'pygments': '2.8.1', 'kiwisolver': '1.3.1', 'backcall': '0.2.0', 'decorator': '4.4.2', 'matplotlib': '3.3.4', 'pyparsing': '2.4.7', 'seaborn': '0.10.1', 'scipy': '1.6.1', 'appnope': '0.1.2', 'parso': '0.8.1', 'pexpect': '4.8.0', 'numpy': '1.20.1', 'statsmodels': '0.12.2', 'keepsake': '0.4.2'}, keepsake_version='0.4.2', checkpoints=[Checkpoint(id='1c7eb3bee1166aeac39d08a20674a9040950eb90de9f15dd4e7676d1181084ea', created=datetime.datetime(2021, 6, 11, 18, 2, 47, 754237), path=None, step=0, metrics={'accurracy': 1, 'recall': 1, 'f1': 1, 'precision': 1}, primary_metric={'name': 'recall', 'goal': 'maximize'})]),\n",
       " Experiment(id='647eac60dd1ecd11ff70504190e58f33800f3a61e8d0c4d348894bf422c37d5d', created=datetime.datetime(2021, 6, 11, 18, 2, 48, 791788), user='tk', host=None, command='/Users/tk/opt/miniconda3/envs/tinyml/lib/python3.8/site-packages/ipykernel_launcher.py -f /Users/tk/Library/Jupyter/runtime/kernel-dba4cf8a-dddc-479c-9340-bb00ce08d4cb.json', config={'repository': 'file:///Users/tk/projects/tinyml-esp32-data/.keepsake', 'storage': ''}, path=None, params={'data_set': 'base', 'features': ['acc_x', 'acc_y', 'acc_z', 'gyro_z'], 'dataset_test_size': 0.35, 'n_estimators': 6, 'other_params': 'default', 'f1': 1, 'precision': 1, 'recall': 1, 'model': 'decision_tree', 'hz': 25, 'feature_count': 4, 'quantization': None, 'accuracy': 1}, python_version='3.8.3', python_packages={'pickleshare': '0.7.5', 'appnope': '0.1.2', 'parso': '0.8.1', 'ipywidgets': '7.6.3', 'pexpect': '4.8.0', 'scipy': '1.6.1', 'pygments': '2.8.1', 'ipykernel': '5.3.4', 'backcall': '0.2.0', 'wcwidth': '0.2.5', 'statsmodels': '0.12.2', 'kiwisolver': '1.3.1', 'pytz': '2021.1', 'tornado': '6.1', 'joblib': '1.0.1', 'numpy': '1.20.1', 'jedi': '0.17.0', 'm2cgen': '0.9.0', 'pyparsing': '2.4.7', 'six': '1.15.0', 'keepsake': '0.4.2', 'decorator': '4.4.2', 'traitlets': '5.0.5', 'cycler': '0.10.0', 'psutil': '5.8.0', 'ptyprocess': '0.7.0', 'pandas': '1.2.3', 'seaborn': '0.10.1', 'cffi': '1.14.5', 'colorama': '0.4.4', 'matplotlib': '3.3.4'}, keepsake_version='0.4.2', checkpoints=[Checkpoint(id='4611a2c26675167dc15d2f2df5c33ff972bf84e1c4f5ee1c4527d230b9885df3', created=datetime.datetime(2021, 6, 11, 18, 2, 48, 801663), path=None, step=0, metrics={'recall': 1, 'accurracy': 1, 'f1': 1, 'precision': 1}, primary_metric={'name': 'recall', 'goal': 'maximize'})])]"
      ]
     },
     "execution_count": 13,
     "metadata": {},
     "output_type": "execute_result"
    }
   ],
   "source": [
    "keepsake.experiments.list(lambda exp: exp.params['accuracy'] == 1.0 and exp.params['model'] == 'decision_tree')"
   ]
  },
  {
   "cell_type": "code",
   "execution_count": null,
   "id": "635c4198-20fa-43fb-8cd1-77565abd21b4",
   "metadata": {},
   "outputs": [],
   "source": []
  }
 ],
 "metadata": {
  "kernelspec": {
   "display_name": "Python 3",
   "language": "python",
   "name": "python3"
  },
  "language_info": {
   "codemirror_mode": {
    "name": "ipython",
    "version": 3
   },
   "file_extension": ".py",
   "mimetype": "text/x-python",
   "name": "python",
   "nbconvert_exporter": "python",
   "pygments_lexer": "ipython3",
   "version": "3.8.3"
  }
 },
 "nbformat": 4,
 "nbformat_minor": 5
}
