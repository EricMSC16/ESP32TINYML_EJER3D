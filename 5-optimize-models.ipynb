{
 "cells": [
  {
   "cell_type": "code",
   "execution_count": 1,
   "id": "d5496ad0-171f-4129-9717-d7183c12a226",
   "metadata": {},
   "outputs": [],
   "source": [
    "import pandas as pd\n",
    "import keepsake\n",
    "import numpy as np\n",
    "import scipy.stats as stats\n",
    "\n",
    "import seaborn as sns\n",
    "import matplotlib.pyplot as plt\n",
    "import matplotlib.patches as mpatches\n",
    "\n",
    "plt.style.use('ggplot')\n",
    "\n",
    "%matplotlib inline"
   ]
  },
  {
   "cell_type": "code",
   "execution_count": 2,
   "id": "fcb2ce55-17e7-4118-b9c4-f73f85d7f453",
   "metadata": {},
   "outputs": [],
   "source": [
    "# only need to be run once to initialize\n",
    "\n",
    "# ! echo 'repository: \"file://.keepsake\"' > keepsake.yaml "
   ]
  },
  {
   "cell_type": "code",
   "execution_count": 3,
   "id": "fce3a27d-e892-48a5-bbf2-c7c2498fec5a",
   "metadata": {},
   "outputs": [
    {
     "data": {
      "text/plain": [
       "['acc_x|acc_y|acc_z|gyro_x|label',\n",
       " 'acc_x|acc_y|acc_z|gyro_y|label',\n",
       " 'acc_x|acc_y|acc_z|gyro_z|label',\n",
       " 'acc_x|acc_y|acc_z|gyro_x|gyro_y|label',\n",
       " 'acc_x|acc_y|acc_z|gyro_x|gyro_z|label',\n",
       " 'acc_x|acc_y|acc_z|gyro_y|gyro_z|label',\n",
       " 'acc_x|acc_y|acc_z|gyro_x|gyro_y|gyro_z|label']"
      ]
     },
     "execution_count": 3,
     "metadata": {},
     "output_type": "execute_result"
    }
   ],
   "source": [
    "# Generate combinations\n",
    "from itertools import combinations\n",
    "\n",
    "comb_list = []\n",
    "\n",
    "for features in [1,2,3]:\n",
    "    for com in combinations(['gyro_x','gyro_y','gyro_z'], features):\n",
    "        comb_list.append(f'acc_x|acc_y|acc_z|{\"|\".join(list(com))}|label')\n",
    "comb_list"
   ]
  },
  {
   "cell_type": "code",
   "execution_count": 4,
   "id": "d9f78b11-d400-4747-9126-5e51e1fae68d",
   "metadata": {},
   "outputs": [],
   "source": [
    "# df_10hz = pd.read_csv('data/transformed/20210529_v2_data_all_10hz.csv')\n",
    "df_20hz = pd.read_csv('data/transformed/20210529_v2_data_all_20hz.csv')\n",
    "df_25hz = pd.read_csv('data/transformed/20210529_v2_data_all_25hz.csv')\n",
    "df_50hz = pd.read_csv('data/transformed/20210529_v2_data_all_50hz.csv')\n",
    "# df_100hz = pd.read_csv('data/transformed/20210529_v2_data_all_100hz.csv')"
   ]
  },
  {
   "cell_type": "code",
   "execution_count": 5,
   "id": "436c4c2d-cbfe-4cd5-9935-6b1defe98e40",
   "metadata": {},
   "outputs": [],
   "source": [
    "def get_df_base(df):\n",
    "    df = df[(df['shift'] == 0)]\n",
    "    return df.dropna(axis=0)"
   ]
  },
  {
   "cell_type": "code",
   "execution_count": 6,
   "id": "85b89658-7498-4472-9cc1-ec9b3b49edbf",
   "metadata": {},
   "outputs": [],
   "source": [
    "df_20hz = get_df_base(df_20hz)\n",
    "df_25hz = get_df_base(df_25hz)\n",
    "df_50hz = get_df_base(df_50hz)"
   ]
  },
  {
   "cell_type": "code",
   "execution_count": 7,
   "id": "da67e2b5-3f74-46e4-a329-c30618d78d20",
   "metadata": {},
   "outputs": [],
   "source": [
    "def save_model_optimized(classifier, stage, dataset, model_type, exp_id):\n",
    "    '''\n",
    "        Saves model to defined folder.\n",
    "\n",
    "        stage - baseline/optimized\n",
    "        dataset - base/centered/end/etc\n",
    "        model_types - decision_tree, random_forest, ...\n",
    "        hz - frequency\n",
    "    '''\n",
    "\n",
    "    import os\n",
    "    import m2cgen as m2c\n",
    "    \n",
    "    BASE_PATH = f'models/{stage}/{dataset}/{model_type}/'\n",
    "    FILE_NAME = f'{model_type}_{exp_id}.py'\n",
    "\n",
    "    if not os.path.exists(BASE_PATH):\n",
    "        os.makedirs(BASE_PATH)\n",
    "\n",
    "    code = m2c.export_to_python(classifier)\n",
    "    with open(BASE_PATH + FILE_NAME, 'w') as f:\n",
    "        f.writelines(code)"
   ]
  },
  {
   "cell_type": "code",
   "execution_count": 15,
   "id": "72b8e812-b131-48bc-8688-5fd0e1556ac8",
   "metadata": {},
   "outputs": [
    {
     "name": "stdout",
     "output_type": "stream",
     "text": [
      "Signals: ['acc_x', 'acc_y', 'acc_z', 'gyro_x', 'gyro_y'] @ 20 >> Acc: 1.0, Prec: 1.0, Recall: 1.0\n"
     ]
    },
    {
     "name": "stderr",
     "output_type": "stream",
     "text": [
      "\u001b[2m═══╡ \u001b[0mCreating experiment c4977ec...\n",
      "\u001b[2m═══╡ \u001b[0mCreating checkpoint 979cae3...\n"
     ]
    },
    {
     "name": "stdout",
     "output_type": "stream",
     "text": [
      "Signals: ['acc_x', 'acc_y', 'acc_z', 'gyro_x', 'gyro_y'] @ 20 >> Acc: 1.0, Prec: 1.0, Recall: 1.0\n"
     ]
    },
    {
     "name": "stderr",
     "output_type": "stream",
     "text": [
      "\u001b[2m═══╡ \u001b[0mCreating experiment ad2b35e...\n",
      "\u001b[2m═══╡ \u001b[0mCreating checkpoint 2146cf6...\n"
     ]
    },
    {
     "name": "stdout",
     "output_type": "stream",
     "text": [
      "Signals: ['acc_x', 'acc_y', 'acc_z', 'gyro_x', 'gyro_y'] @ 20 >> Acc: 1.0, Prec: 1.0, Recall: 1.0\n"
     ]
    },
    {
     "name": "stderr",
     "output_type": "stream",
     "text": [
      "\u001b[2m═══╡ \u001b[0mCreating experiment b93560b...\n",
      "\u001b[2m═══╡ \u001b[0mCreating checkpoint 548556f...\n"
     ]
    },
    {
     "name": "stdout",
     "output_type": "stream",
     "text": [
      "Signals: ['acc_x', 'acc_y', 'acc_z', 'gyro_x', 'gyro_z'] @ 20 >> Acc: 1.0, Prec: 1.0, Recall: 1.0\n"
     ]
    },
    {
     "name": "stderr",
     "output_type": "stream",
     "text": [
      "\u001b[2m═══╡ \u001b[0mCreating experiment 6fee645...\n",
      "\u001b[2m═══╡ \u001b[0mCreating checkpoint 5917d55...\n"
     ]
    },
    {
     "name": "stdout",
     "output_type": "stream",
     "text": [
      "Signals: ['acc_x', 'acc_y', 'acc_z', 'gyro_x', 'gyro_y', 'gyro_z'] @ 25 >> Acc: 0.9875, Prec: 0.984375, Recall: 0.9924242424242424\n"
     ]
    },
    {
     "name": "stderr",
     "output_type": "stream",
     "text": [
      "\u001b[2m═══╡ \u001b[0mCreating experiment ab25c9b...\n",
      "\u001b[2m═══╡ \u001b[0mCreating checkpoint 4e6907a...\n"
     ]
    },
    {
     "name": "stdout",
     "output_type": "stream",
     "text": [
      "Signals: ['acc_x', 'acc_y', 'acc_z', 'gyro_x', 'gyro_y', 'gyro_z'] @ 25 >> Acc: 0.9875, Prec: 0.984375, Recall: 0.9924242424242424\n"
     ]
    },
    {
     "name": "stderr",
     "output_type": "stream",
     "text": [
      "\u001b[2m═══╡ \u001b[0mCreating experiment 702d6c3...\n",
      "\u001b[2m═══╡ \u001b[0mCreating checkpoint a9dbf3b...\n"
     ]
    },
    {
     "name": "stdout",
     "output_type": "stream",
     "text": [
      "Signals: ['acc_x', 'acc_y', 'acc_z', 'gyro_x', 'gyro_y'] @ 50 >> Acc: 1.0, Prec: 1.0, Recall: 1.0\n"
     ]
    },
    {
     "name": "stderr",
     "output_type": "stream",
     "text": [
      "\u001b[2m═══╡ \u001b[0mCreating experiment d0f587f...\n",
      "\u001b[2m═══╡ \u001b[0mCreating checkpoint 3179973...\n"
     ]
    },
    {
     "name": "stdout",
     "output_type": "stream",
     "text": [
      "Signals: ['acc_x', 'acc_y', 'acc_z', 'gyro_x', 'gyro_z'] @ 50 >> Acc: 1.0, Prec: 1.0, Recall: 1.0\n"
     ]
    },
    {
     "name": "stderr",
     "output_type": "stream",
     "text": [
      "\u001b[2m═══╡ \u001b[0mCreating experiment 66e6c68...\n",
      "\u001b[2m═══╡ \u001b[0mCreating checkpoint f0e81ed...\n"
     ]
    },
    {
     "name": "stdout",
     "output_type": "stream",
     "text": [
      "Signals: ['acc_x', 'acc_y', 'acc_z', 'gyro_x', 'gyro_y', 'gyro_z'] @ 50 >> Acc: 1.0, Prec: 1.0, Recall: 1.0\n"
     ]
    },
    {
     "name": "stderr",
     "output_type": "stream",
     "text": [
      "\u001b[2m═══╡ \u001b[0mCreating experiment 3bef8b4...\n",
      "\u001b[2m═══╡ \u001b[0mCreating checkpoint 84260b6...\n"
     ]
    }
   ],
   "source": [
    "from sklearn.model_selection import train_test_split\n",
    "from sklearn.ensemble import RandomForestClassifier\n",
    "\n",
    "from sklearn import metrics\n",
    "\n",
    "is_save_model=True\n",
    "CUTOFF=0.985\n",
    "dataset_test_sizes = [0.35]\n",
    "datasets = [(df_20hz, 20), (df_25hz, 25), (df_50hz, 50)]\n",
    "\n",
    "for df_t in datasets:\n",
    "    for comb in comb_list:\n",
    "        for dataset_test_size in dataset_test_sizes:\n",
    "            df_filtered = df_t[0].filter(regex=comb)\n",
    "            X_train, X_test, y_train, y_test = train_test_split(\n",
    "                df_filtered.drop('label',axis=1), df_filtered['label'], test_size=dataset_test_size, random_state=42)\n",
    "\n",
    "            for estimators in [4,5,6]:\n",
    "                clf = RandomForestClassifier(n_jobs=-1, n_estimators=estimators, random_state=42)\n",
    "                clf.fit(X_train, y_train)\n",
    "\n",
    "                y_pred = clf.predict(X_test)\n",
    "\n",
    "                accuracy = metrics.accuracy_score(y_test, y_pred)\n",
    "                f1 = metrics.f1_score(y_test, y_pred, average='macro')\n",
    "                precision = metrics.precision_score(y_test, y_pred, average='macro')\n",
    "                recall = metrics.recall_score(y_test, y_pred, average='macro')\n",
    "\n",
    "                if recall > CUTOFF:\n",
    "                    signals = comb.replace('|label','').split('|')\n",
    "                    \n",
    "                    print(f\"Signals: {signals} @ {df_t[1]} >> Acc: {accuracy}, Prec: {precision}, Recall: {recall}\")\n",
    "                    if is_save_model:\n",
    "                        experiment = keepsake.init(\n",
    "                            params={\n",
    "                                'model':'random_forest',\n",
    "                                'features': signals,\n",
    "                                'feature_count': len(signals),\n",
    "                                'n_estimators': estimators,\n",
    "                                'dataset_test_size': dataset_test_size,\n",
    "                                'hz':df_t[1],\n",
    "                                'data_set':'baseline',\n",
    "                                'quantization': None,\n",
    "                                'other_params': 'default'\n",
    "                                })\n",
    "\n",
    "                        path = save_model_optimized(clf, stage='optimized', dataset='base', model_type='random_forest', exp_id=experiment.id[:7])\n",
    "\n",
    "                        experiment.checkpoint(\n",
    "                            path=path,\n",
    "                            metrics={\"accurracy\":accuracy, \"f1\": f1, \"precision\": precision, \"recall\": recall},\n",
    "                            primary_metric=(\"recall\",\"maximize\")\n",
    "                        )\n",
    "                        experiment.stop()"
   ]
  },
  {
   "cell_type": "code",
   "execution_count": 8,
   "id": "435617da-f4f7-4e3e-8611-8c1158174eeb",
   "metadata": {},
   "outputs": [
    {
     "name": "stdout",
     "output_type": "stream",
     "text": [
      "Signals: ['acc_x', 'acc_y', 'acc_z', 'gyro_x'] @ 25 >> Acc: 1.0, Prec: 1.0, Recall: 1.0\n"
     ]
    },
    {
     "name": "stderr",
     "output_type": "stream",
     "text": [
      "\u001b[2m═══╡ \u001b[0mCreating experiment ac052df...\n",
      "\u001b[2m═══╡ \u001b[0mCreating checkpoint 70cf1c7...\n"
     ]
    },
    {
     "name": "stdout",
     "output_type": "stream",
     "text": [
      "Signals: ['acc_x', 'acc_y', 'acc_z', 'gyro_x'] @ 25 >> Acc: 1.0, Prec: 1.0, Recall: 1.0\n"
     ]
    },
    {
     "name": "stderr",
     "output_type": "stream",
     "text": [
      "\u001b[2m═══╡ \u001b[0mCreating experiment e9e7318...\n",
      "\u001b[2m═══╡ \u001b[0mCreating checkpoint 78eec40...\n"
     ]
    },
    {
     "name": "stdout",
     "output_type": "stream",
     "text": [
      "Signals: ['acc_x', 'acc_y', 'acc_z', 'gyro_x'] @ 25 >> Acc: 1.0, Prec: 1.0, Recall: 1.0\n"
     ]
    },
    {
     "name": "stderr",
     "output_type": "stream",
     "text": [
      "\u001b[2m═══╡ \u001b[0mCreating experiment 74c3d1b...\n",
      "\u001b[2m═══╡ \u001b[0mCreating checkpoint 6a445aa...\n"
     ]
    },
    {
     "name": "stdout",
     "output_type": "stream",
     "text": [
      "Signals: ['acc_x', 'acc_y', 'acc_z', 'gyro_y'] @ 25 >> Acc: 1.0, Prec: 1.0, Recall: 1.0\n"
     ]
    },
    {
     "name": "stderr",
     "output_type": "stream",
     "text": [
      "\u001b[2m═══╡ \u001b[0mCreating experiment 7cc070d...\n",
      "\u001b[2m═══╡ \u001b[0mCreating checkpoint 9dc653a...\n"
     ]
    },
    {
     "name": "stdout",
     "output_type": "stream",
     "text": [
      "Signals: ['acc_x', 'acc_y', 'acc_z', 'gyro_y'] @ 25 >> Acc: 1.0, Prec: 1.0, Recall: 1.0\n"
     ]
    },
    {
     "name": "stderr",
     "output_type": "stream",
     "text": [
      "\u001b[2m═══╡ \u001b[0mCreating experiment 8f9edc9...\n",
      "\u001b[2m═══╡ \u001b[0mCreating checkpoint 2d8f6f8...\n"
     ]
    },
    {
     "name": "stdout",
     "output_type": "stream",
     "text": [
      "Signals: ['acc_x', 'acc_y', 'acc_z', 'gyro_y'] @ 25 >> Acc: 1.0, Prec: 1.0, Recall: 1.0\n"
     ]
    },
    {
     "name": "stderr",
     "output_type": "stream",
     "text": [
      "\u001b[2m═══╡ \u001b[0mCreating experiment 924ffc4...\n",
      "\u001b[2m═══╡ \u001b[0mCreating checkpoint 4957576...\n"
     ]
    },
    {
     "name": "stdout",
     "output_type": "stream",
     "text": [
      "Signals: ['acc_x', 'acc_y', 'acc_z', 'gyro_z'] @ 25 >> Acc: 1.0, Prec: 1.0, Recall: 1.0\n"
     ]
    },
    {
     "name": "stderr",
     "output_type": "stream",
     "text": [
      "\u001b[2m═══╡ \u001b[0mCreating experiment 2c44811...\n",
      "\u001b[2m═══╡ \u001b[0mCreating checkpoint 9ff7fbb...\n"
     ]
    },
    {
     "name": "stdout",
     "output_type": "stream",
     "text": [
      "Signals: ['acc_x', 'acc_y', 'acc_z', 'gyro_z'] @ 25 >> Acc: 1.0, Prec: 1.0, Recall: 1.0\n"
     ]
    },
    {
     "name": "stderr",
     "output_type": "stream",
     "text": [
      "\u001b[2m═══╡ \u001b[0mCreating experiment eea617f...\n",
      "\u001b[2m═══╡ \u001b[0mCreating checkpoint 0dce32a...\n"
     ]
    },
    {
     "name": "stdout",
     "output_type": "stream",
     "text": [
      "Signals: ['acc_x', 'acc_y', 'acc_z', 'gyro_z'] @ 25 >> Acc: 1.0, Prec: 1.0, Recall: 1.0\n"
     ]
    },
    {
     "name": "stderr",
     "output_type": "stream",
     "text": [
      "\u001b[2m═══╡ \u001b[0mCreating experiment ed4a9f2...\n",
      "\u001b[2m═══╡ \u001b[0mCreating checkpoint b4feeeb...\n"
     ]
    },
    {
     "name": "stdout",
     "output_type": "stream",
     "text": [
      "Signals: ['acc_x', 'acc_y', 'acc_z', 'gyro_x'] @ 50 >> Acc: 0.9875, Prec: 0.9722222222222222, Recall: 0.9895833333333334\n"
     ]
    },
    {
     "name": "stderr",
     "output_type": "stream",
     "text": [
      "\u001b[2m═══╡ \u001b[0mCreating experiment e54bbee...\n",
      "\u001b[2m═══╡ \u001b[0mCreating checkpoint cce7395...\n"
     ]
    },
    {
     "name": "stdout",
     "output_type": "stream",
     "text": [
      "Signals: ['acc_x', 'acc_y', 'acc_z', 'gyro_x'] @ 50 >> Acc: 0.9875, Prec: 0.9722222222222222, Recall: 0.9895833333333334\n"
     ]
    },
    {
     "name": "stderr",
     "output_type": "stream",
     "text": [
      "\u001b[2m═══╡ \u001b[0mCreating experiment 522bd76...\n",
      "\u001b[2m═══╡ \u001b[0mCreating checkpoint 5286244...\n"
     ]
    },
    {
     "name": "stdout",
     "output_type": "stream",
     "text": [
      "Signals: ['acc_x', 'acc_y', 'acc_z', 'gyro_x'] @ 50 >> Acc: 0.9875, Prec: 0.9722222222222222, Recall: 0.9895833333333334\n"
     ]
    },
    {
     "name": "stderr",
     "output_type": "stream",
     "text": [
      "\u001b[2m═══╡ \u001b[0mCreating experiment 3b9bcaf...\n",
      "\u001b[2m═══╡ \u001b[0mCreating checkpoint 97d02f8...\n"
     ]
    },
    {
     "name": "stdout",
     "output_type": "stream",
     "text": [
      "Signals: ['acc_x', 'acc_y', 'acc_z', 'gyro_y'] @ 50 >> Acc: 0.9875, Prec: 0.9722222222222222, Recall: 0.9895833333333334\n"
     ]
    },
    {
     "name": "stderr",
     "output_type": "stream",
     "text": [
      "\u001b[2m═══╡ \u001b[0mCreating experiment 98b266e...\n",
      "\u001b[2m═══╡ \u001b[0mCreating checkpoint 0460a22...\n"
     ]
    },
    {
     "name": "stdout",
     "output_type": "stream",
     "text": [
      "Signals: ['acc_x', 'acc_y', 'acc_z', 'gyro_y'] @ 50 >> Acc: 0.9875, Prec: 0.9722222222222222, Recall: 0.9895833333333334\n"
     ]
    },
    {
     "name": "stderr",
     "output_type": "stream",
     "text": [
      "\u001b[2m═══╡ \u001b[0mCreating experiment 9541746...\n",
      "\u001b[2m═══╡ \u001b[0mCreating checkpoint af01caf...\n"
     ]
    },
    {
     "name": "stdout",
     "output_type": "stream",
     "text": [
      "Signals: ['acc_x', 'acc_y', 'acc_z', 'gyro_y'] @ 50 >> Acc: 0.9875, Prec: 0.9722222222222222, Recall: 0.9895833333333334\n"
     ]
    },
    {
     "name": "stderr",
     "output_type": "stream",
     "text": [
      "\u001b[2m═══╡ \u001b[0mCreating experiment 11cfc62...\n",
      "\u001b[2m═══╡ \u001b[0mCreating checkpoint b63d5ef...\n"
     ]
    },
    {
     "name": "stdout",
     "output_type": "stream",
     "text": [
      "Signals: ['acc_x', 'acc_y', 'acc_z', 'gyro_z'] @ 50 >> Acc: 0.9875, Prec: 0.9722222222222222, Recall: 0.9895833333333334\n"
     ]
    },
    {
     "name": "stderr",
     "output_type": "stream",
     "text": [
      "\u001b[2m═══╡ \u001b[0mCreating experiment 7f97d5c...\n",
      "\u001b[2m═══╡ \u001b[0mCreating checkpoint d485d57...\n"
     ]
    },
    {
     "name": "stdout",
     "output_type": "stream",
     "text": [
      "Signals: ['acc_x', 'acc_y', 'acc_z', 'gyro_z'] @ 50 >> Acc: 0.9875, Prec: 0.9722222222222222, Recall: 0.9895833333333334\n"
     ]
    },
    {
     "name": "stderr",
     "output_type": "stream",
     "text": [
      "\u001b[2m═══╡ \u001b[0mCreating experiment f9aa5c4...\n",
      "\u001b[2m═══╡ \u001b[0mCreating checkpoint f3cb90b...\n"
     ]
    },
    {
     "name": "stdout",
     "output_type": "stream",
     "text": [
      "Signals: ['acc_x', 'acc_y', 'acc_z', 'gyro_z'] @ 50 >> Acc: 0.9875, Prec: 0.9722222222222222, Recall: 0.9895833333333334\n"
     ]
    },
    {
     "name": "stderr",
     "output_type": "stream",
     "text": [
      "\u001b[2m═══╡ \u001b[0mCreating experiment 74782b2...\n",
      "\u001b[2m═══╡ \u001b[0mCreating checkpoint fcd2158...\n"
     ]
    }
   ],
   "source": [
    "from sklearn.model_selection import train_test_split\n",
    "from sklearn.tree import DecisionTreeClassifier\n",
    "\n",
    "from sklearn import metrics\n",
    "\n",
    "is_save_model=True\n",
    "CUTOFF=0.985\n",
    "dataset_test_sizes = [0.35]\n",
    "datasets = [(df_20hz, 20), (df_25hz, 25), (df_50hz, 50)]\n",
    "\n",
    "for df_t in datasets:\n",
    "    for comb in comb_list:\n",
    "        for dataset_test_size in dataset_test_sizes:\n",
    "            df_filtered = df_t[0].filter(regex=comb)\n",
    "            X_train, X_test, y_train, y_test = train_test_split(\n",
    "                df_filtered.drop('label',axis=1), df_filtered['label'], test_size=dataset_test_size, random_state=42)\n",
    "\n",
    "            for estimators in [4,5,6]:\n",
    "                clf = DecisionTreeClassifier( random_state=42)\n",
    "                clf.fit(X_train, y_train)\n",
    "\n",
    "                y_pred = clf.predict(X_test)\n",
    "\n",
    "                accuracy = metrics.accuracy_score(y_test, y_pred)\n",
    "                f1 = metrics.f1_score(y_test, y_pred, average='macro')\n",
    "                precision = metrics.precision_score(y_test, y_pred, average='macro')\n",
    "                recall = metrics.recall_score(y_test, y_pred, average='macro')\n",
    "\n",
    "                if recall > CUTOFF:\n",
    "                    signals = comb.replace('|label','').split('|')\n",
    "                    \n",
    "                    print(f\"Signals: {signals} @ {df_t[1]} >> Acc: {accuracy}, Prec: {precision}, Recall: {recall}\")\n",
    "                    if is_save_model:\n",
    "                        experiment = keepsake.init(\n",
    "                            params={\n",
    "                                'model':'decision_tree',\n",
    "                                'features': signals,\n",
    "                                'feature_count': len(signals),\n",
    "                                'n_estimators': estimators,\n",
    "                                'dataset_test_size': dataset_test_size,\n",
    "                                'hz':df_t[1],\n",
    "                                'data_set':'baseline',\n",
    "                                'quantization': None,\n",
    "                                'other_params': 'default'\n",
    "                                })\n",
    "\n",
    "                        path = save_model_optimized(clf, stage='optimized', dataset='base', model_type='random_forest', exp_id=experiment.id[:7])\n",
    "\n",
    "                        experiment.checkpoint(\n",
    "                            path=path,\n",
    "                            metrics={\"accurracy\":accuracy, \"f1\": f1, \"precision\": precision, \"recall\": recall},\n",
    "                            primary_metric=(\"recall\",\"maximize\")\n",
    "                        )\n",
    "                        experiment.stop()"
   ]
  },
  {
   "cell_type": "code",
   "execution_count": null,
   "id": "a5020296-900c-4047-a40f-7a4a78866de7",
   "metadata": {},
   "outputs": [],
   "source": []
  }
 ],
 "metadata": {
  "kernelspec": {
   "display_name": "Python 3",
   "language": "python",
   "name": "python3"
  },
  "language_info": {
   "codemirror_mode": {
    "name": "ipython",
    "version": 3
   },
   "file_extension": ".py",
   "mimetype": "text/x-python",
   "name": "python",
   "nbconvert_exporter": "python",
   "pygments_lexer": "ipython3",
   "version": "3.8.3"
  }
 },
 "nbformat": 4,
 "nbformat_minor": 5
}
