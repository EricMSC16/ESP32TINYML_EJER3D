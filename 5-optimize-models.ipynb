{
 "cells": [
  {
   "cell_type": "code",
   "execution_count": 1,
   "id": "d5496ad0-171f-4129-9717-d7183c12a226",
   "metadata": {},
   "outputs": [],
   "source": [
    "import pandas as pd\n",
    "import keepsake\n",
    "import numpy as np\n",
    "import scipy.stats as stats\n",
    "\n",
    "import seaborn as sns\n",
    "import matplotlib.pyplot as plt\n",
    "import matplotlib.patches as mpatches\n",
    "\n",
    "plt.style.use('ggplot')\n",
    "\n",
    "%matplotlib inline"
   ]
  },
  {
   "cell_type": "code",
   "execution_count": 2,
   "id": "fcb2ce55-17e7-4118-b9c4-f73f85d7f453",
   "metadata": {},
   "outputs": [],
   "source": [
    "# only need to be run once to initialize\n",
    "\n",
    "# ! echo 'repository: \"file://.keepsake\"' > keepsake.yaml "
   ]
  },
  {
   "cell_type": "code",
   "execution_count": 3,
   "id": "fce3a27d-e892-48a5-bbf2-c7c2498fec5a",
   "metadata": {},
   "outputs": [
    {
     "data": {
      "text/plain": [
       "['acc_x|acc_y|acc_z|gyro_x|label',\n",
       " 'acc_x|acc_y|acc_z|gyro_y|label',\n",
       " 'acc_x|acc_y|acc_z|gyro_z|label',\n",
       " 'acc_x|acc_y|acc_z|gyro_x|gyro_y|label',\n",
       " 'acc_x|acc_y|acc_z|gyro_x|gyro_z|label',\n",
       " 'acc_x|acc_y|acc_z|gyro_y|gyro_z|label',\n",
       " 'acc_x|acc_y|acc_z|gyro_x|gyro_y|gyro_z|label']"
      ]
     },
     "execution_count": 3,
     "metadata": {},
     "output_type": "execute_result"
    }
   ],
   "source": [
    "# Generate combinations\n",
    "from itertools import combinations\n",
    "\n",
    "comb_list = []\n",
    "\n",
    "for features in [1,2,3]:\n",
    "    for com in combinations(['gyro_x','gyro_y','gyro_z'], features):\n",
    "        comb_list.append(f'acc_x|acc_y|acc_z|{\"|\".join(list(com))}|label')\n",
    "comb_list"
   ]
  },
  {
   "cell_type": "code",
   "execution_count": 4,
   "id": "d9f78b11-d400-4747-9126-5e51e1fae68d",
   "metadata": {},
   "outputs": [],
   "source": [
    "# df_10hz = pd.read_csv('data/transformed/20210529_v2_data_all_10hz.csv')\n",
    "df_20hz = pd.read_csv('data/transformed/20210529_v2_data_all_20hz.csv')\n",
    "df_25hz = pd.read_csv('data/transformed/20210529_v2_data_all_25hz.csv')\n",
    "df_50hz = pd.read_csv('data/transformed/20210529_v2_data_all_50hz.csv')\n",
    "# df_100hz = pd.read_csv('data/transformed/20210529_v2_data_all_100hz.csv')"
   ]
  },
  {
   "cell_type": "code",
   "execution_count": 5,
   "id": "436c4c2d-cbfe-4cd5-9935-6b1defe98e40",
   "metadata": {},
   "outputs": [],
   "source": [
    "def get_df_base(df):\n",
    "    df = df[(df['shift'] == 0)]\n",
    "    return df.dropna(axis=0)"
   ]
  },
  {
   "cell_type": "code",
   "execution_count": 6,
   "id": "85b89658-7498-4472-9cc1-ec9b3b49edbf",
   "metadata": {},
   "outputs": [],
   "source": [
    "df_20hz = get_df_base(df_20hz)\n",
    "df_25hz = get_df_base(df_25hz)\n",
    "df_50hz = get_df_base(df_50hz)"
   ]
  },
  {
   "cell_type": "code",
   "execution_count": 7,
   "id": "da67e2b5-3f74-46e4-a329-c30618d78d20",
   "metadata": {},
   "outputs": [],
   "source": [
    "def save_model_optimized(classifier, stage, dataset, model_type, exp_id):\n",
    "    '''\n",
    "        Saves model to defined folder.\n",
    "\n",
    "        stage - baseline/optimized\n",
    "        dataset - base/centered/end/etc\n",
    "        model_types - decision_tree, random_forest, ...\n",
    "        hz - frequency\n",
    "    '''\n",
    "\n",
    "    import os\n",
    "    import m2cgen as m2c\n",
    "    \n",
    "    BASE_PATH = f'models/{stage}/{dataset}/{model_type}/'\n",
    "    FILE_NAME = f'{model_type}_{exp_id}.py'\n",
    "\n",
    "    if not os.path.exists(BASE_PATH):\n",
    "        os.makedirs(BASE_PATH)\n",
    "\n",
    "    code = m2c.export_to_python(classifier)\n",
    "    with open(BASE_PATH + FILE_NAME, 'w') as f:\n",
    "        f.writelines(code)\n",
    "        \n",
    "    return BASE_PATH + FILE_NAME"
   ]
  },
  {
   "cell_type": "code",
   "execution_count": 8,
   "id": "72b8e812-b131-48bc-8688-5fd0e1556ac8",
   "metadata": {},
   "outputs": [
    {
     "name": "stderr",
     "output_type": "stream",
     "text": [
      "\u001b[2m═══╡ \u001b[0mCreating experiment 78ad688...\n",
      "\u001b[2m═══╡ \u001b[0mCreating checkpoint cf9d863, copying 'models/optimized/base/random_forest/random_forest_78ad688.py' to 'file:///Users/tk/projects/tinyml-esp32-data/.keepsake' in the background...\n"
     ]
    },
    {
     "name": "stdout",
     "output_type": "stream",
     "text": [
      "Signals: ['acc_x', 'acc_y', 'acc_z', 'gyro_x', 'gyro_y'] @ 20 >> Acc: 1.0, Prec: 1.0, Recall: 1.0\n",
      "Signals: ['acc_x', 'acc_y', 'acc_z', 'gyro_x', 'gyro_y'] @ 20 >> Acc: 1.0, Prec: 1.0, Recall: 1.0\n"
     ]
    },
    {
     "name": "stderr",
     "output_type": "stream",
     "text": [
      "\u001b[2m═══╡ \u001b[0mCreating experiment d5da9fe...\n",
      "\u001b[2m═══╡ \u001b[0mCreating checkpoint 5f27590, copying 'models/optimized/base/random_forest/random_forest_d5da9fe.py' to 'file:///Users/tk/projects/tinyml-esp32-data/.keepsake' in the background...\n"
     ]
    },
    {
     "name": "stdout",
     "output_type": "stream",
     "text": [
      "Signals: ['acc_x', 'acc_y', 'acc_z', 'gyro_x', 'gyro_y'] @ 20 >> Acc: 1.0, Prec: 1.0, Recall: 1.0\n"
     ]
    },
    {
     "name": "stderr",
     "output_type": "stream",
     "text": [
      "\u001b[2m═══╡ \u001b[0mCreating experiment 5b65d1f...\n",
      "\u001b[2m═══╡ \u001b[0mCreating checkpoint 16fff24, copying 'models/optimized/base/random_forest/random_forest_5b65d1f.py' to 'file:///Users/tk/projects/tinyml-esp32-data/.keepsake' in the background...\n"
     ]
    },
    {
     "name": "stdout",
     "output_type": "stream",
     "text": [
      "Signals: ['acc_x', 'acc_y', 'acc_z', 'gyro_x', 'gyro_z'] @ 20 >> Acc: 1.0, Prec: 1.0, Recall: 1.0\n"
     ]
    },
    {
     "name": "stderr",
     "output_type": "stream",
     "text": [
      "\u001b[2m═══╡ \u001b[0mCreating experiment 2c811ab...\n",
      "\u001b[2m═══╡ \u001b[0mCreating checkpoint c84f79e, copying 'models/optimized/base/random_forest/random_forest_2c811ab.py' to 'file:///Users/tk/projects/tinyml-esp32-data/.keepsake' in the background...\n"
     ]
    },
    {
     "name": "stdout",
     "output_type": "stream",
     "text": [
      "Signals: ['acc_x', 'acc_y', 'acc_z', 'gyro_x', 'gyro_y', 'gyro_z'] @ 25 >> Acc: 0.9875, Prec: 0.984375, Recall: 0.9924242424242424\n"
     ]
    },
    {
     "name": "stderr",
     "output_type": "stream",
     "text": [
      "\u001b[2m═══╡ \u001b[0mCreating experiment b159d83...\n",
      "\u001b[2m═══╡ \u001b[0mCreating checkpoint 4327f17, copying 'models/optimized/base/random_forest/random_forest_b159d83.py' to 'file:///Users/tk/projects/tinyml-esp32-data/.keepsake' in the background...\n"
     ]
    },
    {
     "name": "stdout",
     "output_type": "stream",
     "text": [
      "Signals: ['acc_x', 'acc_y', 'acc_z', 'gyro_x', 'gyro_y', 'gyro_z'] @ 25 >> Acc: 0.9875, Prec: 0.984375, Recall: 0.9924242424242424\n"
     ]
    },
    {
     "name": "stderr",
     "output_type": "stream",
     "text": [
      "\u001b[2m═══╡ \u001b[0mCreating experiment 263279a...\n",
      "\u001b[2m═══╡ \u001b[0mCreating checkpoint 0f3d3e5, copying 'models/optimized/base/random_forest/random_forest_263279a.py' to 'file:///Users/tk/projects/tinyml-esp32-data/.keepsake' in the background...\n"
     ]
    },
    {
     "name": "stdout",
     "output_type": "stream",
     "text": [
      "Signals: ['acc_x', 'acc_y', 'acc_z', 'gyro_x', 'gyro_y'] @ 50 >> Acc: 1.0, Prec: 1.0, Recall: 1.0\n"
     ]
    },
    {
     "name": "stderr",
     "output_type": "stream",
     "text": [
      "\u001b[2m═══╡ \u001b[0mCreating experiment 628e029...\n",
      "\u001b[2m═══╡ \u001b[0mCreating checkpoint d04857d, copying 'models/optimized/base/random_forest/random_forest_628e029.py' to 'file:///Users/tk/projects/tinyml-esp32-data/.keepsake' in the background...\n"
     ]
    },
    {
     "name": "stdout",
     "output_type": "stream",
     "text": [
      "Signals: ['acc_x', 'acc_y', 'acc_z', 'gyro_x', 'gyro_z'] @ 50 >> Acc: 1.0, Prec: 1.0, Recall: 1.0\n"
     ]
    },
    {
     "name": "stderr",
     "output_type": "stream",
     "text": [
      "\u001b[2m═══╡ \u001b[0mCreating experiment 232d3ae...\n",
      "\u001b[2m═══╡ \u001b[0mCreating checkpoint 0eab042, copying 'models/optimized/base/random_forest/random_forest_232d3ae.py' to 'file:///Users/tk/projects/tinyml-esp32-data/.keepsake' in the background...\n"
     ]
    },
    {
     "name": "stdout",
     "output_type": "stream",
     "text": [
      "Signals: ['acc_x', 'acc_y', 'acc_z', 'gyro_x', 'gyro_y', 'gyro_z'] @ 50 >> Acc: 1.0, Prec: 1.0, Recall: 1.0\n"
     ]
    },
    {
     "name": "stderr",
     "output_type": "stream",
     "text": [
      "\u001b[2m═══╡ \u001b[0mCreating experiment f28b45c...\n",
      "\u001b[2m═══╡ \u001b[0mCreating checkpoint e6409a1, copying 'models/optimized/base/random_forest/random_forest_f28b45c.py' to 'file:///Users/tk/projects/tinyml-esp32-data/.keepsake' in the background...\n"
     ]
    }
   ],
   "source": [
    "from sklearn.model_selection import train_test_split\n",
    "from sklearn.ensemble import RandomForestClassifier\n",
    "\n",
    "from sklearn import metrics\n",
    "\n",
    "is_save_model = True\n",
    "model_type = 'random_forest'\n",
    "stage = 'optimized'\n",
    "dataset = 'base'\n",
    "quantization = None\n",
    "estimators = None\n",
    "\n",
    "cutoff=0.99\n",
    "dataset_test_sizes = [0.35]\n",
    "datasets_setup = [(df_20hz, 20), (df_25hz, 25), (df_50hz, 50)]\n",
    "\n",
    "for df_t in datasets_setup:\n",
    "    for comb in comb_list:\n",
    "        for dataset_test_size in dataset_test_sizes:\n",
    "            df_filtered = df_t[0].filter(regex=comb)\n",
    "            X_train, X_test, y_train, y_test = train_test_split(\n",
    "                df_filtered.drop('label',axis=1), df_filtered['label'], test_size=dataset_test_size, random_state=42)\n",
    "\n",
    "            for estimators in [4,5,6]:\n",
    "                clf = RandomForestClassifier(n_jobs=-1, n_estimators=estimators, random_state=42)\n",
    "                clf.fit(X_train, y_train)\n",
    "\n",
    "                y_pred = clf.predict(X_test)\n",
    "\n",
    "                accuracy = metrics.accuracy_score(y_test, y_pred)\n",
    "                f1 = metrics.f1_score(y_test, y_pred, average='macro')\n",
    "                precision = metrics.precision_score(y_test, y_pred, average='macro')\n",
    "                recall = metrics.recall_score(y_test, y_pred, average='macro')\n",
    "\n",
    "                if recall > cutoff:\n",
    "                    signals = comb.replace('|label','').split('|')\n",
    "                    print(f\"Signals: {signals} @ {df_t[1]} >> Acc: {accuracy}, Prec: {precision}, Recall: {recall}\")\n",
    "                    \n",
    "                    if is_save_model:\n",
    "                        experiment = keepsake.init(\n",
    "                            params={\n",
    "                                'model':model_type,\n",
    "                                'features': signals,\n",
    "                                'feature_count': len(signals),\n",
    "                                'n_estimators': estimators,\n",
    "                                'dataset_test_size': dataset_test_size,\n",
    "                                'hz':df_t[1],\n",
    "                                'data_set':dataset,\n",
    "                                'quantization': quantization,\n",
    "                                'other_params': 'default',\n",
    "                                'accuracy': accuracy,\n",
    "                                'precision':precision,\n",
    "                                'recall':recall,\n",
    "                                'f1':f1\n",
    "                                })\n",
    "\n",
    "                        path = save_model_optimized(clf, stage=stage, dataset=dataset, model_type=model_type, exp_id=experiment.id[:7])\n",
    "\n",
    "                        experiment.checkpoint(\n",
    "                            path=path,\n",
    "                            metrics={\"accurracy\":accuracy, \"f1\": f1, \"precision\": precision, \"recall\": recall},\n",
    "                            primary_metric=(\"recall\",\"maximize\")\n",
    "                        )\n",
    "                        experiment.stop()"
   ]
  },
  {
   "cell_type": "code",
   "execution_count": 9,
   "id": "435617da-f4f7-4e3e-8611-8c1158174eeb",
   "metadata": {},
   "outputs": [
    {
     "name": "stdout",
     "output_type": "stream",
     "text": [
      "Signals: ['acc_x', 'acc_y', 'acc_z', 'gyro_x'] @ 25 >> Acc: 1.0, Prec: 1.0, Recall: 1.0\n"
     ]
    },
    {
     "name": "stderr",
     "output_type": "stream",
     "text": [
      "\u001b[2m═══╡ \u001b[0mCreating experiment 30462fd...\n",
      "\u001b[2m═══╡ \u001b[0mCreating checkpoint eafbd06, copying 'models/optimized/base/decision_tree/decision_tree_30462fd.py' to 'file:///Users/tk/projects/tinyml-esp32-data/.keepsake' in the background...\n"
     ]
    },
    {
     "name": "stdout",
     "output_type": "stream",
     "text": [
      "Signals: ['acc_x', 'acc_y', 'acc_z', 'gyro_y'] @ 25 >> Acc: 1.0, Prec: 1.0, Recall: 1.0\n"
     ]
    },
    {
     "name": "stderr",
     "output_type": "stream",
     "text": [
      "\u001b[2m═══╡ \u001b[0mCreating experiment 36284c7...\n",
      "\u001b[2m═══╡ \u001b[0mCreating checkpoint 727383b, copying 'models/optimized/base/decision_tree/decision_tree_36284c7.py' to 'file:///Users/tk/projects/tinyml-esp32-data/.keepsake' in the background...\n"
     ]
    },
    {
     "name": "stdout",
     "output_type": "stream",
     "text": [
      "Signals: ['acc_x', 'acc_y', 'acc_z', 'gyro_z'] @ 25 >> Acc: 1.0, Prec: 1.0, Recall: 1.0\n"
     ]
    },
    {
     "name": "stderr",
     "output_type": "stream",
     "text": [
      "\u001b[2m═══╡ \u001b[0mCreating experiment 4edbe66...\n",
      "\u001b[2m═══╡ \u001b[0mCreating checkpoint 55f4a25, copying 'models/optimized/base/decision_tree/decision_tree_4edbe66.py' to 'file:///Users/tk/projects/tinyml-esp32-data/.keepsake' in the background...\n"
     ]
    }
   ],
   "source": [
    "from sklearn.model_selection import train_test_split\n",
    "from sklearn.tree import DecisionTreeClassifier\n",
    "\n",
    "from sklearn import metrics\n",
    "\n",
    "is_save_model = True\n",
    "model_type = 'decision_tree'\n",
    "stage = 'optimized'\n",
    "dataset = 'base'\n",
    "quantization = None\n",
    "estimators = None\n",
    "\n",
    "cutoff=0.99\n",
    "dataset_test_sizes = [0.35]\n",
    "datasets_setup = [(df_20hz, 20), (df_25hz, 25), (df_50hz, 50)]\n",
    "\n",
    "for df_t in datasets_setup:\n",
    "    for comb in comb_list:\n",
    "        for dataset_test_size in dataset_test_sizes:\n",
    "            df_filtered = df_t[0].filter(regex=comb)\n",
    "            X_train, X_test, y_train, y_test = train_test_split(\n",
    "                df_filtered.drop('label',axis=1), df_filtered['label'], test_size=dataset_test_size, random_state=42)\n",
    "\n",
    "            clf = DecisionTreeClassifier(random_state=42)\n",
    "            clf.fit(X_train, y_train)\n",
    "\n",
    "            y_pred = clf.predict(X_test)\n",
    "\n",
    "            accuracy = metrics.accuracy_score(y_test, y_pred)\n",
    "            f1 = metrics.f1_score(y_test, y_pred, average='macro')\n",
    "            precision = metrics.precision_score(y_test, y_pred, average='macro')\n",
    "            recall = metrics.recall_score(y_test, y_pred, average='macro')\n",
    "\n",
    "            if recall > cutoff:\n",
    "                signals = comb.replace('|label','').split('|')\n",
    "                print(f\"Signals: {signals} @ {df_t[1]} >> Acc: {accuracy}, Prec: {precision}, Recall: {recall}\")\n",
    "\n",
    "                if is_save_model:\n",
    "                    experiment = keepsake.init(\n",
    "                        params={\n",
    "                            'model':model_type,\n",
    "                            'features': signals,\n",
    "                            'feature_count': len(signals),\n",
    "                            'n_estimators': estimators,\n",
    "                            'dataset_test_size': dataset_test_size,\n",
    "                            'hz':df_t[1],\n",
    "                            'data_set':dataset,\n",
    "                            'quantization': quantization,\n",
    "                            'other_params': 'default',\n",
    "                            'accuracy': accuracy,\n",
    "                            'precision':precision,\n",
    "                            'recall':recall,\n",
    "                            'f1':f1\n",
    "                            })\n",
    "\n",
    "                    path = save_model_optimized(clf, stage=stage, dataset=dataset, model_type=model_type, exp_id=experiment.id[:7])\n",
    "\n",
    "                    experiment.checkpoint(\n",
    "                        path=path,\n",
    "                        metrics={\"accurracy\":accuracy, \"f1\": f1, \"precision\": precision, \"recall\": recall},\n",
    "                        primary_metric=(\"recall\",\"maximize\")\n",
    "                    )\n",
    "                    experiment.stop()"
   ]
  },
  {
   "cell_type": "code",
   "execution_count": 12,
   "id": "a5020296-900c-4047-a40f-7a4a78866de7",
   "metadata": {},
   "outputs": [
    {
     "data": {
      "text/html": [
       "<table><tr><th>id</th><th>created</th><th>params</th><th>latest_checkpoint</th><th>best_checkpoint</th></tr><tr><th>78ad688</th><th>2021-06-11 18:36:04.393607</th><th>{&#x27;recall&#x27;: 1, &#x27;n_estimators&#x27;: 4, &#x27;hz&#x27;: 20, &#x27;precision&#x27;: 1, &#x27;accuracy&#x27;: 1, &#x27;quantization&#x27;: None, &#x27;model&#x27;: &#x27;random_forest&#x27;, &#x27;features&#x27;: [&#x27;acc_x&#x27;, &#x27;acc_y&#x27;, &#x27;acc_z&#x27;, &#x27;gyro_x&#x27;, &#x27;gyro_y&#x27;], &#x27;data_set&#x27;: &#x27;base&#x27;, &#x27;other_params&#x27;: &#x27;default&#x27;, &#x27;f1&#x27;: 1, &#x27;dataset_test_size&#x27;: 0.35, &#x27;feature_count&#x27;: 5}</th><th>cf9d863 (step 0; recall: 1)</th><th>cf9d863 (step 0; recall: 1)</th></tr><tr><th>d5da9fe</th><th>2021-06-11 18:36:05.494630</th><th>{&#x27;model&#x27;: &#x27;random_forest&#x27;, &#x27;accuracy&#x27;: 1, &#x27;features&#x27;: [&#x27;acc_x&#x27;, &#x27;acc_y&#x27;, &#x27;acc_z&#x27;, &#x27;gyro_x&#x27;, &#x27;gyro_y&#x27;], &#x27;recall&#x27;: 1, &#x27;feature_count&#x27;: 5, &#x27;n_estimators&#x27;: 5, &#x27;other_params&#x27;: &#x27;default&#x27;, &#x27;precision&#x27;: 1, &#x27;quantization&#x27;: None, &#x27;f1&#x27;: 1, &#x27;dataset_test_size&#x27;: 0.35, &#x27;hz&#x27;: 20, &#x27;data_set&#x27;: &#x27;base&#x27;}</th><th>5f27590 (step 0; recall: 1)</th><th>5f27590 (step 0; recall: 1)</th></tr><tr><th>5b65d1f</th><th>2021-06-11 18:36:06.563546</th><th>{&#x27;f1&#x27;: 1, &#x27;quantization&#x27;: None, &#x27;recall&#x27;: 1, &#x27;data_set&#x27;: &#x27;base&#x27;, &#x27;feature_count&#x27;: 5, &#x27;features&#x27;: [&#x27;acc_x&#x27;, &#x27;acc_y&#x27;, &#x27;acc_z&#x27;, &#x27;gyro_x&#x27;, &#x27;gyro_y&#x27;], &#x27;dataset_test_size&#x27;: 0.35, &#x27;hz&#x27;: 20, &#x27;model&#x27;: &#x27;random_forest&#x27;, &#x27;accuracy&#x27;: 1, &#x27;other_params&#x27;: &#x27;default&#x27;, &#x27;precision&#x27;: 1, &#x27;n_estimators&#x27;: 6}</th><th>16fff24 (step 0; recall: 1)</th><th>16fff24 (step 0; recall: 1)</th></tr><tr><th>2c811ab</th><th>2021-06-11 18:36:07.637670</th><th>{&#x27;model&#x27;: &#x27;random_forest&#x27;, &#x27;quantization&#x27;: None, &#x27;precision&#x27;: 1, &#x27;feature_count&#x27;: 5, &#x27;recall&#x27;: 1, &#x27;hz&#x27;: 20, &#x27;data_set&#x27;: &#x27;base&#x27;, &#x27;accuracy&#x27;: 1, &#x27;f1&#x27;: 1, &#x27;n_estimators&#x27;: 4, &#x27;other_params&#x27;: &#x27;default&#x27;, &#x27;dataset_test_size&#x27;: 0.35, &#x27;features&#x27;: [&#x27;acc_x&#x27;, &#x27;acc_y&#x27;, &#x27;acc_z&#x27;, &#x27;gyro_x&#x27;, &#x27;gyro_z&#x27;]}</th><th>c84f79e (step 0; recall: 1)</th><th>c84f79e (step 0; recall: 1)</th></tr><tr><th>628e029</th><th>2021-06-11 18:36:11.523512</th><th>{&#x27;f1&#x27;: 1, &#x27;accuracy&#x27;: 1, &#x27;model&#x27;: &#x27;random_forest&#x27;, &#x27;hz&#x27;: 50, &#x27;recall&#x27;: 1, &#x27;n_estimators&#x27;: 6, &#x27;precision&#x27;: 1, &#x27;features&#x27;: [&#x27;acc_x&#x27;, &#x27;acc_y&#x27;, &#x27;acc_z&#x27;, &#x27;gyro_x&#x27;, &#x27;gyro_y&#x27;], &#x27;quantization&#x27;: None, &#x27;dataset_test_size&#x27;: 0.35, &#x27;feature_count&#x27;: 5, &#x27;data_set&#x27;: &#x27;base&#x27;, &#x27;other_params&#x27;: &#x27;default&#x27;}</th><th>d04857d (step 0; recall: 1)</th><th>d04857d (step 0; recall: 1)</th></tr><tr><th>232d3ae</th><th>2021-06-11 18:36:12.643836</th><th>{&#x27;accuracy&#x27;: 1, &#x27;model&#x27;: &#x27;random_forest&#x27;, &#x27;recall&#x27;: 1, &#x27;feature_count&#x27;: 5, &#x27;f1&#x27;: 1, &#x27;hz&#x27;: 50, &#x27;precision&#x27;: 1, &#x27;quantization&#x27;: None, &#x27;data_set&#x27;: &#x27;base&#x27;, &#x27;n_estimators&#x27;: 6, &#x27;dataset_test_size&#x27;: 0.35, &#x27;other_params&#x27;: &#x27;default&#x27;, &#x27;features&#x27;: [&#x27;acc_x&#x27;, &#x27;acc_y&#x27;, &#x27;acc_z&#x27;, &#x27;gyro_x&#x27;, &#x27;gyro_z&#x27;]}</th><th>0eab042 (step 0; recall: 1)</th><th>0eab042 (step 0; recall: 1)</th></tr><tr><th>f28b45c</th><th>2021-06-11 18:36:13.792155</th><th>{&#x27;quantization&#x27;: None, &#x27;features&#x27;: [&#x27;acc_x&#x27;, &#x27;acc_y&#x27;, &#x27;acc_z&#x27;, &#x27;gyro_x&#x27;, &#x27;gyro_y&#x27;, &#x27;gyro_z&#x27;], &#x27;data_set&#x27;: &#x27;base&#x27;, &#x27;accuracy&#x27;: 1, &#x27;model&#x27;: &#x27;random_forest&#x27;, &#x27;n_estimators&#x27;: 5, &#x27;other_params&#x27;: &#x27;default&#x27;, &#x27;feature_count&#x27;: 6, &#x27;f1&#x27;: 1, &#x27;dataset_test_size&#x27;: 0.35, &#x27;precision&#x27;: 1, &#x27;recall&#x27;: 1, &#x27;hz&#x27;: 50}</th><th>e6409a1 (step 0; recall: 1)</th><th>e6409a1 (step 0; recall: 1)</th></tr></table>"
      ],
      "text/plain": [
       "[Experiment(id='78ad688d570ae4ea82282ee1aaf4ad22317627d14843f21651f441671a07320f', created=datetime.datetime(2021, 6, 11, 18, 36, 4, 393607), user='tk', host=None, command='/Users/tk/opt/miniconda3/envs/tinyml/lib/python3.8/site-packages/ipykernel_launcher.py -f /Users/tk/Library/Jupyter/runtime/kernel-dba4cf8a-dddc-479c-9340-bb00ce08d4cb.json', config={'repository': 'file:///Users/tk/projects/tinyml-esp32-data/.keepsake', 'storage': ''}, path=None, params={'recall': 1, 'n_estimators': 4, 'hz': 20, 'precision': 1, 'accuracy': 1, 'quantization': None, 'model': 'random_forest', 'features': ['acc_x', 'acc_y', 'acc_z', 'gyro_x', 'gyro_y'], 'data_set': 'base', 'other_params': 'default', 'f1': 1, 'dataset_test_size': 0.35, 'feature_count': 5}, python_version='3.8.3', python_packages={'statsmodels': '0.12.2', 'decorator': '4.4.2', 'pandas': '1.2.3', 'cffi': '1.14.5', 'joblib': '1.0.1', 'pytz': '2021.1', 'seaborn': '0.10.1', 'keepsake': '0.4.2', 'appnope': '0.1.2', 'psutil': '5.8.0', 'wcwidth': '0.2.5', 'pickleshare': '0.7.5', 'backcall': '0.2.0', 'traitlets': '5.0.5', 'tornado': '6.1', 'jedi': '0.17.0', 'ipykernel': '5.3.4', 'kiwisolver': '1.3.1', 'matplotlib': '3.3.4', 'six': '1.15.0', 'parso': '0.8.1', 'pexpect': '4.8.0', 'ptyprocess': '0.7.0', 'numpy': '1.20.1', 'pyparsing': '2.4.7', 'scipy': '1.6.1', 'pygments': '2.8.1', 'colorama': '0.4.4', 'ipywidgets': '7.6.3', 'cycler': '0.10.0'}, keepsake_version='0.4.2', checkpoints=[Checkpoint(id='cf9d863ccd0cc459a0ff4da7cf33627c64d65e56ea5353c8395474e1f8281762', created=datetime.datetime(2021, 6, 11, 18, 36, 4, 447483), path='models/optimized/base/random_forest/random_forest_78ad688.py', step=0, metrics={'f1': 1, 'precision': 1, 'accurracy': 1, 'recall': 1}, primary_metric={'name': 'recall', 'goal': 'maximize'})]),\n",
       " Experiment(id='d5da9fecf9b5363890afef50d7a7eb131e510c7e49d6d8bcd5e03989bd554964', created=datetime.datetime(2021, 6, 11, 18, 36, 5, 494630), user='tk', host=None, command='/Users/tk/opt/miniconda3/envs/tinyml/lib/python3.8/site-packages/ipykernel_launcher.py -f /Users/tk/Library/Jupyter/runtime/kernel-dba4cf8a-dddc-479c-9340-bb00ce08d4cb.json', config={'repository': 'file:///Users/tk/projects/tinyml-esp32-data/.keepsake', 'storage': ''}, path=None, params={'model': 'random_forest', 'accuracy': 1, 'features': ['acc_x', 'acc_y', 'acc_z', 'gyro_x', 'gyro_y'], 'recall': 1, 'feature_count': 5, 'n_estimators': 5, 'other_params': 'default', 'precision': 1, 'quantization': None, 'f1': 1, 'dataset_test_size': 0.35, 'hz': 20, 'data_set': 'base'}, python_version='3.8.3', python_packages={'backcall': '0.2.0', 'wcwidth': '0.2.5', 'appnope': '0.1.2', 'pexpect': '4.8.0', 'pickleshare': '0.7.5', 'traitlets': '5.0.5', 'colorama': '0.4.4', 'pyparsing': '2.4.7', 'numpy': '1.20.1', 'ipykernel': '5.3.4', 'ipywidgets': '7.6.3', 'pytz': '2021.1', 'six': '1.15.0', 'ptyprocess': '0.7.0', 'kiwisolver': '1.3.1', 'cffi': '1.14.5', 'matplotlib': '3.3.4', 'pygments': '2.8.1', 'parso': '0.8.1', 'psutil': '5.8.0', 'joblib': '1.0.1', 'scipy': '1.6.1', 'cycler': '0.10.0', 'm2cgen': '0.9.0', 'tornado': '6.1', 'seaborn': '0.10.1', 'statsmodels': '0.12.2', 'keepsake': '0.4.2', 'decorator': '4.4.2', 'pandas': '1.2.3', 'jedi': '0.17.0'}, keepsake_version='0.4.2', checkpoints=[Checkpoint(id='5f27590d4624cf295e7973cfb5b3e478601126909856baa1771067f4e82d1143', created=datetime.datetime(2021, 6, 11, 18, 36, 5, 511065), path='models/optimized/base/random_forest/random_forest_d5da9fe.py', step=0, metrics={'recall': 1, 'f1': 1, 'precision': 1, 'accurracy': 1}, primary_metric={'name': 'recall', 'goal': 'maximize'})]),\n",
       " Experiment(id='5b65d1f2aeb50b2bd9745a67071a0a620ba9ce2bb02e0aad47e08819966634e3', created=datetime.datetime(2021, 6, 11, 18, 36, 6, 563546), user='tk', host=None, command='/Users/tk/opt/miniconda3/envs/tinyml/lib/python3.8/site-packages/ipykernel_launcher.py -f /Users/tk/Library/Jupyter/runtime/kernel-dba4cf8a-dddc-479c-9340-bb00ce08d4cb.json', config={'repository': 'file:///Users/tk/projects/tinyml-esp32-data/.keepsake', 'storage': ''}, path=None, params={'f1': 1, 'quantization': None, 'recall': 1, 'data_set': 'base', 'feature_count': 5, 'features': ['acc_x', 'acc_y', 'acc_z', 'gyro_x', 'gyro_y'], 'dataset_test_size': 0.35, 'hz': 20, 'model': 'random_forest', 'accuracy': 1, 'other_params': 'default', 'precision': 1, 'n_estimators': 6}, python_version='3.8.3', python_packages={'parso': '0.8.1', 'pytz': '2021.1', 'pexpect': '4.8.0', 'keepsake': '0.4.2', 'ipywidgets': '7.6.3', 'seaborn': '0.10.1', 'statsmodels': '0.12.2', 'six': '1.15.0', 'scipy': '1.6.1', 'm2cgen': '0.9.0', 'pyparsing': '2.4.7', 'psutil': '5.8.0', 'traitlets': '5.0.5', 'ptyprocess': '0.7.0', 'jedi': '0.17.0', 'pickleshare': '0.7.5', 'kiwisolver': '1.3.1', 'joblib': '1.0.1', 'wcwidth': '0.2.5', 'pygments': '2.8.1', 'matplotlib': '3.3.4', 'tornado': '6.1', 'cffi': '1.14.5', 'ipykernel': '5.3.4', 'decorator': '4.4.2', 'colorama': '0.4.4', 'appnope': '0.1.2', 'pandas': '1.2.3', 'numpy': '1.20.1', 'backcall': '0.2.0', 'cycler': '0.10.0'}, keepsake_version='0.4.2', checkpoints=[Checkpoint(id='16fff240d2cf4b817bc0d38f0983e9ce4277d34a20a7416553715c72bc19c541', created=datetime.datetime(2021, 6, 11, 18, 36, 6, 579153), path='models/optimized/base/random_forest/random_forest_5b65d1f.py', step=0, metrics={'f1': 1, 'precision': 1, 'accurracy': 1, 'recall': 1}, primary_metric={'name': 'recall', 'goal': 'maximize'})]),\n",
       " Experiment(id='2c811abdcb363d76004c08323e5e2b4b43424c52ddfcdf1b99cf2cece3c1d9fd', created=datetime.datetime(2021, 6, 11, 18, 36, 7, 637670), user='tk', host=None, command='/Users/tk/opt/miniconda3/envs/tinyml/lib/python3.8/site-packages/ipykernel_launcher.py -f /Users/tk/Library/Jupyter/runtime/kernel-dba4cf8a-dddc-479c-9340-bb00ce08d4cb.json', config={'repository': 'file:///Users/tk/projects/tinyml-esp32-data/.keepsake', 'storage': ''}, path=None, params={'model': 'random_forest', 'quantization': None, 'precision': 1, 'feature_count': 5, 'recall': 1, 'hz': 20, 'data_set': 'base', 'accuracy': 1, 'f1': 1, 'n_estimators': 4, 'other_params': 'default', 'dataset_test_size': 0.35, 'features': ['acc_x', 'acc_y', 'acc_z', 'gyro_x', 'gyro_z']}, python_version='3.8.3', python_packages={'m2cgen': '0.9.0', 'cycler': '0.10.0', 'joblib': '1.0.1', 'statsmodels': '0.12.2', 'pexpect': '4.8.0', 'pygments': '2.8.1', 'pickleshare': '0.7.5', 'scipy': '1.6.1', 'kiwisolver': '1.3.1', 'parso': '0.8.1', 'matplotlib': '3.3.4', 'ipykernel': '5.3.4', 'psutil': '5.8.0', 'cffi': '1.14.5', 'appnope': '0.1.2', 'seaborn': '0.10.1', 'backcall': '0.2.0', 'wcwidth': '0.2.5', 'six': '1.15.0', 'ipywidgets': '7.6.3', 'ptyprocess': '0.7.0', 'numpy': '1.20.1', 'pyparsing': '2.4.7', 'traitlets': '5.0.5', 'decorator': '4.4.2', 'keepsake': '0.4.2', 'pandas': '1.2.3', 'colorama': '0.4.4', 'jedi': '0.17.0', 'tornado': '6.1', 'pytz': '2021.1'}, keepsake_version='0.4.2', checkpoints=[Checkpoint(id='c84f79ed4cdad74aa1e36f40e23764b2f71c115dd03fd1eae51372b038467134', created=datetime.datetime(2021, 6, 11, 18, 36, 7, 654141), path='models/optimized/base/random_forest/random_forest_2c811ab.py', step=0, metrics={'f1': 1, 'precision': 1, 'accurracy': 1, 'recall': 1}, primary_metric={'name': 'recall', 'goal': 'maximize'})]),\n",
       " Experiment(id='628e0293596bbb72eacf1ad0545a74eadc3598f3017b049b23f09d8b9591adc1', created=datetime.datetime(2021, 6, 11, 18, 36, 11, 523512), user='tk', host=None, command='/Users/tk/opt/miniconda3/envs/tinyml/lib/python3.8/site-packages/ipykernel_launcher.py -f /Users/tk/Library/Jupyter/runtime/kernel-dba4cf8a-dddc-479c-9340-bb00ce08d4cb.json', config={'repository': 'file:///Users/tk/projects/tinyml-esp32-data/.keepsake', 'storage': ''}, path=None, params={'f1': 1, 'accuracy': 1, 'model': 'random_forest', 'hz': 50, 'recall': 1, 'n_estimators': 6, 'precision': 1, 'features': ['acc_x', 'acc_y', 'acc_z', 'gyro_x', 'gyro_y'], 'quantization': None, 'dataset_test_size': 0.35, 'feature_count': 5, 'data_set': 'base', 'other_params': 'default'}, python_version='3.8.3', python_packages={'keepsake': '0.4.2', 'cffi': '1.14.5', 'ptyprocess': '0.7.0', 'ipywidgets': '7.6.3', 'statsmodels': '0.12.2', 'matplotlib': '3.3.4', 'kiwisolver': '1.3.1', 'pyparsing': '2.4.7', 'ipykernel': '5.3.4', 'seaborn': '0.10.1', 'numpy': '1.20.1', 'decorator': '4.4.2', 'wcwidth': '0.2.5', 'traitlets': '5.0.5', 'jedi': '0.17.0', 'parso': '0.8.1', 'pygments': '2.8.1', 'pexpect': '4.8.0', 'tornado': '6.1', 'cycler': '0.10.0', 'psutil': '5.8.0', 'colorama': '0.4.4', 'backcall': '0.2.0', 'm2cgen': '0.9.0', 'pandas': '1.2.3', 'joblib': '1.0.1', 'six': '1.15.0', 'pytz': '2021.1', 'appnope': '0.1.2', 'scipy': '1.6.1', 'pickleshare': '0.7.5'}, keepsake_version='0.4.2', checkpoints=[Checkpoint(id='d04857d63f58b7c27fb08799c94f578ec505b431198c4353705258ed522c8b11', created=datetime.datetime(2021, 6, 11, 18, 36, 11, 538644), path='models/optimized/base/random_forest/random_forest_628e029.py', step=0, metrics={'precision': 1, 'f1': 1, 'accurracy': 1, 'recall': 1}, primary_metric={'name': 'recall', 'goal': 'maximize'})]),\n",
       " Experiment(id='232d3ae734e4cf165c2e5e787ede74491d617e9aa69dabb5343627ba2fc3472d', created=datetime.datetime(2021, 6, 11, 18, 36, 12, 643836), user='tk', host=None, command='/Users/tk/opt/miniconda3/envs/tinyml/lib/python3.8/site-packages/ipykernel_launcher.py -f /Users/tk/Library/Jupyter/runtime/kernel-dba4cf8a-dddc-479c-9340-bb00ce08d4cb.json', config={'repository': 'file:///Users/tk/projects/tinyml-esp32-data/.keepsake', 'storage': ''}, path=None, params={'accuracy': 1, 'model': 'random_forest', 'recall': 1, 'feature_count': 5, 'f1': 1, 'hz': 50, 'precision': 1, 'quantization': None, 'data_set': 'base', 'n_estimators': 6, 'dataset_test_size': 0.35, 'other_params': 'default', 'features': ['acc_x', 'acc_y', 'acc_z', 'gyro_x', 'gyro_z']}, python_version='3.8.3', python_packages={'wcwidth': '0.2.5', 'pygments': '2.8.1', 'psutil': '5.8.0', 'joblib': '1.0.1', 'traitlets': '5.0.5', 'seaborn': '0.10.1', 'scipy': '1.6.1', 'parso': '0.8.1', 'numpy': '1.20.1', 'appnope': '0.1.2', 'backcall': '0.2.0', 'pytz': '2021.1', 'keepsake': '0.4.2', 'six': '1.15.0', 'decorator': '4.4.2', 'jedi': '0.17.0', 'pexpect': '4.8.0', 'kiwisolver': '1.3.1', 'colorama': '0.4.4', 'ipywidgets': '7.6.3', 'cycler': '0.10.0', 'pickleshare': '0.7.5', 'cffi': '1.14.5', 'statsmodels': '0.12.2', 'ipykernel': '5.3.4', 'pyparsing': '2.4.7', 'm2cgen': '0.9.0', 'tornado': '6.1', 'pandas': '1.2.3', 'matplotlib': '3.3.4', 'ptyprocess': '0.7.0'}, keepsake_version='0.4.2', checkpoints=[Checkpoint(id='0eab042e90251b4e187c4b05e5fc148ea55210c121f283bf67c330307956e1ae', created=datetime.datetime(2021, 6, 11, 18, 36, 12, 660695), path='models/optimized/base/random_forest/random_forest_232d3ae.py', step=0, metrics={'precision': 1, 'recall': 1, 'f1': 1, 'accurracy': 1}, primary_metric={'name': 'recall', 'goal': 'maximize'})]),\n",
       " Experiment(id='f28b45cf9f3fa6f4f99a3324c9a41b5357576dfe468d5f78b489cef1094ecec2', created=datetime.datetime(2021, 6, 11, 18, 36, 13, 792155), user='tk', host=None, command='/Users/tk/opt/miniconda3/envs/tinyml/lib/python3.8/site-packages/ipykernel_launcher.py -f /Users/tk/Library/Jupyter/runtime/kernel-dba4cf8a-dddc-479c-9340-bb00ce08d4cb.json', config={'repository': 'file:///Users/tk/projects/tinyml-esp32-data/.keepsake', 'storage': ''}, path=None, params={'quantization': None, 'features': ['acc_x', 'acc_y', 'acc_z', 'gyro_x', 'gyro_y', 'gyro_z'], 'data_set': 'base', 'accuracy': 1, 'model': 'random_forest', 'n_estimators': 5, 'other_params': 'default', 'feature_count': 6, 'f1': 1, 'dataset_test_size': 0.35, 'precision': 1, 'recall': 1, 'hz': 50}, python_version='3.8.3', python_packages={'pytz': '2021.1', 'pyparsing': '2.4.7', 'm2cgen': '0.9.0', 'pickleshare': '0.7.5', 'ipykernel': '5.3.4', 'psutil': '5.8.0', 'six': '1.15.0', 'ptyprocess': '0.7.0', 'pygments': '2.8.1', 'kiwisolver': '1.3.1', 'colorama': '0.4.4', 'pexpect': '4.8.0', 'scipy': '1.6.1', 'seaborn': '0.10.1', 'keepsake': '0.4.2', 'backcall': '0.2.0', 'ipywidgets': '7.6.3', 'cffi': '1.14.5', 'pandas': '1.2.3', 'traitlets': '5.0.5', 'numpy': '1.20.1', 'parso': '0.8.1', 'statsmodels': '0.12.2', 'cycler': '0.10.0', 'tornado': '6.1', 'wcwidth': '0.2.5', 'joblib': '1.0.1', 'matplotlib': '3.3.4', 'decorator': '4.4.2', 'jedi': '0.17.0', 'appnope': '0.1.2'}, keepsake_version='0.4.2', checkpoints=[Checkpoint(id='e6409a1403d608bcc3d56f81481eb9925e4d824888e03e4a28397499bb55bae6', created=datetime.datetime(2021, 6, 11, 18, 36, 13, 807165), path='models/optimized/base/random_forest/random_forest_f28b45c.py', step=0, metrics={'recall': 1, 'accurracy': 1, 'f1': 1, 'precision': 1}, primary_metric={'name': 'recall', 'goal': 'maximize'})])]"
      ]
     },
     "execution_count": 12,
     "metadata": {},
     "output_type": "execute_result"
    }
   ],
   "source": [
    "keepsake.experiments.list(lambda exp: exp.params['accuracy'] == 1.0 and exp.params['model'] == 'random_forest')"
   ]
  },
  {
   "cell_type": "code",
   "execution_count": 13,
   "id": "4d91cf4f-0939-4303-ad14-29762c580464",
   "metadata": {},
   "outputs": [
    {
     "data": {
      "text/html": [
       "<table><tr><th>id</th><th>created</th><th>params</th><th>latest_checkpoint</th><th>best_checkpoint</th></tr><tr><th>30462fd</th><th>2021-06-11 18:36:14.962589</th><th>{&#x27;features&#x27;: [&#x27;acc_x&#x27;, &#x27;acc_y&#x27;, &#x27;acc_z&#x27;, &#x27;gyro_x&#x27;], &#x27;accuracy&#x27;: 1, &#x27;dataset_test_size&#x27;: 0.35, &#x27;precision&#x27;: 1, &#x27;data_set&#x27;: &#x27;base&#x27;, &#x27;model&#x27;: &#x27;decision_tree&#x27;, &#x27;quantization&#x27;: None, &#x27;other_params&#x27;: &#x27;default&#x27;, &#x27;feature_count&#x27;: 4, &#x27;recall&#x27;: 1, &#x27;f1&#x27;: 1, &#x27;hz&#x27;: 25, &#x27;n_estimators&#x27;: None}</th><th>eafbd06 (step 0; recall: 1)</th><th>eafbd06 (step 0; recall: 1)</th></tr><tr><th>36284c7</th><th>2021-06-11 18:36:16.018638</th><th>{&#x27;other_params&#x27;: &#x27;default&#x27;, &#x27;accuracy&#x27;: 1, &#x27;features&#x27;: [&#x27;acc_x&#x27;, &#x27;acc_y&#x27;, &#x27;acc_z&#x27;, &#x27;gyro_y&#x27;], &#x27;feature_count&#x27;: 4, &#x27;hz&#x27;: 25, &#x27;model&#x27;: &#x27;decision_tree&#x27;, &#x27;dataset_test_size&#x27;: 0.35, &#x27;precision&#x27;: 1, &#x27;quantization&#x27;: None, &#x27;data_set&#x27;: &#x27;base&#x27;, &#x27;recall&#x27;: 1, &#x27;f1&#x27;: 1, &#x27;n_estimators&#x27;: None}</th><th>727383b (step 0; recall: 1)</th><th>727383b (step 0; recall: 1)</th></tr><tr><th>4edbe66</th><th>2021-06-11 18:36:17.069445</th><th>{&#x27;model&#x27;: &#x27;decision_tree&#x27;, &#x27;data_set&#x27;: &#x27;base&#x27;, &#x27;other_params&#x27;: &#x27;default&#x27;, &#x27;accuracy&#x27;: 1, &#x27;recall&#x27;: 1, &#x27;features&#x27;: [&#x27;acc_x&#x27;, &#x27;acc_y&#x27;, &#x27;acc_z&#x27;, &#x27;gyro_z&#x27;], &#x27;feature_count&#x27;: 4, &#x27;dataset_test_size&#x27;: 0.35, &#x27;f1&#x27;: 1, &#x27;quantization&#x27;: None, &#x27;n_estimators&#x27;: None, &#x27;hz&#x27;: 25, &#x27;precision&#x27;: 1}</th><th>55f4a25 (step 0; recall: 1)</th><th>55f4a25 (step 0; recall: 1)</th></tr></table>"
      ],
      "text/plain": [
       "[Experiment(id='30462fd2ace1bf59670a6bedba5e2d73077aa9d2e11be8a465a95b48c0ed0b7b', created=datetime.datetime(2021, 6, 11, 18, 36, 14, 962589), user='tk', host=None, command='/Users/tk/opt/miniconda3/envs/tinyml/lib/python3.8/site-packages/ipykernel_launcher.py -f /Users/tk/Library/Jupyter/runtime/kernel-dba4cf8a-dddc-479c-9340-bb00ce08d4cb.json', config={'repository': 'file:///Users/tk/projects/tinyml-esp32-data/.keepsake', 'storage': ''}, path=None, params={'features': ['acc_x', 'acc_y', 'acc_z', 'gyro_x'], 'accuracy': 1, 'dataset_test_size': 0.35, 'precision': 1, 'data_set': 'base', 'model': 'decision_tree', 'quantization': None, 'other_params': 'default', 'feature_count': 4, 'recall': 1, 'f1': 1, 'hz': 25, 'n_estimators': None}, python_version='3.8.3', python_packages={'ptyprocess': '0.7.0', 'pexpect': '4.8.0', 'backcall': '0.2.0', 'numpy': '1.20.1', 'cffi': '1.14.5', 'parso': '0.8.1', 'ipywidgets': '7.6.3', 'statsmodels': '0.12.2', 'traitlets': '5.0.5', 'tornado': '6.1', 'pandas': '1.2.3', 'pyparsing': '2.4.7', 'decorator': '4.4.2', 'keepsake': '0.4.2', 'ipykernel': '5.3.4', 'jedi': '0.17.0', 'matplotlib': '3.3.4', 'joblib': '1.0.1', 'psutil': '5.8.0', 'pytz': '2021.1', 'scipy': '1.6.1', 'appnope': '0.1.2', 'm2cgen': '0.9.0', 'wcwidth': '0.2.5', 'colorama': '0.4.4', 'kiwisolver': '1.3.1', 'cycler': '0.10.0', 'pickleshare': '0.7.5', 'pygments': '2.8.1', 'seaborn': '0.10.1', 'six': '1.15.0'}, keepsake_version='0.4.2', checkpoints=[Checkpoint(id='eafbd060e0cb802891662e6f7861e3864e03cc7567230cb8cd405e553a181674', created=datetime.datetime(2021, 6, 11, 18, 36, 14, 971193), path='models/optimized/base/decision_tree/decision_tree_30462fd.py', step=0, metrics={'precision': 1, 'f1': 1, 'recall': 1, 'accurracy': 1}, primary_metric={'name': 'recall', 'goal': 'maximize'})]),\n",
       " Experiment(id='36284c77af396b5fbb1eae2cd51db3376d4dc0a9bb3d3796670b7122517c8a3d', created=datetime.datetime(2021, 6, 11, 18, 36, 16, 18638), user='tk', host=None, command='/Users/tk/opt/miniconda3/envs/tinyml/lib/python3.8/site-packages/ipykernel_launcher.py -f /Users/tk/Library/Jupyter/runtime/kernel-dba4cf8a-dddc-479c-9340-bb00ce08d4cb.json', config={'repository': 'file:///Users/tk/projects/tinyml-esp32-data/.keepsake', 'storage': ''}, path=None, params={'other_params': 'default', 'accuracy': 1, 'features': ['acc_x', 'acc_y', 'acc_z', 'gyro_y'], 'feature_count': 4, 'hz': 25, 'model': 'decision_tree', 'dataset_test_size': 0.35, 'precision': 1, 'quantization': None, 'data_set': 'base', 'recall': 1, 'f1': 1, 'n_estimators': None}, python_version='3.8.3', python_packages={'tornado': '6.1', 'decorator': '4.4.2', 'pickleshare': '0.7.5', 'ipykernel': '5.3.4', 'psutil': '5.8.0', 'cycler': '0.10.0', 'pytz': '2021.1', 'keepsake': '0.4.2', 'colorama': '0.4.4', 'backcall': '0.2.0', 'kiwisolver': '1.3.1', 'pandas': '1.2.3', 'matplotlib': '3.3.4', 'statsmodels': '0.12.2', 'six': '1.15.0', 'ipywidgets': '7.6.3', 'm2cgen': '0.9.0', 'cffi': '1.14.5', 'pexpect': '4.8.0', 'numpy': '1.20.1', 'scipy': '1.6.1', 'pygments': '2.8.1', 'seaborn': '0.10.1', 'pyparsing': '2.4.7', 'wcwidth': '0.2.5', 'ptyprocess': '0.7.0', 'joblib': '1.0.1', 'jedi': '0.17.0', 'appnope': '0.1.2', 'traitlets': '5.0.5', 'parso': '0.8.1'}, keepsake_version='0.4.2', checkpoints=[Checkpoint(id='727383bfc0a9ff8b4ef65dac72aca33dc4ad7cb90f6f2661b10e831b0d3c3c83', created=datetime.datetime(2021, 6, 11, 18, 36, 16, 26283), path='models/optimized/base/decision_tree/decision_tree_36284c7.py', step=0, metrics={'precision': 1, 'accurracy': 1, 'recall': 1, 'f1': 1}, primary_metric={'name': 'recall', 'goal': 'maximize'})]),\n",
       " Experiment(id='4edbe66c1a0f4a7e52d61b30dd6c1be1e29b524d53dede3ce92aa74dc6e0fbae', created=datetime.datetime(2021, 6, 11, 18, 36, 17, 69445), user='tk', host=None, command='/Users/tk/opt/miniconda3/envs/tinyml/lib/python3.8/site-packages/ipykernel_launcher.py -f /Users/tk/Library/Jupyter/runtime/kernel-dba4cf8a-dddc-479c-9340-bb00ce08d4cb.json', config={'repository': 'file:///Users/tk/projects/tinyml-esp32-data/.keepsake', 'storage': ''}, path=None, params={'model': 'decision_tree', 'data_set': 'base', 'other_params': 'default', 'accuracy': 1, 'recall': 1, 'features': ['acc_x', 'acc_y', 'acc_z', 'gyro_z'], 'feature_count': 4, 'dataset_test_size': 0.35, 'f1': 1, 'quantization': None, 'n_estimators': None, 'hz': 25, 'precision': 1}, python_version='3.8.3', python_packages={'ptyprocess': '0.7.0', 'backcall': '0.2.0', 'ipykernel': '5.3.4', 'cycler': '0.10.0', 'pexpect': '4.8.0', 'keepsake': '0.4.2', 'pyparsing': '2.4.7', 'tornado': '6.1', 'statsmodels': '0.12.2', 'appnope': '0.1.2', 'six': '1.15.0', 'wcwidth': '0.2.5', 'ipywidgets': '7.6.3', 'traitlets': '5.0.5', 'numpy': '1.20.1', 'm2cgen': '0.9.0', 'seaborn': '0.10.1', 'pickleshare': '0.7.5', 'cffi': '1.14.5', 'kiwisolver': '1.3.1', 'colorama': '0.4.4', 'joblib': '1.0.1', 'pytz': '2021.1', 'matplotlib': '3.3.4', 'jedi': '0.17.0', 'scipy': '1.6.1', 'parso': '0.8.1', 'pygments': '2.8.1', 'psutil': '5.8.0', 'decorator': '4.4.2', 'pandas': '1.2.3'}, keepsake_version='0.4.2', checkpoints=[Checkpoint(id='55f4a25d700ba8bf06afcaea3724f64630cbdb2ba57c23b15aa055bb1eab5534', created=datetime.datetime(2021, 6, 11, 18, 36, 17, 79247), path='models/optimized/base/decision_tree/decision_tree_4edbe66.py', step=0, metrics={'recall': 1, 'accurracy': 1, 'precision': 1, 'f1': 1}, primary_metric={'name': 'recall', 'goal': 'maximize'})])]"
      ]
     },
     "execution_count": 13,
     "metadata": {},
     "output_type": "execute_result"
    }
   ],
   "source": [
    "keepsake.experiments.list(lambda exp: exp.params['accuracy'] == 1.0 and exp.params['model'] == 'decision_tree')"
   ]
  },
  {
   "cell_type": "code",
   "execution_count": null,
   "id": "6761d337-cc7b-448b-8e72-edc1336fecd7",
   "metadata": {},
   "outputs": [],
   "source": []
  }
 ],
 "metadata": {
  "kernelspec": {
   "display_name": "Python 3",
   "language": "python",
   "name": "python3"
  },
  "language_info": {
   "codemirror_mode": {
    "name": "ipython",
    "version": 3
   },
   "file_extension": ".py",
   "mimetype": "text/x-python",
   "name": "python",
   "nbconvert_exporter": "python",
   "pygments_lexer": "ipython3",
   "version": "3.8.3"
  }
 },
 "nbformat": 4,
 "nbformat_minor": 5
}
