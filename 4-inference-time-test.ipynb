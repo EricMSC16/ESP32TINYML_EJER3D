{
 "cells": [
  {
   "cell_type": "code",
   "execution_count": 2,
   "metadata": {},
   "outputs": [],
   "source": [
    "import pandas as pd\n",
    "import numpy as np\n",
    "\n",
    "import seaborn as sns\n",
    "import matplotlib.pyplot as plt\n",
    "\n",
    "from sklearn.model_selection import train_test_split\n",
    "\n",
    "plt.style.use('ggplot')\n",
    "\n",
    "%matplotlib inline"
   ]
  },
  {
   "cell_type": "code",
   "execution_count": 3,
   "metadata": {},
   "outputs": [],
   "source": [
    "def save_model(classifier, model_type, n_est, hz):\n",
    "    import m2cgen as m2c\n",
    "    code = m2c.export_to_python(classifier)\n",
    "    PATH = f'models/inf_time_test/{model_type}/{model_type}_{n_est}est_{hz}hz.py'\n",
    "    with open(PATH,'w') as f:\n",
    "        f.writelines(code)\n",
    "\n",
    "    return PATH"
   ]
  },
  {
   "cell_type": "code",
   "execution_count": 4,
   "metadata": {},
   "outputs": [],
   "source": [
    "def train_random_forest(X_train, X_test, y_train, y_test, n_est, hz):\n",
    "    from sklearn.ensemble import RandomForestClassifier\n",
    "    from sklearn import metrics\n",
    "    \n",
    "    clf = RandomForestClassifier(random_state=42, n_estimators=n_est)\n",
    "    clf.fit(X_train, y_train)\n",
    "\n",
    "    y_pred = clf.predict(X_test)\n",
    "\n",
    "    accuracy = metrics.accuracy_score(y_test, y_pred)\n",
    "    f1 = metrics.f1_score(y_test, y_pred, average='macro')\n",
    "    precision = metrics.precision_score(y_test, y_pred, average='macro')\n",
    "    recall = metrics.recall_score(y_test, y_pred, average='macro')\n",
    "\n",
    "    path = save_model(classifier=clf, model_type='random_forest', n_est=n_est, hz=hz)\n",
    "\n",
    "    return accuracy, f1, precision, recall, clf"
   ]
  },
  {
   "cell_type": "code",
   "execution_count": 5,
   "metadata": {},
   "outputs": [],
   "source": [
    "df_25hz = pd.read_csv('data/transformed/20210529_v2_data_all_25hz.csv').reset_index(drop=True)\n",
    "df_100hz = pd.read_csv('data/transformed/20210529_v2_data_all_100hz.csv').reset_index(drop=True)\n",
    "\n",
    "df_train_25hz = df_25hz.dropna(axis=0)\n",
    "df_train_100hz = df_100hz.dropna(axis=0)\n",
    "\n",
    "X_train_25hz, X_test_25hz, y_train_25hz, y_test_25hz = train_test_split(\n",
    "        df_train_25hz.drop(['label','shift'],axis=1), df_train_25hz['label'], test_size=0.3, random_state=42)\n",
    "\n",
    "X_train_100hz, X_test_100hz, y_train_100hz, y_test_100hz = train_test_split(\n",
    "        df_train_100hz.drop(['label','shift'],axis=1), df_train_100hz['label'], test_size=0.3, random_state=42)"
   ]
  },
  {
   "cell_type": "code",
   "execution_count": 6,
   "metadata": {},
   "outputs": [
    {
     "name": "stdout",
     "output_type": "stream",
     "text": [
      "\n",
      "Random Forest - 25hz - 3\n",
      "------------------------------------------------------------\n",
      "\n",
      "Random Forest - 25hz - 4\n",
      "------------------------------------------------------------\n",
      "\n",
      "Random Forest - 25hz - 5\n",
      "------------------------------------------------------------\n",
      "\n",
      "Random Forest - 25hz - 10\n",
      "------------------------------------------------------------\n",
      "\n",
      "Random Forest - 100hz - 3\n",
      "------------------------------------------------------------\n",
      "\n",
      "Random Forest - 100hz - 4\n",
      "------------------------------------------------------------\n",
      "\n",
      "Random Forest - 100hz - 5\n",
      "------------------------------------------------------------\n",
      "\n",
      "Random Forest - 100hz - 10\n",
      "------------------------------------------------------------\n"
     ]
    }
   ],
   "source": [
    "for n_est in [3,4,5,10]:\n",
    "    print(f'\\nRandom Forest - 25hz - {n_est}')\n",
    "    train_random_forest(X_train_25hz, X_test_25hz, y_train_25hz, y_test_25hz, n_est, 25)\n",
    "    print('-' * 60)\n",
    "\n",
    "for n_est in [3,4,5,10]:\n",
    "    print(f'\\nRandom Forest - 100hz - {n_est}')\n",
    "    train_random_forest(X_train_100hz, X_test_100hz, y_train_100hz, y_test_100hz, n_est, 100)\n",
    "    print('-' * 60)"
   ]
  },
  {
   "cell_type": "code",
   "execution_count": 7,
   "metadata": {},
   "outputs": [],
   "source": [
    "from models.inf_time_test.random_forest import (\n",
    "        random_forest_3est_25hz,\n",
    "        random_forest_4est_25hz,\n",
    "        random_forest_5est_25hz, \n",
    "        random_forest_10est_25hz,\n",
    "        random_forest_3est_100hz,\n",
    "        random_forest_4est_100hz,\n",
    "        random_forest_5est_100hz, \n",
    "        random_forest_10est_100hz\n",
    "    )"
   ]
  },
  {
   "cell_type": "code",
   "execution_count": 8,
   "metadata": {},
   "outputs": [],
   "source": [
    "test_data_25hz = pd.read_csv('data/transformed/20210529_v2_data_all_25hz.csv').reset_index(drop=True).drop(['label','shift'], axis=1).loc[0]\n",
    "test_data_100hz = pd.read_csv('data/transformed/20210529_v2_data_all_100hz.csv').reset_index(drop=True).drop(['label','shift'], axis=1).loc[0]"
   ]
  },
  {
   "cell_type": "code",
   "execution_count": 9,
   "metadata": {},
   "outputs": [],
   "source": [
    "m2c_time_test_setup = {\n",
    "    'random_forest': [\n",
    "        (random_forest_3est_25hz, test_data_25hz, 25, 3),\n",
    "        (random_forest_4est_25hz, test_data_25hz, 25, 4),\n",
    "        (random_forest_5est_25hz, test_data_25hz, 25, 5),\n",
    "        (random_forest_10est_25hz, test_data_25hz, 25, 10),\n",
    "        (random_forest_3est_100hz, test_data_100hz, 100, 3),\n",
    "        (random_forest_4est_100hz, test_data_100hz, 100, 4),\n",
    "        (random_forest_5est_100hz, test_data_100hz, 100, 5),\n",
    "        (random_forest_10est_100hz, test_data_100hz, 100, 10)\n",
    "    ]\n",
    "}"
   ]
  },
  {
   "cell_type": "code",
   "execution_count": 92,
   "metadata": {},
   "outputs": [
    {
     "name": "stdout",
     "output_type": "stream",
     "text": [
      "171 us +- 2.64 us per loop (mean +- std. dev. of 7 runs, 1000 loops each)\n",
      "282 us +- 16.4 us per loop (mean +- std. dev. of 7 runs, 1000 loops each)\n",
      "336 us +- 6.74 us per loop (mean +- std. dev. of 7 runs, 1000 loops each)\n",
      "661 us +- 4.6 us per loop (mean +- std. dev. of 7 runs, 1000 loops each)\n",
      "183 us +- 1.53 us per loop (mean +- std. dev. of 7 runs, 10000 loops each)\n",
      "236 us +- 1.54 us per loop (mean +- std. dev. of 7 runs, 1000 loops each)\n",
      "305 us +- 3.74 us per loop (mean +- std. dev. of 7 runs, 1000 loops each)\n",
      "566 us +- 5.71 us per loop (mean +- std. dev. of 7 runs, 1000 loops each)\n"
     ]
    }
   ],
   "source": [
    "from statistics import mean\n",
    "\n",
    "m2c_time_local = []            \n",
    "\n",
    "for t_item in m2c_time_test_setup['random_forest']:\n",
    "    model = t_item[0]\n",
    "    test_data = t_item[1]\n",
    "    hz = t_item[2]\n",
    "    n_est = t_item[3]\n",
    "\n",
    "    res_time = get_ipython().run_line_magic('timeit', '-o model.score(test_data)')\n",
    "\n",
    "    # TODO fix data collection\n",
    "    m2c_time_local.append({'hz':hz ,'estimators': n_est, 'time':mean(res_time.timings)})\n",
    "#     m2c_time_data_rf['hz'] = hz\n",
    "#     m2c_time_data_rf['estimators'] = n_est\n",
    "#     m2c_time_data_rf['time'] = mean(res_time.timings)\n",
    "    "
   ]
  },
  {
   "cell_type": "code",
   "execution_count": 93,
   "metadata": {},
   "outputs": [
    {
     "data": {
      "text/plain": [
       "[{'hz': 25, 'estimators': 3, 'time': 0.00017052132785712665},\n",
       " {'hz': 25, 'estimators': 4, 'time': 0.0002816367414286885},\n",
       " {'hz': 25, 'estimators': 5, 'time': 0.0003360056639999779},\n",
       " {'hz': 25, 'estimators': 10, 'time': 0.0006606101790000918},\n",
       " {'hz': 100, 'estimators': 3, 'time': 0.00018288322498571818},\n",
       " {'hz': 100, 'estimators': 4, 'time': 0.00023649725599982828},\n",
       " {'hz': 100, 'estimators': 5, 'time': 0.0003054943384285512},\n",
       " {'hz': 100, 'estimators': 10, 'time': 0.0005659288368571781}]"
      ]
     },
     "execution_count": 93,
     "metadata": {},
     "output_type": "execute_result"
    }
   ],
   "source": [
    "m2c_time_local"
   ]
  },
  {
   "cell_type": "code",
   "execution_count": 100,
   "metadata": {},
   "outputs": [],
   "source": [
    "m2c_df_local = pd.DataFrame(m2c_time_local)\n",
    "m2c_df_local['device'] = 'local'\n",
    "m2c_df_local['time'] = m2c_df_local['time'] * 1000 # convert to ms\n",
    "\n",
    "m2c_df_local.to_csv('output/inference_time_rf_estimators_50hz.csv', index=False)"
   ]
  },
  {
   "cell_type": "code",
   "execution_count": 96,
   "metadata": {},
   "outputs": [
    {
     "data": {
      "image/png": "[encoded data removed]",
      "text/plain": [
       "<Figure size 576x360 with 1 Axes>"
      ]
     },
     "metadata": {
      "needs_background": "light"
     },
     "output_type": "display_data"
    }
   ],
   "source": [
    "import matplotlib.ticker as tick\n",
    "import matplotlib.patches as mpatches\n",
    "\n",
    "plt.figure(figsize=(8,5))\n",
    "colors  = {25:'blue', 100:'red'}\n",
    "\n",
    "sns.scatterplot(data=m2c_df, x='estimators', y='time', hue='hz', palette=colors)\n",
    "\n",
    "plt.title('\\nRandom Forest - Inference times\\n')\n",
    "plt.xlabel('\\nNo. of estimators')\n",
    "plt.ylabel('Inference time [ms]')\n",
    "\n",
    "plt.tight_layout()"
   ]
  },
  {
   "cell_type": "markdown",
   "metadata": {},
   "source": [
    "## Inference on ESP32"
   ]
  },
  {
   "cell_type": "code",
   "execution_count": 101,
   "metadata": {},
   "outputs": [],
   "source": [
    "# inference time means collect from ESP32 @ 160MHz\n",
    "from statistics import mean\n",
    "\n",
    "# collected data is in us\n",
    "\n",
    "time_esp32_25_3 = mean([1678,1188,1175,1176,1175,1176,1175,1176,1175,1176,1176,1176,1175,1176,1176,1176,1175,1176,1176,1176])\n",
    "time_esp32_25_4 = mean([2054,1575,1557,1557,1557,1557,1556,1557,1566,1557,1557,1557,1557,1557,1556,1564,1556,1556,1556,1565])\n",
    "time_esp32_25_5 = mean([2490,1994,1982,1987,1982,1983,1982,1988,1982,1981,1983,1982,1988,1982,1982,1982,1990,1982,1982,1982])\n",
    "time_esp32_25_10 = mean([4157,3654,3640,3640,3640,3643,3640,3643,3642,3643,3633,3635,3633,3636,3634,3636,3633,3635,3633,3636])\n",
    "\n",
    "time_esp32_100_3 = mean([1738,1235,1226,1222,1223,1226,1223,1223,1231,1223,1222,1228,1222,1223,1230,1223,1223,1223,1222,1223])\n",
    "time_esp32_100_4 = mean([2152,1648,1636,1637,1636,1645,1636,1637,1637,1637,1636,1636,1636,1636,1637,1637,1645,1636,1637,1637])\n",
    "time_esp32_100_5 = mean([2638,2132,2122,2121,2129,2121,2121,2121,2122,2126,2121,2121,2122,2125,2121,2121,2122,2121,2127,2121])\n",
    "time_esp32_100_10 = mean([4568,4062,4051,4053,4048,4052,4051,4046,4044,4045,4043,4046,4044,4045,4044,4046,4044,4046,4044,4044])"
   ]
  },
  {
   "cell_type": "code",
   "execution_count": 102,
   "metadata": {},
   "outputs": [],
   "source": [
    "m2c_df_esp32 = pd.DataFrame([\n",
    "    {'hz': 25, 'estimators': 3, 'time':time_esp32_25_3},\n",
    "    {'hz': 25, 'estimators': 4, 'time':time_esp32_25_4},\n",
    "    {'hz': 25, 'estimators': 5, 'time':time_esp32_25_5},\n",
    "    {'hz': 25, 'estimators': 10, 'time':time_esp32_25_10},\n",
    "    {'hz': 100, 'estimators': 3, 'time':time_esp32_100_3},\n",
    "    {'hz': 100, 'estimators': 4, 'time':time_esp32_100_4},\n",
    "    {'hz': 100, 'estimators': 5, 'time':time_esp32_100_5},\n",
    "    {'hz': 100, 'estimators': 10, 'time':time_esp32_100_10}\n",
    "])\n",
    "\n",
    "m2c_df_esp32['device'] = 'esp32'\n",
    "m2c_df_esp32['time'] = m2c_df_esp32['time'] / 1000\n"
   ]
  },
  {
   "cell_type": "code",
   "execution_count": 142,
   "metadata": {},
   "outputs": [
    {
     "data": {
      "image/png": "[encoded data removed]",
      "text/plain": [
       "<Figure size 864x576 with 1 Axes>"
      ]
     },
     "metadata": {
      "needs_background": "light"
     },
     "output_type": "display_data"
    }
   ],
   "source": [
    "import matplotlib.ticker as tick\n",
    "import matplotlib.patches as mpatches\n",
    "\n",
    "plt.figure(figsize=(12,8))\n",
    "color_pal_esp32  = {25:(162/255, 136/255, 227/255), 100:(56/255, 2/255, 59/255)}\n",
    "color_pal_local  = {25:(85/255, 214/255, 190/255), 100:(124/255, 234/255, 156/255)}\n",
    "\n",
    "sns.scatterplot(data=m2c_df_esp32, x='estimators', y='time', hue='hz', palette=color_pal_esp32)\n",
    "sns.scatterplot(data=m2c_df_local, x='estimators', y='time', hue='hz', palette=color_pal_local)\n",
    "\n",
    "plt.title('\\nRandom Forest - Inference time comparison\\n')\n",
    "plt.xlabel('\\nNo. of estimators')\n",
    "plt.ylabel('Inference time [ms]')\n",
    "\n",
    "# Create Legend\n",
    "esp_32_25 = mpatches.Patch(color=color_pal_esp32[25], label='ESP32@160MHz / 25Hz (156 Inputs)')\n",
    "esp_32_100 = mpatches.Patch(color=color_pal_esp32[100], label='ESP32@160MHz / 100Hz (606 Inputs)')\n",
    "local_25 = mpatches.Patch(color=color_pal_local[25], label='MBP / 25Hz (156 Inputs)')\n",
    "local_100 = mpatches.Patch(color=color_pal_local[100], label='MBP / 100Hz (606 Inputs)')\n",
    "plt.legend(handles=[esp_32_25, esp_32_100, local_25, local_100], title='Inference times')\n",
    "\n",
    "plt.tight_layout()"
   ]
  },
  {
   "cell_type": "code",
   "execution_count": null,
   "metadata": {},
   "outputs": [],
   "source": []
  }
 ],
 "metadata": {
  "kernelspec": {
   "display_name": "Python 3.8 (XPython)",
   "language": "python",
   "name": "xpython"
  },
  "language_info": {
   "file_extension": ".py",
   "mimetype": "text/x-python",
   "name": "python",
   "version": "3.8.10"
  }
 },
 "nbformat": 4,
 "nbformat_minor": 4
}
