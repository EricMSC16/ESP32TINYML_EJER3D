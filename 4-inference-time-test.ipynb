{
 "cells": [
  {
   "cell_type": "code",
   "execution_count": 2,
   "metadata": {},
   "outputs": [],
   "source": [
    "import pandas as pd\n",
    "import numpy as np\n",
    "\n",
    "import seaborn as sns\n",
    "import matplotlib.pyplot as plt\n",
    "\n",
    "from sklearn.model_selection import train_test_split\n",
    "\n",
    "plt.style.use('ggplot')\n",
    "\n",
    "%matplotlib inline"
   ]
  },
  {
   "cell_type": "code",
   "execution_count": 3,
   "metadata": {},
   "outputs": [],
   "source": [
    "def save_model(classifier, model_type, n_est, hz):\n",
    "    import m2cgen as m2c\n",
    "    code = m2c.export_to_python(classifier)\n",
    "    PATH = f'models/inf_time_test/{model_type}/{model_type}_{n_est}est_{hz}hz.py'\n",
    "    with open(PATH,'w') as f:\n",
    "        f.writelines(code)\n",
    "\n",
    "    return PATH"
   ]
  },
  {
   "cell_type": "code",
   "execution_count": 4,
   "metadata": {},
   "outputs": [],
   "source": [
    "def train_random_forest(X_train, X_test, y_train, y_test, n_est, hz):\n",
    "    from sklearn.ensemble import RandomForestClassifier\n",
    "    from sklearn import metrics\n",
    "    \n",
    "    clf = RandomForestClassifier(random_state=42, n_estimators=n_est)\n",
    "    clf.fit(X_train, y_train)\n",
    "\n",
    "    y_pred = clf.predict(X_test)\n",
    "\n",
    "    accuracy = metrics.accuracy_score(y_test, y_pred)\n",
    "    f1 = metrics.f1_score(y_test, y_pred, average='macro')\n",
    "    precision = metrics.precision_score(y_test, y_pred, average='macro')\n",
    "    recall = metrics.recall_score(y_test, y_pred, average='macro')\n",
    "\n",
    "    path = save_model(classifier=clf, model_type='random_forest', n_est=n_est, hz=hz)\n",
    "\n",
    "    return accuracy, f1, precision, recall, clf"
   ]
  },
  {
   "cell_type": "code",
   "execution_count": 5,
   "metadata": {},
   "outputs": [],
   "source": [
    "df_25hz = pd.read_csv('data/transformed/20210529_v2_data_all_25hz.csv').reset_index(drop=True)\n",
    "df_100hz = pd.read_csv('data/transformed/20210529_v2_data_all_100hz.csv').reset_index(drop=True)\n",
    "\n",
    "df_train_25hz = df_25hz.dropna(axis=0)\n",
    "df_train_100hz = df_100hz.dropna(axis=0)\n",
    "\n",
    "X_train_25hz, X_test_25hz, y_train_25hz, y_test_25hz = train_test_split(\n",
    "        df_train_25hz.drop(['label','shift'],axis=1), df_train_25hz['label'], test_size=0.3, random_state=42)\n",
    "\n",
    "X_train_100hz, X_test_100hz, y_train_100hz, y_test_100hz = train_test_split(\n",
    "        df_train_100hz.drop(['label','shift'],axis=1), df_train_100hz['label'], test_size=0.3, random_state=42)"
   ]
  },
  {
   "cell_type": "code",
   "execution_count": 6,
   "metadata": {},
   "outputs": [
    {
     "name": "stdout",
     "output_type": "stream",
     "text": [
      "\n",
      "Random Forest - 25hz - 3\n",
      "------------------------------------------------------------\n",
      "\n",
      "Random Forest - 25hz - 4\n",
      "------------------------------------------------------------\n",
      "\n",
      "Random Forest - 25hz - 5\n",
      "------------------------------------------------------------\n",
      "\n",
      "Random Forest - 25hz - 10\n",
      "------------------------------------------------------------\n",
      "\n",
      "Random Forest - 100hz - 3\n",
      "------------------------------------------------------------\n",
      "\n",
      "Random Forest - 100hz - 4\n",
      "------------------------------------------------------------\n",
      "\n",
      "Random Forest - 100hz - 5\n",
      "------------------------------------------------------------\n",
      "\n",
      "Random Forest - 100hz - 10\n",
      "------------------------------------------------------------\n"
     ]
    }
   ],
   "source": [
    "for n_est in [3,4,5,10]:\n",
    "    print(f'\\nRandom Forest - 25hz - {n_est}')\n",
    "    train_random_forest(X_train_25hz, X_test_25hz, y_train_25hz, y_test_25hz, n_est, 25)\n",
    "    print('-' * 60)\n",
    "\n",
    "for n_est in [3,4,5,10]:\n",
    "    print(f'\\nRandom Forest - 100hz - {n_est}')\n",
    "    train_random_forest(X_train_100hz, X_test_100hz, y_train_100hz, y_test_100hz, n_est, 100)\n",
    "    print('-' * 60)"
   ]
  },
  {
   "cell_type": "code",
   "execution_count": 7,
   "metadata": {},
   "outputs": [],
   "source": [
    "from models.inf_time_test.random_forest import (\n",
    "        random_forest_3est_25hz,\n",
    "        random_forest_4est_25hz,\n",
    "        random_forest_5est_25hz, \n",
    "        random_forest_10est_25hz,\n",
    "        random_forest_3est_100hz,\n",
    "        random_forest_4est_100hz,\n",
    "        random_forest_5est_100hz, \n",
    "        random_forest_10est_100hz\n",
    "    )"
   ]
  },
  {
   "cell_type": "code",
   "execution_count": 8,
   "metadata": {},
   "outputs": [],
   "source": [
    "test_data_25hz = pd.read_csv('data/transformed/20210529_v2_data_all_25hz.csv').reset_index(drop=True).drop(['label','shift'], axis=1).loc[0]\n",
    "test_data_100hz = pd.read_csv('data/transformed/20210529_v2_data_all_100hz.csv').reset_index(drop=True).drop(['label','shift'], axis=1).loc[0]"
   ]
  },
  {
   "cell_type": "code",
   "execution_count": 9,
   "metadata": {},
   "outputs": [],
   "source": [
    "m2c_time_test_setup = {\n",
    "    'random_forest': [\n",
    "        (random_forest_3est_25hz, test_data_25hz, 25, 3),\n",
    "        (random_forest_4est_25hz, test_data_25hz, 25, 4),\n",
    "        (random_forest_5est_25hz, test_data_25hz, 25, 5),\n",
    "        (random_forest_10est_25hz, test_data_25hz, 25, 10),\n",
    "        (random_forest_3est_100hz, test_data_100hz, 100, 3),\n",
    "        (random_forest_4est_100hz, test_data_100hz, 100, 4),\n",
    "        (random_forest_5est_100hz, test_data_100hz, 100, 5),\n",
    "        (random_forest_10est_100hz, test_data_100hz, 100, 10)\n",
    "    ]\n",
    "}"
   ]
  },
  {
   "cell_type": "code",
   "execution_count": 13,
   "metadata": {},
   "outputs": [
    {
     "name": "stdout",
     "output_type": "stream",
     "text": [
      "177 us +- 3.18 us per loop (mean +- std. dev. of 7 runs, 10000 loops each)\n",
      "274 us +- 12 us per loop (mean +- std. dev. of 7 runs, 1000 loops each)\n",
      "336 us +- 10.1 us per loop (mean +- std. dev. of 7 runs, 1000 loops each)\n",
      "701 us +- 21.2 us per loop (mean +- std. dev. of 7 runs, 1000 loops each)\n",
      "200 us +- 21.1 us per loop (mean +- std. dev. of 7 runs, 10000 loops each)\n",
      "269 us +- 20.6 us per loop (mean +- std. dev. of 7 runs, 1000 loops each)\n",
      "341 us +- 10.5 us per loop (mean +- std. dev. of 7 runs, 1000 loops each)\n",
      "674 us +- 52.9 us per loop (mean +- std. dev. of 7 runs, 1000 loops each)\n"
     ]
    }
   ],
   "source": [
    "from statistics import mean\n",
    "\n",
    "m2c_time_data_rf = []            \n",
    "\n",
    "for t_item in m2c_time_test_setup['random_forest']:\n",
    "    model = t_item[0]\n",
    "    test_data = t_item[1]\n",
    "    hz = t_item[2]\n",
    "    n_est = t_item[3]\n",
    "\n",
    "    res_time = get_ipython().run_line_magic('timeit', '-o model.score(test_data)')\n",
    "\n",
    "    # TODO fix data collection\n",
    "    m2c_time_data_rf.append({'hz':hz ,'estimators': n_est, 'time':mean(res_time.timings)})\n",
    "#     m2c_time_data_rf['hz'] = hz\n",
    "#     m2c_time_data_rf['estimators'] = n_est\n",
    "#     m2c_time_data_rf['time'] = mean(res_time.timings)\n",
    "    "
   ]
  },
  {
   "cell_type": "code",
   "execution_count": 16,
   "metadata": {},
   "outputs": [],
   "source": [
    "m2c_df = pd.DataFrame(m2c_time_data_rf)\n",
    "m2c_df['device'] = 'local'\n",
    "m2c_df.to_csv('output/inference_time_rf_estimators_50hz.csv', index=False)"
   ]
  },
  {
   "cell_type": "code",
   "execution_count": 21,
   "metadata": {},
   "outputs": [
    {
     "data": {
      "image/png": "[encoded data removed]",
      "text/plain": [
       "<Figure size 576x360 with 1 Axes>"
      ]
     },
     "metadata": {
      "needs_background": "light"
     },
     "output_type": "display_data"
    }
   ],
   "source": [
    "import matplotlib.ticker as tick\n",
    "\n",
    "plt.figure(figsize=(8,5))\n",
    "sns.scatterplot(data=m2c_df, x='estimators', y='time', hue='hz')\n",
    "\n",
    "plt.title('\\nRandom Forest - Inference times @ 50Hz\\n')\n",
    "plt.xlabel('\\nNo. of estimators')\n",
    "plt.ylabel('Inference time [ms]')\n",
    "\n",
    "plt.gca().yaxis.set_major_formatter(tick.FuncFormatter(lambda x, post: f'{(x * 1000):.2f}'))\n",
    "plt.tight_layout()"
   ]
  },
  {
   "cell_type": "markdown",
   "metadata": {},
   "source": []
  },
  {
   "cell_type": "markdown",
   "metadata": {},
   "source": [
    "## Inference on ESP32"
   ]
  },
  {
   "cell_type": "code",
   "execution_count": null,
   "metadata": {},
   "outputs": [],
   "source": [
    "time_esp32_25_3 = [1678,1188,1175,1176,1175,1176,1175,1176,1175,1176,1176,1176,1175,1176,1176,1176,1175,1176,1176,1176]\n",
    "time_esp32_25_4 = [2054,1575,1557,1557,1557,1557,1556,1557,1566,1557,1557,1557,1557,1557,1556,1564,1556,1556,1556,1565]\n",
    "time_esp32_25_5 = [2490,1994,1982,1987,1982,1983,1982,1988,1982,1981,1983,1982,1988,1982,1982,1982,1990,1982,1982,1982]\n",
    "time_esp32_25_10 = [4157,3654,3640,3640,3640,3643,3640,3643,3642,3643,3633,3635,3633,3636,3634,3636,3633,3635,3633,3636]\n",
    "\n",
    "time_esp32_100_3 = [1738,1235,1226,1222,1223,1226,1223,1223,1231,1223,1222,1228,1222,1223,1230,1223,1223,1223,1222,1223]\n",
    "time_esp32_100_4 = [2152,1648,1636,1637,1636,1645,1636,1637,1637,1637,1636,1636,1636,1636,1637,1637,1645,1636,1637,1637]\n",
    "time_esp32_100_5 = [2638,2132,2122,2121,2129,2121,2121,2121,2122,2126,2121,2121,2122,2125,2121,2121,2122,2121,2127,2121]\n",
    "time_esp32_100_10 = [4568,4062,4051,4053,4048,4052,4051,4046,4044,4045,4043,4046,4044,4045,4044,4046,4044,4046,4044,4044]\n"
   ]
  },
  {
   "cell_type": "code",
   "execution_count": null,
   "metadata": {},
   "outputs": [],
   "source": []
  }
 ],
 "metadata": {
  "kernelspec": {
   "display_name": "Python 3.8 (XPython)",
   "language": "python",
   "name": "xpython"
  },
  "language_info": {
   "file_extension": ".py",
   "mimetype": "text/x-python",
   "name": "python",
   "version": "3.8.10"
  }
 },
 "nbformat": 4,
 "nbformat_minor": 4
}
