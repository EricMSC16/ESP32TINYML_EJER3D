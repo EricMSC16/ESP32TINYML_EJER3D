{
 "cells": [
  {
   "cell_type": "code",
   "execution_count": 3,
   "metadata": {},
   "outputs": [],
   "source": [
    "import pandas as pd\n",
    "import numpy as np\n",
    "\n",
    "import seaborn as sns\n",
    "import matplotlib.pyplot as plt\n",
    "\n",
    "from sklearn.model_selection import train_test_split\n",
    "\n",
    "plt.style.use('ggplot')\n",
    "\n",
    "%matplotlib inline"
   ]
  },
  {
   "cell_type": "code",
   "execution_count": 4,
   "metadata": {},
   "outputs": [],
   "source": [
    "def save_model(classifier, model_type, n_est, hz):\n",
    "    import m2cgen as m2c\n",
    "    code = m2c.export_to_python(classifier)\n",
    "    PATH = f'models/inf_time_test/{model_type}/{model_type}_{n_est}est_{hz}hz.py'\n",
    "    with open(PATH,'w') as f:\n",
    "        f.writelines(code)\n",
    "\n",
    "    return PATH"
   ]
  },
  {
   "cell_type": "code",
   "execution_count": 5,
   "metadata": {},
   "outputs": [],
   "source": [
    "def train_random_forest(X_train, X_test, y_train, y_test, n_est, hz):\n",
    "    '''Trainer function for random forest classifier.'''\n",
    "    from sklearn.ensemble import RandomForestClassifier\n",
    "    from sklearn import metrics\n",
    "    \n",
    "    clf = RandomForestClassifier(random_state=42, n_estimators=n_est)\n",
    "    clf.fit(X_train, y_train)\n",
    "\n",
    "    y_pred = clf.predict(X_test)\n",
    "\n",
    "    accuracy = metrics.accuracy_score(y_test, y_pred)\n",
    "    f1 = metrics.f1_score(y_test, y_pred, average='macro')\n",
    "    precision = metrics.precision_score(y_test, y_pred, average='macro')\n",
    "    recall = metrics.recall_score(y_test, y_pred, average='macro')\n",
    "\n",
    "    path = save_model(classifier=clf, model_type='random_forest', n_est=n_est, hz=hz)\n",
    "\n",
    "    return accuracy, f1, precision, recall, clf"
   ]
  },
  {
   "cell_type": "code",
   "execution_count": 6,
   "metadata": {},
   "outputs": [],
   "source": [
    "# prepare data\n",
    "\n",
    "df_25hz = pd.read_csv('data/transformed/20210529_v2_data_all_25hz.csv').reset_index(drop=True)\n",
    "df_100hz = pd.read_csv('data/transformed/20210529_v2_data_all_100hz.csv').reset_index(drop=True)\n",
    "\n",
    "df_train_25hz = df_25hz.dropna(axis=0)\n",
    "df_train_100hz = df_100hz.dropna(axis=0)\n",
    "\n",
    "X_train_25hz, X_test_25hz, y_train_25hz, y_test_25hz = train_test_split(\n",
    "        df_train_25hz.drop(['label','shift'],axis=1), df_train_25hz['label'], test_size=0.3, random_state=42)\n",
    "\n",
    "X_train_100hz, X_test_100hz, y_train_100hz, y_test_100hz = train_test_split(\n",
    "        df_train_100hz.drop(['label','shift'],axis=1), df_train_100hz['label'], test_size=0.3, random_state=42)"
   ]
  },
  {
   "cell_type": "code",
   "execution_count": 7,
   "metadata": {},
   "outputs": [
    {
     "name": "stdout",
     "output_type": "stream",
     "text": [
      "\n",
      "Random Forest - 25hz - 3\n",
      "------------------------------------------------------------\n",
      "\n",
      "Random Forest - 25hz - 4\n",
      "------------------------------------------------------------\n",
      "\n",
      "Random Forest - 25hz - 5\n",
      "------------------------------------------------------------\n",
      "\n",
      "Random Forest - 25hz - 10\n",
      "------------------------------------------------------------\n",
      "\n",
      "Random Forest - 100hz - 3\n",
      "------------------------------------------------------------\n",
      "\n",
      "Random Forest - 100hz - 4\n",
      "------------------------------------------------------------\n",
      "\n",
      "Random Forest - 100hz - 5\n",
      "------------------------------------------------------------\n",
      "\n",
      "Random Forest - 100hz - 10\n",
      "------------------------------------------------------------\n"
     ]
    }
   ],
   "source": [
    "# train random forests\n",
    "\n",
    "for n_est in [3,4,5,10]:\n",
    "    print(f'\\nRandom Forest - 25hz - {n_est}')\n",
    "    train_random_forest(X_train_25hz, X_test_25hz, y_train_25hz, y_test_25hz, n_est, 25)\n",
    "    print('-' * 60)\n",
    "\n",
    "for n_est in [3,4,5,10]:\n",
    "    print(f'\\nRandom Forest - 100hz - {n_est}')\n",
    "    train_random_forest(X_train_100hz, X_test_100hz, y_train_100hz, y_test_100hz, n_est, 100)\n",
    "    print('-' * 60)"
   ]
  },
  {
   "cell_type": "code",
   "execution_count": 6,
   "metadata": {},
   "outputs": [],
   "source": [
    "from models.inf_time_test.random_forest import (\n",
    "        random_forest_3est_25hz,\n",
    "        random_forest_4est_25hz,\n",
    "        random_forest_5est_25hz, \n",
    "        random_forest_10est_25hz,\n",
    "        random_forest_3est_100hz,\n",
    "        random_forest_4est_100hz,\n",
    "        random_forest_5est_100hz, \n",
    "        random_forest_10est_100hz\n",
    "    )"
   ]
  },
  {
   "cell_type": "code",
   "execution_count": 7,
   "metadata": {},
   "outputs": [],
   "source": [
    "test_data_25hz = pd.read_csv('data/transformed/20210529_v2_data_all_25hz.csv').reset_index(drop=True).drop(['label','shift'], axis=1).loc[0]\n",
    "test_data_100hz = pd.read_csv('data/transformed/20210529_v2_data_all_100hz.csv').reset_index(drop=True).drop(['label','shift'], axis=1).loc[0]"
   ]
  },
  {
   "cell_type": "code",
   "execution_count": 8,
   "metadata": {},
   "outputs": [],
   "source": [
    "m2c_time_test_setup = {\n",
    "    'random_forest': [\n",
    "        (random_forest_3est_25hz, test_data_25hz, 25, 3),\n",
    "        (random_forest_4est_25hz, test_data_25hz, 25, 4),\n",
    "        (random_forest_5est_25hz, test_data_25hz, 25, 5),\n",
    "        (random_forest_10est_25hz, test_data_25hz, 25, 10),\n",
    "        (random_forest_3est_100hz, test_data_100hz, 100, 3),\n",
    "        (random_forest_4est_100hz, test_data_100hz, 100, 4),\n",
    "        (random_forest_5est_100hz, test_data_100hz, 100, 5),\n",
    "        (random_forest_10est_100hz, test_data_100hz, 100, 10)\n",
    "    ]\n",
    "}"
   ]
  },
  {
   "cell_type": "code",
   "execution_count": 9,
   "metadata": {},
   "outputs": [
    {
     "name": "stdout",
     "output_type": "stream",
     "text": [
      "38.9 µs ± 1.13 µs per loop (mean ± std. dev. of 7 runs, 10000 loops each)\n",
      "59.5 µs ± 3.86 µs per loop (mean ± std. dev. of 7 runs, 10000 loops each)\n",
      "74.2 µs ± 2.17 µs per loop (mean ± std. dev. of 7 runs, 10000 loops each)\n",
      "136 µs ± 1.35 µs per loop (mean ± std. dev. of 7 runs, 10000 loops each)\n",
      "42.7 µs ± 5.55 µs per loop (mean ± std. dev. of 7 runs, 10000 loops each)\n",
      "51.8 µs ± 592 ns per loop (mean ± std. dev. of 7 runs, 10000 loops each)\n",
      "66.4 µs ± 352 ns per loop (mean ± std. dev. of 7 runs, 10000 loops each)\n",
      "121 µs ± 1.7 µs per loop (mean ± std. dev. of 7 runs, 10000 loops each)\n"
     ]
    }
   ],
   "source": [
    "from statistics import mean\n",
    "\n",
    "m2c_time_local = []            \n",
    "\n",
    "for t_item in m2c_time_test_setup['random_forest']:\n",
    "    model = t_item[0]\n",
    "    test_data = t_item[1]\n",
    "    hz = t_item[2]\n",
    "    n_est = t_item[3]\n",
    "\n",
    "    res_time = get_ipython().run_line_magic('timeit', '-o model.score(test_data)')\n",
    "\n",
    "    # TODO fix data collection\n",
    "    m2c_time_local.append({'hz':hz ,'estimators': n_est, 'time':mean(res_time.timings)})\n",
    "#     m2c_time_data_rf['hz'] = hz\n",
    "#     m2c_time_data_rf['estimators'] = n_est\n",
    "#     m2c_time_data_rf['time'] = mean(res_time.timings)\n",
    "    "
   ]
  },
  {
   "cell_type": "code",
   "execution_count": 10,
   "metadata": {},
   "outputs": [
    {
     "data": {
      "text/plain": [
       "[{'hz': 25, 'estimators': 3, 'time': 3.890949081428577e-05},\n",
       " {'hz': 25, 'estimators': 4, 'time': 5.94626784428573e-05},\n",
       " {'hz': 25, 'estimators': 5, 'time': 7.424258258571419e-05},\n",
       " {'hz': 25, 'estimators': 10, 'time': 0.0001362965625857144},\n",
       " {'hz': 100, 'estimators': 3, 'time': 4.269627458571433e-05},\n",
       " {'hz': 100, 'estimators': 4, 'time': 5.1811314657142914e-05},\n",
       " {'hz': 100, 'estimators': 5, 'time': 6.638631727142845e-05},\n",
       " {'hz': 100, 'estimators': 10, 'time': 0.0001205431235857148}]"
      ]
     },
     "execution_count": 10,
     "metadata": {},
     "output_type": "execute_result"
    }
   ],
   "source": [
    "m2c_time_local"
   ]
  },
  {
   "cell_type": "code",
   "execution_count": 11,
   "metadata": {},
   "outputs": [],
   "source": [
    "m2c_df_local = pd.DataFrame(m2c_time_local)\n",
    "m2c_df_local['device'] = 'local'\n",
    "m2c_df_local['time'] = m2c_df_local['time'] * 1000 # convert to ms\n",
    "\n",
    "m2c_df_local.to_csv('output/inference_time_rf_estimators_50hz.csv', index=False)"
   ]
  },
  {
   "cell_type": "markdown",
   "metadata": {},
   "source": [
    "## Inference on ESP32"
   ]
  },
  {
   "cell_type": "code",
   "execution_count": 8,
   "metadata": {},
   "outputs": [],
   "source": [
    "# inference time means collect from ESP32 @ 160MHz\n",
    "from statistics import mean\n",
    "\n",
    "# collected data is in us\n",
    "# data was collected on ESP32 at 160MHz\n",
    "\n",
    "time_esp32_25_3 = mean([1678,1188,1175,1176,1175,1176,1175,1176,1175,1176,1176,1176,1175,1176,1176,1176,1175,1176,1176,1176])\n",
    "time_esp32_25_4 = mean([2054,1575,1557,1557,1557,1557,1556,1557,1566,1557,1557,1557,1557,1557,1556,1564,1556,1556,1556,1565])\n",
    "time_esp32_25_5 = mean([2490,1994,1982,1987,1982,1983,1982,1988,1982,1981,1983,1982,1988,1982,1982,1982,1990,1982,1982,1982])\n",
    "time_esp32_25_10 = mean([4157,3654,3640,3640,3640,3643,3640,3643,3642,3643,3633,3635,3633,3636,3634,3636,3633,3635,3633,3636])\n",
    "\n",
    "time_esp32_100_3 = mean([1738,1235,1226,1222,1223,1226,1223,1223,1231,1223,1222,1228,1222,1223,1230,1223,1223,1223,1222,1223])\n",
    "time_esp32_100_4 = mean([2152,1648,1636,1637,1636,1645,1636,1637,1637,1637,1636,1636,1636,1636,1637,1637,1645,1636,1637,1637])\n",
    "time_esp32_100_5 = mean([2638,2132,2122,2121,2129,2121,2121,2121,2122,2126,2121,2121,2122,2125,2121,2121,2122,2121,2127,2121])\n",
    "time_esp32_100_10 = mean([4568,4062,4051,4053,4048,4052,4051,4046,4044,4045,4043,4046,4044,4045,4044,4046,4044,4046,4044,4044])"
   ]
  },
  {
   "cell_type": "code",
   "execution_count": 13,
   "metadata": {},
   "outputs": [],
   "source": [
    "m2c_df_esp32 = pd.DataFrame([\n",
    "    {'hz': 25, 'estimators': 3, 'time':time_esp32_25_3},\n",
    "    {'hz': 25, 'estimators': 4, 'time':time_esp32_25_4},\n",
    "    {'hz': 25, 'estimators': 5, 'time':time_esp32_25_5},\n",
    "    {'hz': 25, 'estimators': 10, 'time':time_esp32_25_10},\n",
    "    {'hz': 100, 'estimators': 3, 'time':time_esp32_100_3},\n",
    "    {'hz': 100, 'estimators': 4, 'time':time_esp32_100_4},\n",
    "    {'hz': 100, 'estimators': 5, 'time':time_esp32_100_5},\n",
    "    {'hz': 100, 'estimators': 10, 'time':time_esp32_100_10}\n",
    "])\n",
    "\n",
    "m2c_df_esp32['device'] = 'esp32'\n",
    "m2c_df_esp32['time'] = m2c_df_esp32['time'] / 1000\n"
   ]
  },
  {
   "cell_type": "markdown",
   "metadata": {},
   "source": [
    "## Plot ESP32 vs Local inference times"
   ]
  },
  {
   "cell_type": "code",
   "execution_count": 18,
   "metadata": {},
   "outputs": [
    {
     "data": {
      "image/png": "[encoded data removed]",
      "text/plain": [
       "<Figure size 864x576 with 1 Axes>"
      ]
     },
     "metadata": {
      "needs_background": "light"
     },
     "output_type": "display_data"
    }
   ],
   "source": [
    "import matplotlib.ticker as tick\n",
    "import matplotlib.patches as mpatches\n",
    "\n",
    "plt.figure(figsize=(12,8))\n",
    "color_pal_esp32  = {25:(162/255, 136/255, 227/255), 100:(56/255, 2/255, 59/255)}\n",
    "color_pal_local  = {25:(217/255, 61/255, 110/255), 100:(125/255, 34/255, 62/255)}\n",
    "\n",
    "sns.scatterplot(data=m2c_df_esp32, x='estimators', y='time', hue='hz', palette=color_pal_esp32, s=200)\n",
    "sns.scatterplot(data=m2c_df_local, x='estimators', y='time', hue='hz', palette=color_pal_local, s=200)\n",
    "\n",
    "plt.title('\\nRandom Forest - Inference time comparison\\n')\n",
    "plt.xlabel('\\nNo. of estimators')\n",
    "plt.ylabel('Inference time [ms]')\n",
    "\n",
    "# Create Legend\n",
    "esp_32_25 = mpatches.Patch(color=color_pal_esp32[25], label='ESP32@160MHz / 25Hz (156 Inputs)')\n",
    "esp_32_100 = mpatches.Patch(color=color_pal_esp32[100], label='ESP32@160MHz / 100Hz (606 Inputs)')\n",
    "local_25 = mpatches.Patch(color=color_pal_local[25], label='MBP / 25Hz (156 Inputs)')\n",
    "local_100 = mpatches.Patch(color=color_pal_local[100], label='MBP / 100Hz (606 Inputs)')\n",
    "plt.legend(handles=[esp_32_25, esp_32_100, local_25, local_100], title='Inference times')\n",
    "\n",
    "plt.tight_layout()"
   ]
  },
  {
   "cell_type": "code",
   "execution_count": null,
   "metadata": {},
   "outputs": [],
   "source": []
  }
 ],
 "metadata": {
  "interpreter": {
   "hash": "11be29b1d7515f91d02295bece7900dcfcd4625b0a1f7c74c6e2ef65fa62adc5"
  },
  "kernelspec": {
   "display_name": "Python 3",
   "language": "python",
   "name": "python3"
  },
  "language_info": {
   "codemirror_mode": {
    "name": "ipython",
    "version": 3
   },
   "file_extension": ".py",
   "mimetype": "text/x-python",
   "name": "python",
   "nbconvert_exporter": "python",
   "pygments_lexer": "ipython3",
   "version": "3.8.3"
  }
 },
 "nbformat": 4,
 "nbformat_minor": 4
}
