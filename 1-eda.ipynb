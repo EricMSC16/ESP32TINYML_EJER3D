{
 "metadata": {
  "language_info": {
   "codemirror_mode": {
    "name": "ipython",
    "version": 3
   },
   "file_extension": ".py",
   "mimetype": "text/x-python",
   "name": "python",
   "nbconvert_exporter": "python",
   "pygments_lexer": "ipython3",
   "version": "3.8.3"
  },
  "orig_nbformat": 2,
  "kernelspec": {
   "name": "python383jvsc74a57bd011be29b1d7515f91d02295bece7900dcfcd4625b0a1f7c74c6e2ef65fa62adc5",
   "display_name": "Python 3.8.3 64-bit ('tinyml': conda)"
  }
 },
 "nbformat": 4,
 "nbformat_minor": 2,
 "cells": [
  {
   "cell_type": "code",
   "execution_count": 1,
   "metadata": {},
   "outputs": [],
   "source": [
    "import pandas as pd\n",
    "import numpy as np\n",
    "\n",
    "import seaborn as sns\n",
    "import matplotlib.pyplot as plt\n",
    "\n",
    "plt.style.use('ggplot')\n",
    "\n",
    "%matplotlib inline"
   ]
  },
  {
   "source": [
    "## Label distribution in collected data\n",
    "\n",
    "I am using the dataset with 100Hz sampling rate. Label distribution is the same for the downsampled dataset."
   ],
   "cell_type": "markdown",
   "metadata": {}
  },
  {
   "source": [
    "Each row of the dataset represents one type of movement that was labelled. Where:\n",
    "- acc_x, acc_y, acc_z are accelerations\n",
    "- gyro_x, gyro_y, gyro_z are angular velocities\n",
    "- all rows have a label where:\n",
    "    - 0 is `no` movement\n",
    "    - 1 is `x` axis movement\n",
    "    - 2 is `y` axis movement\n",
    "    - 3 is `circle` movement\n",
    "- `shift` is the shift from the originally labelled start. `shift` values are represented by steps - i.e. shift of 2 is 2 x 10ms = 20ms as the original sampling period was 10ms\n",
    "- all signals have a numeral suffix denoting the point in time. As an example acc_x_500 is the value of acceleration in the direction of axis X, 500ms since start."
   ],
   "cell_type": "markdown",
   "metadata": {}
  },
  {
   "source": [
    "df = pd.read_csv('data/transformed/20210529_v2_data_all_100hz.csv').reset_index(drop=True)\n",
    "df = df[df['shift'] == 0] # using the baseline dataset - as labeled\n",
    "df = df.drop('shift', axis=1)\n",
    "df.head(5)"
   ],
   "cell_type": "code",
   "metadata": {},
   "execution_count": 2,
   "outputs": [
    {
     "output_type": "execute_result",
     "data": {
      "text/plain": [
       "     acc_x_0   acc_y_0   acc_z_0  gyro_x_0  gyro_y_0  gyro_z_0  acc_x_10  \\\n",
       "2   0.119710  0.076614  10.15860 -0.931298  1.717557  3.305344  0.248997   \n",
       "32 -0.205901  0.019154  10.09874 -0.648855  2.496183 -1.335878  0.751779   \n",
       "42  0.232238 -0.090980  10.12029 -0.854962  1.717557 -6.610687  0.469264   \n",
       "46  0.169988  0.232238  10.14902 -1.167939  1.587786  4.694656  1.055843   \n",
       "50  0.251391  0.162806  10.17296  0.679389  2.442748 -1.175573  0.241814   \n",
       "\n",
       "    acc_y_10  acc_z_10  gyro_x_10  ...  gyro_x_990  gyro_y_990  gyro_z_990  \\\n",
       "2   0.100556  10.15620  -0.931298  ...   -0.862595    0.900763    0.366412   \n",
       "32  0.392649  10.22803  -0.274809  ...   -1.091603    1.083969   -0.977099   \n",
       "42 -0.162806  10.17057  -0.595420  ...   -0.916030    1.190840   -3.305344   \n",
       "46  0.452504  10.08438  -0.419847  ...   -0.801527    1.404580   -1.160305   \n",
       "50 -0.105345  10.07241   0.114504  ...    0.328244    1.587786    0.175572   \n",
       "\n",
       "    acc_x_1000  acc_y_1000  acc_z_1000  gyro_x_1000  gyro_y_1000  gyro_z_1000  \\\n",
       "2    -0.011971   -0.095768    10.08677    -0.664122     1.076336    -0.236641   \n",
       "32   -0.129287   -0.021548    10.07001    -0.870229     1.068702    -1.114504   \n",
       "42   -0.126893   -0.011971    10.08198    -0.893130     1.129771    -2.541985   \n",
       "46   -0.201113   -0.014365    10.14184    -0.587786     1.312977    -1.030534   \n",
       "50    0.074220   -0.016759    10.14184    -0.389313     0.473282    -2.015267   \n",
       "\n",
       "    label  \n",
       "2       1  \n",
       "32      1  \n",
       "42      1  \n",
       "46      1  \n",
       "50      1  \n",
       "\n",
       "[5 rows x 607 columns]"
      ],
      "text/html": "<div>\n<style scoped>\n    .dataframe tbody tr th:only-of-type {\n        vertical-align: middle;\n    }\n\n    .dataframe tbody tr th {\n        vertical-align: top;\n    }\n\n    .dataframe thead th {\n        text-align: right;\n    }\n</style>\n<table border=\"1\" class=\"dataframe\">\n  <thead>\n    <tr style=\"text-align: right;\">\n      <th></th>\n      <th>acc_x_0</th>\n      <th>acc_y_0</th>\n      <th>acc_z_0</th>\n      <th>gyro_x_0</th>\n      <th>gyro_y_0</th>\n      <th>gyro_z_0</th>\n      <th>acc_x_10</th>\n      <th>acc_y_10</th>\n      <th>acc_z_10</th>\n      <th>gyro_x_10</th>\n      <th>...</th>\n      <th>gyro_x_990</th>\n      <th>gyro_y_990</th>\n      <th>gyro_z_990</th>\n      <th>acc_x_1000</th>\n      <th>acc_y_1000</th>\n      <th>acc_z_1000</th>\n      <th>gyro_x_1000</th>\n      <th>gyro_y_1000</th>\n      <th>gyro_z_1000</th>\n      <th>label</th>\n    </tr>\n  </thead>\n  <tbody>\n    <tr>\n      <th>2</th>\n      <td>0.119710</td>\n      <td>0.076614</td>\n      <td>10.15860</td>\n      <td>-0.931298</td>\n      <td>1.717557</td>\n      <td>3.305344</td>\n      <td>0.248997</td>\n      <td>0.100556</td>\n      <td>10.15620</td>\n      <td>-0.931298</td>\n      <td>...</td>\n      <td>-0.862595</td>\n      <td>0.900763</td>\n      <td>0.366412</td>\n      <td>-0.011971</td>\n      <td>-0.095768</td>\n      <td>10.08677</td>\n      <td>-0.664122</td>\n      <td>1.076336</td>\n      <td>-0.236641</td>\n      <td>1</td>\n    </tr>\n    <tr>\n      <th>32</th>\n      <td>-0.205901</td>\n      <td>0.019154</td>\n      <td>10.09874</td>\n      <td>-0.648855</td>\n      <td>2.496183</td>\n      <td>-1.335878</td>\n      <td>0.751779</td>\n      <td>0.392649</td>\n      <td>10.22803</td>\n      <td>-0.274809</td>\n      <td>...</td>\n      <td>-1.091603</td>\n      <td>1.083969</td>\n      <td>-0.977099</td>\n      <td>-0.129287</td>\n      <td>-0.021548</td>\n      <td>10.07001</td>\n      <td>-0.870229</td>\n      <td>1.068702</td>\n      <td>-1.114504</td>\n      <td>1</td>\n    </tr>\n    <tr>\n      <th>42</th>\n      <td>0.232238</td>\n      <td>-0.090980</td>\n      <td>10.12029</td>\n      <td>-0.854962</td>\n      <td>1.717557</td>\n      <td>-6.610687</td>\n      <td>0.469264</td>\n      <td>-0.162806</td>\n      <td>10.17057</td>\n      <td>-0.595420</td>\n      <td>...</td>\n      <td>-0.916030</td>\n      <td>1.190840</td>\n      <td>-3.305344</td>\n      <td>-0.126893</td>\n      <td>-0.011971</td>\n      <td>10.08198</td>\n      <td>-0.893130</td>\n      <td>1.129771</td>\n      <td>-2.541985</td>\n      <td>1</td>\n    </tr>\n    <tr>\n      <th>46</th>\n      <td>0.169988</td>\n      <td>0.232238</td>\n      <td>10.14902</td>\n      <td>-1.167939</td>\n      <td>1.587786</td>\n      <td>4.694656</td>\n      <td>1.055843</td>\n      <td>0.452504</td>\n      <td>10.08438</td>\n      <td>-0.419847</td>\n      <td>...</td>\n      <td>-0.801527</td>\n      <td>1.404580</td>\n      <td>-1.160305</td>\n      <td>-0.201113</td>\n      <td>-0.014365</td>\n      <td>10.14184</td>\n      <td>-0.587786</td>\n      <td>1.312977</td>\n      <td>-1.030534</td>\n      <td>1</td>\n    </tr>\n    <tr>\n      <th>50</th>\n      <td>0.251391</td>\n      <td>0.162806</td>\n      <td>10.17296</td>\n      <td>0.679389</td>\n      <td>2.442748</td>\n      <td>-1.175573</td>\n      <td>0.241814</td>\n      <td>-0.105345</td>\n      <td>10.07241</td>\n      <td>0.114504</td>\n      <td>...</td>\n      <td>0.328244</td>\n      <td>1.587786</td>\n      <td>0.175572</td>\n      <td>0.074220</td>\n      <td>-0.016759</td>\n      <td>10.14184</td>\n      <td>-0.389313</td>\n      <td>0.473282</td>\n      <td>-2.015267</td>\n      <td>1</td>\n    </tr>\n  </tbody>\n</table>\n<p>5 rows × 607 columns</p>\n</div>"
     },
     "metadata": {},
     "execution_count": 2
    }
   ]
  },
  {
   "cell_type": "code",
   "execution_count": 3,
   "metadata": {},
   "outputs": [
    {
     "output_type": "display_data",
     "data": {
      "text/plain": "<Figure size 288x360 with 1 Axes>",
      "image/svg+xml": "<?xml version=\"1.0\" encoding=\"utf-8\" standalone=\"no\"?>\n<!DOCTYPE svg PUBLIC \"-//W3C//DTD SVG 1.1//EN\"\n  \"http://www.w3.org/Graphics/SVG/1.1/DTD/svg11.dtd\">\n<!-- Created with matplotlib (https://matplotlib.org/) -->\n<svg height=\"415.656325pt\" version=\"1.1\" viewBox=\"0 0 296.62625 415.656325\" width=\"296.62625pt\" xmlns=\"http://www.w3.org/2000/svg\" xmlns:xlink=\"http://www.w3.org/1999/xlink\">\n <metadata>\n  <rdf:RDF xmlns:cc=\"http://creativecommons.org/ns#\" xmlns:dc=\"http://purl.org/dc/elements/1.1/\" xmlns:rdf=\"http://www.w3.org/1999/02/22-rdf-syntax-ns#\">\n   <cc:Work>\n    <dc:type rdf:resource=\"http://purl.org/dc/dcmitype/StillImage\"/>\n    <dc:date>2021-06-06T21:10:40.836595</dc:date>\n    <dc:format>image/svg+xml</dc:format>\n    <dc:creator>\n     <cc:Agent>\n      <dc:title>Matplotlib v3.3.4, https://matplotlib.org/</dc:title>\n     </cc:Agent>\n    </dc:creator>\n   </cc:Work>\n  </rdf:RDF>\n </metadata>\n <defs>\n  <style type=\"text/css\">*{stroke-linecap:butt;stroke-linejoin:round;}</style>\n </defs>\n <g id=\"figure_1\">\n  <g id=\"patch_1\">\n   <path d=\"M 0 415.656325 \nL 296.62625 415.656325 \nL 296.62625 0 \nL 0 0 \nz\n\" style=\"fill:none;\"/>\n  </g>\n  <g id=\"axes_1\">\n   <g id=\"patch_2\">\n    <path d=\"M 48.90125 360.79145 \nL 289.42625 360.79145 \nL 289.42625 56.39145 \nL 48.90125 56.39145 \nz\n\" style=\"fill:#e5e5e5;\"/>\n   </g>\n   <g id=\"matplotlib.axis_1\">\n    <g id=\"xtick_1\">\n     <g id=\"line2d_1\">\n      <defs>\n       <path d=\"M 0 0 \nL 0 3.5 \n\" id=\"m6279dcb14e\" style=\"stroke:#555555;stroke-width:0.8;\"/>\n      </defs>\n      <g>\n       <use style=\"fill:#555555;stroke:#555555;stroke-width:0.8;\" x=\"78.966875\" xlink:href=\"#m6279dcb14e\" y=\"360.79145\"/>\n      </g>\n     </g>\n     <g id=\"text_1\">\n      <!-- No move -->\n      <g style=\"fill:#555555;\" transform=\"translate(52.14125 376.909575)scale(0.12 -0.12)\">\n       <defs>\n        <path d=\"M 9.8125 72.90625 \nL 23.09375 72.90625 \nL 55.421875 11.921875 \nL 55.421875 72.90625 \nL 64.984375 72.90625 \nL 64.984375 0 \nL 51.703125 0 \nL 19.390625 60.984375 \nL 19.390625 0 \nL 9.8125 0 \nz\n\" id=\"DejaVuSans-78\"/>\n        <path d=\"M 30.609375 48.390625 \nQ 23.390625 48.390625 19.1875 42.75 \nQ 14.984375 37.109375 14.984375 27.296875 \nQ 14.984375 17.484375 19.15625 11.84375 \nQ 23.34375 6.203125 30.609375 6.203125 \nQ 37.796875 6.203125 41.984375 11.859375 \nQ 46.1875 17.53125 46.1875 27.296875 \nQ 46.1875 37.015625 41.984375 42.703125 \nQ 37.796875 48.390625 30.609375 48.390625 \nz\nM 30.609375 56 \nQ 42.328125 56 49.015625 48.375 \nQ 55.71875 40.765625 55.71875 27.296875 \nQ 55.71875 13.875 49.015625 6.21875 \nQ 42.328125 -1.421875 30.609375 -1.421875 \nQ 18.84375 -1.421875 12.171875 6.21875 \nQ 5.515625 13.875 5.515625 27.296875 \nQ 5.515625 40.765625 12.171875 48.375 \nQ 18.84375 56 30.609375 56 \nz\n\" id=\"DejaVuSans-111\"/>\n        <path id=\"DejaVuSans-32\"/>\n        <path d=\"M 52 44.1875 \nQ 55.375 50.25 60.0625 53.125 \nQ 64.75 56 71.09375 56 \nQ 79.640625 56 84.28125 50.015625 \nQ 88.921875 44.046875 88.921875 33.015625 \nL 88.921875 0 \nL 79.890625 0 \nL 79.890625 32.71875 \nQ 79.890625 40.578125 77.09375 44.375 \nQ 74.3125 48.1875 68.609375 48.1875 \nQ 61.625 48.1875 57.5625 43.546875 \nQ 53.515625 38.921875 53.515625 30.90625 \nL 53.515625 0 \nL 44.484375 0 \nL 44.484375 32.71875 \nQ 44.484375 40.625 41.703125 44.40625 \nQ 38.921875 48.1875 33.109375 48.1875 \nQ 26.21875 48.1875 22.15625 43.53125 \nQ 18.109375 38.875 18.109375 30.90625 \nL 18.109375 0 \nL 9.078125 0 \nL 9.078125 54.6875 \nL 18.109375 54.6875 \nL 18.109375 46.1875 \nQ 21.1875 51.21875 25.484375 53.609375 \nQ 29.78125 56 35.6875 56 \nQ 41.65625 56 45.828125 52.96875 \nQ 50 49.953125 52 44.1875 \nz\n\" id=\"DejaVuSans-109\"/>\n        <path d=\"M 2.984375 54.6875 \nL 12.5 54.6875 \nL 29.59375 8.796875 \nL 46.6875 54.6875 \nL 56.203125 54.6875 \nL 35.6875 0 \nL 23.484375 0 \nz\n\" id=\"DejaVuSans-118\"/>\n        <path d=\"M 56.203125 29.59375 \nL 56.203125 25.203125 \nL 14.890625 25.203125 \nQ 15.484375 15.921875 20.484375 11.0625 \nQ 25.484375 6.203125 34.421875 6.203125 \nQ 39.59375 6.203125 44.453125 7.46875 \nQ 49.3125 8.734375 54.109375 11.28125 \nL 54.109375 2.78125 \nQ 49.265625 0.734375 44.1875 -0.34375 \nQ 39.109375 -1.421875 33.890625 -1.421875 \nQ 20.796875 -1.421875 13.15625 6.1875 \nQ 5.515625 13.8125 5.515625 26.8125 \nQ 5.515625 40.234375 12.765625 48.109375 \nQ 20.015625 56 32.328125 56 \nQ 43.359375 56 49.78125 48.890625 \nQ 56.203125 41.796875 56.203125 29.59375 \nz\nM 47.21875 32.234375 \nQ 47.125 39.59375 43.09375 43.984375 \nQ 39.0625 48.390625 32.421875 48.390625 \nQ 24.90625 48.390625 20.390625 44.140625 \nQ 15.875 39.890625 15.1875 32.171875 \nz\n\" id=\"DejaVuSans-101\"/>\n       </defs>\n       <use xlink:href=\"#DejaVuSans-78\"/>\n       <use x=\"74.804688\" xlink:href=\"#DejaVuSans-111\"/>\n       <use x=\"135.986328\" xlink:href=\"#DejaVuSans-32\"/>\n       <use x=\"167.773438\" xlink:href=\"#DejaVuSans-109\"/>\n       <use x=\"265.185547\" xlink:href=\"#DejaVuSans-111\"/>\n       <use x=\"326.367188\" xlink:href=\"#DejaVuSans-118\"/>\n       <use x=\"385.546875\" xlink:href=\"#DejaVuSans-101\"/>\n      </g>\n     </g>\n    </g>\n    <g id=\"xtick_2\">\n     <g id=\"line2d_2\">\n      <g>\n       <use style=\"fill:#555555;stroke:#555555;stroke-width:0.8;\" x=\"139.098125\" xlink:href=\"#m6279dcb14e\" y=\"360.79145\"/>\n      </g>\n     </g>\n     <g id=\"text_2\">\n      <!-- X -->\n      <g style=\"fill:#555555;\" transform=\"translate(134.988125 376.909575)scale(0.12 -0.12)\">\n       <defs>\n        <path d=\"M 6.296875 72.90625 \nL 16.890625 72.90625 \nL 35.015625 45.796875 \nL 53.21875 72.90625 \nL 63.8125 72.90625 \nL 40.375 37.890625 \nL 65.375 0 \nL 54.78125 0 \nL 34.28125 31 \nL 13.625 0 \nL 2.984375 0 \nL 29 38.921875 \nz\n\" id=\"DejaVuSans-88\"/>\n       </defs>\n       <use xlink:href=\"#DejaVuSans-88\"/>\n      </g>\n     </g>\n    </g>\n    <g id=\"xtick_3\">\n     <g id=\"line2d_3\">\n      <g>\n       <use style=\"fill:#555555;stroke:#555555;stroke-width:0.8;\" x=\"199.229375\" xlink:href=\"#m6279dcb14e\" y=\"360.79145\"/>\n      </g>\n     </g>\n     <g id=\"text_3\">\n      <!-- Y -->\n      <g style=\"fill:#555555;\" transform=\"translate(195.564687 376.909575)scale(0.12 -0.12)\">\n       <defs>\n        <path d=\"M -0.203125 72.90625 \nL 10.40625 72.90625 \nL 30.609375 42.921875 \nL 50.6875 72.90625 \nL 61.28125 72.90625 \nL 35.5 34.71875 \nL 35.5 0 \nL 25.59375 0 \nL 25.59375 34.71875 \nz\n\" id=\"DejaVuSans-89\"/>\n       </defs>\n       <use xlink:href=\"#DejaVuSans-89\"/>\n      </g>\n     </g>\n    </g>\n    <g id=\"xtick_4\">\n     <g id=\"line2d_4\">\n      <g>\n       <use style=\"fill:#555555;stroke:#555555;stroke-width:0.8;\" x=\"259.360625\" xlink:href=\"#m6279dcb14e\" y=\"360.79145\"/>\n      </g>\n     </g>\n     <g id=\"text_4\">\n      <!-- Circle -->\n      <g style=\"fill:#555555;\" transform=\"translate(242.514687 376.909575)scale(0.12 -0.12)\">\n       <defs>\n        <path d=\"M 64.40625 67.28125 \nL 64.40625 56.890625 \nQ 59.421875 61.53125 53.78125 63.8125 \nQ 48.140625 66.109375 41.796875 66.109375 \nQ 29.296875 66.109375 22.65625 58.46875 \nQ 16.015625 50.828125 16.015625 36.375 \nQ 16.015625 21.96875 22.65625 14.328125 \nQ 29.296875 6.6875 41.796875 6.6875 \nQ 48.140625 6.6875 53.78125 8.984375 \nQ 59.421875 11.28125 64.40625 15.921875 \nL 64.40625 5.609375 \nQ 59.234375 2.09375 53.4375 0.328125 \nQ 47.65625 -1.421875 41.21875 -1.421875 \nQ 24.65625 -1.421875 15.125 8.703125 \nQ 5.609375 18.84375 5.609375 36.375 \nQ 5.609375 53.953125 15.125 64.078125 \nQ 24.65625 74.21875 41.21875 74.21875 \nQ 47.75 74.21875 53.53125 72.484375 \nQ 59.328125 70.75 64.40625 67.28125 \nz\n\" id=\"DejaVuSans-67\"/>\n        <path d=\"M 9.421875 54.6875 \nL 18.40625 54.6875 \nL 18.40625 0 \nL 9.421875 0 \nz\nM 9.421875 75.984375 \nL 18.40625 75.984375 \nL 18.40625 64.59375 \nL 9.421875 64.59375 \nz\n\" id=\"DejaVuSans-105\"/>\n        <path d=\"M 41.109375 46.296875 \nQ 39.59375 47.171875 37.8125 47.578125 \nQ 36.03125 48 33.890625 48 \nQ 26.265625 48 22.1875 43.046875 \nQ 18.109375 38.09375 18.109375 28.8125 \nL 18.109375 0 \nL 9.078125 0 \nL 9.078125 54.6875 \nL 18.109375 54.6875 \nL 18.109375 46.1875 \nQ 20.953125 51.171875 25.484375 53.578125 \nQ 30.03125 56 36.53125 56 \nQ 37.453125 56 38.578125 55.875 \nQ 39.703125 55.765625 41.0625 55.515625 \nz\n\" id=\"DejaVuSans-114\"/>\n        <path d=\"M 48.78125 52.59375 \nL 48.78125 44.1875 \nQ 44.96875 46.296875 41.140625 47.34375 \nQ 37.3125 48.390625 33.40625 48.390625 \nQ 24.65625 48.390625 19.8125 42.84375 \nQ 14.984375 37.3125 14.984375 27.296875 \nQ 14.984375 17.28125 19.8125 11.734375 \nQ 24.65625 6.203125 33.40625 6.203125 \nQ 37.3125 6.203125 41.140625 7.25 \nQ 44.96875 8.296875 48.78125 10.40625 \nL 48.78125 2.09375 \nQ 45.015625 0.34375 40.984375 -0.53125 \nQ 36.96875 -1.421875 32.421875 -1.421875 \nQ 20.0625 -1.421875 12.78125 6.34375 \nQ 5.515625 14.109375 5.515625 27.296875 \nQ 5.515625 40.671875 12.859375 48.328125 \nQ 20.21875 56 33.015625 56 \nQ 37.15625 56 41.109375 55.140625 \nQ 45.0625 54.296875 48.78125 52.59375 \nz\n\" id=\"DejaVuSans-99\"/>\n        <path d=\"M 9.421875 75.984375 \nL 18.40625 75.984375 \nL 18.40625 0 \nL 9.421875 0 \nz\n\" id=\"DejaVuSans-108\"/>\n       </defs>\n       <use xlink:href=\"#DejaVuSans-67\"/>\n       <use x=\"69.824219\" xlink:href=\"#DejaVuSans-105\"/>\n       <use x=\"97.607422\" xlink:href=\"#DejaVuSans-114\"/>\n       <use x=\"136.470703\" xlink:href=\"#DejaVuSans-99\"/>\n       <use x=\"191.451172\" xlink:href=\"#DejaVuSans-108\"/>\n       <use x=\"219.234375\" xlink:href=\"#DejaVuSans-101\"/>\n      </g>\n     </g>\n    </g>\n    <g id=\"text_5\">\n     <!--  -->\n     <g style=\"fill:#555555;\" transform=\"translate(169.16375 392.523325)scale(0.12 -0.12)\"/>\n     <!-- Labels -->\n     <g style=\"fill:#555555;\" transform=\"translate(149.850313 405.9607)scale(0.12 -0.12)\">\n      <defs>\n       <path d=\"M 9.8125 72.90625 \nL 19.671875 72.90625 \nL 19.671875 8.296875 \nL 55.171875 8.296875 \nL 55.171875 0 \nL 9.8125 0 \nz\n\" id=\"DejaVuSans-76\"/>\n       <path d=\"M 34.28125 27.484375 \nQ 23.390625 27.484375 19.1875 25 \nQ 14.984375 22.515625 14.984375 16.5 \nQ 14.984375 11.71875 18.140625 8.90625 \nQ 21.296875 6.109375 26.703125 6.109375 \nQ 34.1875 6.109375 38.703125 11.40625 \nQ 43.21875 16.703125 43.21875 25.484375 \nL 43.21875 27.484375 \nz\nM 52.203125 31.203125 \nL 52.203125 0 \nL 43.21875 0 \nL 43.21875 8.296875 \nQ 40.140625 3.328125 35.546875 0.953125 \nQ 30.953125 -1.421875 24.3125 -1.421875 \nQ 15.921875 -1.421875 10.953125 3.296875 \nQ 6 8.015625 6 15.921875 \nQ 6 25.140625 12.171875 29.828125 \nQ 18.359375 34.515625 30.609375 34.515625 \nL 43.21875 34.515625 \nL 43.21875 35.40625 \nQ 43.21875 41.609375 39.140625 45 \nQ 35.0625 48.390625 27.6875 48.390625 \nQ 23 48.390625 18.546875 47.265625 \nQ 14.109375 46.140625 10.015625 43.890625 \nL 10.015625 52.203125 \nQ 14.9375 54.109375 19.578125 55.046875 \nQ 24.21875 56 28.609375 56 \nQ 40.484375 56 46.34375 49.84375 \nQ 52.203125 43.703125 52.203125 31.203125 \nz\n\" id=\"DejaVuSans-97\"/>\n       <path d=\"M 48.6875 27.296875 \nQ 48.6875 37.203125 44.609375 42.84375 \nQ 40.53125 48.484375 33.40625 48.484375 \nQ 26.265625 48.484375 22.1875 42.84375 \nQ 18.109375 37.203125 18.109375 27.296875 \nQ 18.109375 17.390625 22.1875 11.75 \nQ 26.265625 6.109375 33.40625 6.109375 \nQ 40.53125 6.109375 44.609375 11.75 \nQ 48.6875 17.390625 48.6875 27.296875 \nz\nM 18.109375 46.390625 \nQ 20.953125 51.265625 25.265625 53.625 \nQ 29.59375 56 35.59375 56 \nQ 45.5625 56 51.78125 48.09375 \nQ 58.015625 40.1875 58.015625 27.296875 \nQ 58.015625 14.40625 51.78125 6.484375 \nQ 45.5625 -1.421875 35.59375 -1.421875 \nQ 29.59375 -1.421875 25.265625 0.953125 \nQ 20.953125 3.328125 18.109375 8.203125 \nL 18.109375 0 \nL 9.078125 0 \nL 9.078125 75.984375 \nL 18.109375 75.984375 \nz\n\" id=\"DejaVuSans-98\"/>\n       <path d=\"M 44.28125 53.078125 \nL 44.28125 44.578125 \nQ 40.484375 46.53125 36.375 47.5 \nQ 32.28125 48.484375 27.875 48.484375 \nQ 21.1875 48.484375 17.84375 46.4375 \nQ 14.5 44.390625 14.5 40.28125 \nQ 14.5 37.15625 16.890625 35.375 \nQ 19.28125 33.59375 26.515625 31.984375 \nL 29.59375 31.296875 \nQ 39.15625 29.25 43.1875 25.515625 \nQ 47.21875 21.78125 47.21875 15.09375 \nQ 47.21875 7.46875 41.1875 3.015625 \nQ 35.15625 -1.421875 24.609375 -1.421875 \nQ 20.21875 -1.421875 15.453125 -0.5625 \nQ 10.6875 0.296875 5.421875 2 \nL 5.421875 11.28125 \nQ 10.40625 8.6875 15.234375 7.390625 \nQ 20.0625 6.109375 24.8125 6.109375 \nQ 31.15625 6.109375 34.5625 8.28125 \nQ 37.984375 10.453125 37.984375 14.40625 \nQ 37.984375 18.0625 35.515625 20.015625 \nQ 33.0625 21.96875 24.703125 23.78125 \nL 21.578125 24.515625 \nQ 13.234375 26.265625 9.515625 29.90625 \nQ 5.8125 33.546875 5.8125 39.890625 \nQ 5.8125 47.609375 11.28125 51.796875 \nQ 16.75 56 26.8125 56 \nQ 31.78125 56 36.171875 55.265625 \nQ 40.578125 54.546875 44.28125 53.078125 \nz\n\" id=\"DejaVuSans-115\"/>\n      </defs>\n      <use xlink:href=\"#DejaVuSans-76\"/>\n      <use x=\"55.712891\" xlink:href=\"#DejaVuSans-97\"/>\n      <use x=\"116.992188\" xlink:href=\"#DejaVuSans-98\"/>\n      <use x=\"180.46875\" xlink:href=\"#DejaVuSans-101\"/>\n      <use x=\"241.992188\" xlink:href=\"#DejaVuSans-108\"/>\n      <use x=\"269.775391\" xlink:href=\"#DejaVuSans-115\"/>\n     </g>\n    </g>\n   </g>\n   <g id=\"matplotlib.axis_2\">\n    <g id=\"ytick_1\">\n     <g id=\"line2d_5\">\n      <path clip-path=\"url(#pc5936fa875)\" d=\"M 48.90125 360.79145 \nL 289.42625 360.79145 \n\" style=\"fill:none;stroke:#ffffff;stroke-linecap:square;stroke-width:0.8;\"/>\n     </g>\n     <g id=\"line2d_6\">\n      <defs>\n       <path d=\"M 0 0 \nL -3.5 0 \n\" id=\"md17a3b6639\" style=\"stroke:#555555;stroke-width:0.8;\"/>\n      </defs>\n      <g>\n       <use style=\"fill:#555555;stroke:#555555;stroke-width:0.8;\" x=\"48.90125\" xlink:href=\"#md17a3b6639\" y=\"360.79145\"/>\n      </g>\n     </g>\n     <g id=\"text_6\">\n      <!-- 0 -->\n      <g style=\"fill:#555555;\" transform=\"translate(35.53875 364.590669)scale(0.1 -0.1)\">\n       <defs>\n        <path d=\"M 31.78125 66.40625 \nQ 24.171875 66.40625 20.328125 58.90625 \nQ 16.5 51.421875 16.5 36.375 \nQ 16.5 21.390625 20.328125 13.890625 \nQ 24.171875 6.390625 31.78125 6.390625 \nQ 39.453125 6.390625 43.28125 13.890625 \nQ 47.125 21.390625 47.125 36.375 \nQ 47.125 51.421875 43.28125 58.90625 \nQ 39.453125 66.40625 31.78125 66.40625 \nz\nM 31.78125 74.21875 \nQ 44.046875 74.21875 50.515625 64.515625 \nQ 56.984375 54.828125 56.984375 36.375 \nQ 56.984375 17.96875 50.515625 8.265625 \nQ 44.046875 -1.421875 31.78125 -1.421875 \nQ 19.53125 -1.421875 13.0625 8.265625 \nQ 6.59375 17.96875 6.59375 36.375 \nQ 6.59375 54.828125 13.0625 64.515625 \nQ 19.53125 74.21875 31.78125 74.21875 \nz\n\" id=\"DejaVuSans-48\"/>\n       </defs>\n       <use xlink:href=\"#DejaVuSans-48\"/>\n      </g>\n     </g>\n    </g>\n    <g id=\"ytick_2\">\n     <g id=\"line2d_7\">\n      <path clip-path=\"url(#pc5936fa875)\" d=\"M 48.90125 302.810498 \nL 289.42625 302.810498 \n\" style=\"fill:none;stroke:#ffffff;stroke-linecap:square;stroke-width:0.8;\"/>\n     </g>\n     <g id=\"line2d_8\">\n      <g>\n       <use style=\"fill:#555555;stroke:#555555;stroke-width:0.8;\" x=\"48.90125\" xlink:href=\"#md17a3b6639\" y=\"302.810498\"/>\n      </g>\n     </g>\n     <g id=\"text_7\">\n      <!-- 20 -->\n      <g style=\"fill:#555555;\" transform=\"translate(29.17625 306.609716)scale(0.1 -0.1)\">\n       <defs>\n        <path d=\"M 19.1875 8.296875 \nL 53.609375 8.296875 \nL 53.609375 0 \nL 7.328125 0 \nL 7.328125 8.296875 \nQ 12.9375 14.109375 22.625 23.890625 \nQ 32.328125 33.6875 34.8125 36.53125 \nQ 39.546875 41.84375 41.421875 45.53125 \nQ 43.3125 49.21875 43.3125 52.78125 \nQ 43.3125 58.59375 39.234375 62.25 \nQ 35.15625 65.921875 28.609375 65.921875 \nQ 23.96875 65.921875 18.8125 64.3125 \nQ 13.671875 62.703125 7.8125 59.421875 \nL 7.8125 69.390625 \nQ 13.765625 71.78125 18.9375 73 \nQ 24.125 74.21875 28.421875 74.21875 \nQ 39.75 74.21875 46.484375 68.546875 \nQ 53.21875 62.890625 53.21875 53.421875 \nQ 53.21875 48.921875 51.53125 44.890625 \nQ 49.859375 40.875 45.40625 35.40625 \nQ 44.1875 33.984375 37.640625 27.21875 \nQ 31.109375 20.453125 19.1875 8.296875 \nz\n\" id=\"DejaVuSans-50\"/>\n       </defs>\n       <use xlink:href=\"#DejaVuSans-50\"/>\n       <use x=\"63.623047\" xlink:href=\"#DejaVuSans-48\"/>\n      </g>\n     </g>\n    </g>\n    <g id=\"ytick_3\">\n     <g id=\"line2d_9\">\n      <path clip-path=\"url(#pc5936fa875)\" d=\"M 48.90125 244.829545 \nL 289.42625 244.829545 \n\" style=\"fill:none;stroke:#ffffff;stroke-linecap:square;stroke-width:0.8;\"/>\n     </g>\n     <g id=\"line2d_10\">\n      <g>\n       <use style=\"fill:#555555;stroke:#555555;stroke-width:0.8;\" x=\"48.90125\" xlink:href=\"#md17a3b6639\" y=\"244.829545\"/>\n      </g>\n     </g>\n     <g id=\"text_8\">\n      <!-- 40 -->\n      <g style=\"fill:#555555;\" transform=\"translate(29.17625 248.628764)scale(0.1 -0.1)\">\n       <defs>\n        <path d=\"M 37.796875 64.3125 \nL 12.890625 25.390625 \nL 37.796875 25.390625 \nz\nM 35.203125 72.90625 \nL 47.609375 72.90625 \nL 47.609375 25.390625 \nL 58.015625 25.390625 \nL 58.015625 17.1875 \nL 47.609375 17.1875 \nL 47.609375 0 \nL 37.796875 0 \nL 37.796875 17.1875 \nL 4.890625 17.1875 \nL 4.890625 26.703125 \nz\n\" id=\"DejaVuSans-52\"/>\n       </defs>\n       <use xlink:href=\"#DejaVuSans-52\"/>\n       <use x=\"63.623047\" xlink:href=\"#DejaVuSans-48\"/>\n      </g>\n     </g>\n    </g>\n    <g id=\"ytick_4\">\n     <g id=\"line2d_11\">\n      <path clip-path=\"url(#pc5936fa875)\" d=\"M 48.90125 186.848593 \nL 289.42625 186.848593 \n\" style=\"fill:none;stroke:#ffffff;stroke-linecap:square;stroke-width:0.8;\"/>\n     </g>\n     <g id=\"line2d_12\">\n      <g>\n       <use style=\"fill:#555555;stroke:#555555;stroke-width:0.8;\" x=\"48.90125\" xlink:href=\"#md17a3b6639\" y=\"186.848593\"/>\n      </g>\n     </g>\n     <g id=\"text_9\">\n      <!-- 60 -->\n      <g style=\"fill:#555555;\" transform=\"translate(29.17625 190.647812)scale(0.1 -0.1)\">\n       <defs>\n        <path d=\"M 33.015625 40.375 \nQ 26.375 40.375 22.484375 35.828125 \nQ 18.609375 31.296875 18.609375 23.390625 \nQ 18.609375 15.53125 22.484375 10.953125 \nQ 26.375 6.390625 33.015625 6.390625 \nQ 39.65625 6.390625 43.53125 10.953125 \nQ 47.40625 15.53125 47.40625 23.390625 \nQ 47.40625 31.296875 43.53125 35.828125 \nQ 39.65625 40.375 33.015625 40.375 \nz\nM 52.59375 71.296875 \nL 52.59375 62.3125 \nQ 48.875 64.0625 45.09375 64.984375 \nQ 41.3125 65.921875 37.59375 65.921875 \nQ 27.828125 65.921875 22.671875 59.328125 \nQ 17.53125 52.734375 16.796875 39.40625 \nQ 19.671875 43.65625 24.015625 45.921875 \nQ 28.375 48.1875 33.59375 48.1875 \nQ 44.578125 48.1875 50.953125 41.515625 \nQ 57.328125 34.859375 57.328125 23.390625 \nQ 57.328125 12.15625 50.6875 5.359375 \nQ 44.046875 -1.421875 33.015625 -1.421875 \nQ 20.359375 -1.421875 13.671875 8.265625 \nQ 6.984375 17.96875 6.984375 36.375 \nQ 6.984375 53.65625 15.1875 63.9375 \nQ 23.390625 74.21875 37.203125 74.21875 \nQ 40.921875 74.21875 44.703125 73.484375 \nQ 48.484375 72.75 52.59375 71.296875 \nz\n\" id=\"DejaVuSans-54\"/>\n       </defs>\n       <use xlink:href=\"#DejaVuSans-54\"/>\n       <use x=\"63.623047\" xlink:href=\"#DejaVuSans-48\"/>\n      </g>\n     </g>\n    </g>\n    <g id=\"ytick_5\">\n     <g id=\"line2d_13\">\n      <path clip-path=\"url(#pc5936fa875)\" d=\"M 48.90125 128.86764 \nL 289.42625 128.86764 \n\" style=\"fill:none;stroke:#ffffff;stroke-linecap:square;stroke-width:0.8;\"/>\n     </g>\n     <g id=\"line2d_14\">\n      <g>\n       <use style=\"fill:#555555;stroke:#555555;stroke-width:0.8;\" x=\"48.90125\" xlink:href=\"#md17a3b6639\" y=\"128.86764\"/>\n      </g>\n     </g>\n     <g id=\"text_10\">\n      <!-- 80 -->\n      <g style=\"fill:#555555;\" transform=\"translate(29.17625 132.666859)scale(0.1 -0.1)\">\n       <defs>\n        <path d=\"M 31.78125 34.625 \nQ 24.75 34.625 20.71875 30.859375 \nQ 16.703125 27.09375 16.703125 20.515625 \nQ 16.703125 13.921875 20.71875 10.15625 \nQ 24.75 6.390625 31.78125 6.390625 \nQ 38.8125 6.390625 42.859375 10.171875 \nQ 46.921875 13.96875 46.921875 20.515625 \nQ 46.921875 27.09375 42.890625 30.859375 \nQ 38.875 34.625 31.78125 34.625 \nz\nM 21.921875 38.8125 \nQ 15.578125 40.375 12.03125 44.71875 \nQ 8.5 49.078125 8.5 55.328125 \nQ 8.5 64.0625 14.71875 69.140625 \nQ 20.953125 74.21875 31.78125 74.21875 \nQ 42.671875 74.21875 48.875 69.140625 \nQ 55.078125 64.0625 55.078125 55.328125 \nQ 55.078125 49.078125 51.53125 44.71875 \nQ 48 40.375 41.703125 38.8125 \nQ 48.828125 37.15625 52.796875 32.3125 \nQ 56.78125 27.484375 56.78125 20.515625 \nQ 56.78125 9.90625 50.3125 4.234375 \nQ 43.84375 -1.421875 31.78125 -1.421875 \nQ 19.734375 -1.421875 13.25 4.234375 \nQ 6.78125 9.90625 6.78125 20.515625 \nQ 6.78125 27.484375 10.78125 32.3125 \nQ 14.796875 37.15625 21.921875 38.8125 \nz\nM 18.3125 54.390625 \nQ 18.3125 48.734375 21.84375 45.5625 \nQ 25.390625 42.390625 31.78125 42.390625 \nQ 38.140625 42.390625 41.71875 45.5625 \nQ 45.3125 48.734375 45.3125 54.390625 \nQ 45.3125 60.0625 41.71875 63.234375 \nQ 38.140625 66.40625 31.78125 66.40625 \nQ 25.390625 66.40625 21.84375 63.234375 \nQ 18.3125 60.0625 18.3125 54.390625 \nz\n\" id=\"DejaVuSans-56\"/>\n       </defs>\n       <use xlink:href=\"#DejaVuSans-56\"/>\n       <use x=\"63.623047\" xlink:href=\"#DejaVuSans-48\"/>\n      </g>\n     </g>\n    </g>\n    <g id=\"ytick_6\">\n     <g id=\"line2d_15\">\n      <path clip-path=\"url(#pc5936fa875)\" d=\"M 48.90125 70.886688 \nL 289.42625 70.886688 \n\" style=\"fill:none;stroke:#ffffff;stroke-linecap:square;stroke-width:0.8;\"/>\n     </g>\n     <g id=\"line2d_16\">\n      <g>\n       <use style=\"fill:#555555;stroke:#555555;stroke-width:0.8;\" x=\"48.90125\" xlink:href=\"#md17a3b6639\" y=\"70.886688\"/>\n      </g>\n     </g>\n     <g id=\"text_11\">\n      <!-- 100 -->\n      <g style=\"fill:#555555;\" transform=\"translate(22.81375 74.685907)scale(0.1 -0.1)\">\n       <defs>\n        <path d=\"M 12.40625 8.296875 \nL 28.515625 8.296875 \nL 28.515625 63.921875 \nL 10.984375 60.40625 \nL 10.984375 69.390625 \nL 28.421875 72.90625 \nL 38.28125 72.90625 \nL 38.28125 8.296875 \nL 54.390625 8.296875 \nL 54.390625 0 \nL 12.40625 0 \nz\n\" id=\"DejaVuSans-49\"/>\n       </defs>\n       <use xlink:href=\"#DejaVuSans-49\"/>\n       <use x=\"63.623047\" xlink:href=\"#DejaVuSans-48\"/>\n       <use x=\"127.246094\" xlink:href=\"#DejaVuSans-48\"/>\n      </g>\n     </g>\n    </g>\n    <g id=\"text_12\">\n     <!-- Count -->\n     <g style=\"fill:#555555;\" transform=\"translate(16.318125 226.409575)rotate(-90)scale(0.12 -0.12)\">\n      <defs>\n       <path d=\"M 8.5 21.578125 \nL 8.5 54.6875 \nL 17.484375 54.6875 \nL 17.484375 21.921875 \nQ 17.484375 14.15625 20.5 10.265625 \nQ 23.53125 6.390625 29.59375 6.390625 \nQ 36.859375 6.390625 41.078125 11.03125 \nQ 45.3125 15.671875 45.3125 23.6875 \nL 45.3125 54.6875 \nL 54.296875 54.6875 \nL 54.296875 0 \nL 45.3125 0 \nL 45.3125 8.40625 \nQ 42.046875 3.421875 37.71875 1 \nQ 33.40625 -1.421875 27.6875 -1.421875 \nQ 18.265625 -1.421875 13.375 4.4375 \nQ 8.5 10.296875 8.5 21.578125 \nz\nM 31.109375 56 \nz\n\" id=\"DejaVuSans-117\"/>\n       <path d=\"M 54.890625 33.015625 \nL 54.890625 0 \nL 45.90625 0 \nL 45.90625 32.71875 \nQ 45.90625 40.484375 42.875 44.328125 \nQ 39.84375 48.1875 33.796875 48.1875 \nQ 26.515625 48.1875 22.3125 43.546875 \nQ 18.109375 38.921875 18.109375 30.90625 \nL 18.109375 0 \nL 9.078125 0 \nL 9.078125 54.6875 \nL 18.109375 54.6875 \nL 18.109375 46.1875 \nQ 21.34375 51.125 25.703125 53.5625 \nQ 30.078125 56 35.796875 56 \nQ 45.21875 56 50.046875 50.171875 \nQ 54.890625 44.34375 54.890625 33.015625 \nz\n\" id=\"DejaVuSans-110\"/>\n       <path d=\"M 18.3125 70.21875 \nL 18.3125 54.6875 \nL 36.8125 54.6875 \nL 36.8125 47.703125 \nL 18.3125 47.703125 \nL 18.3125 18.015625 \nQ 18.3125 11.328125 20.140625 9.421875 \nQ 21.96875 7.515625 27.59375 7.515625 \nL 36.8125 7.515625 \nL 36.8125 0 \nL 27.59375 0 \nQ 17.1875 0 13.234375 3.875 \nQ 9.28125 7.765625 9.28125 18.015625 \nL 9.28125 47.703125 \nL 2.6875 47.703125 \nL 2.6875 54.6875 \nL 9.28125 54.6875 \nL 9.28125 70.21875 \nz\n\" id=\"DejaVuSans-116\"/>\n      </defs>\n      <use xlink:href=\"#DejaVuSans-67\"/>\n      <use x=\"69.824219\" xlink:href=\"#DejaVuSans-111\"/>\n      <use x=\"131.005859\" xlink:href=\"#DejaVuSans-117\"/>\n      <use x=\"194.384766\" xlink:href=\"#DejaVuSans-110\"/>\n      <use x=\"257.763672\" xlink:href=\"#DejaVuSans-116\"/>\n     </g>\n    </g>\n   </g>\n   <g id=\"patch_3\">\n    <path clip-path=\"url(#pc5936fa875)\" d=\"M 54.914375 360.79145 \nL 103.019375 360.79145 \nL 103.019375 70.886688 \nL 54.914375 70.886688 \nz\n\" style=\"fill:#cc5a49;\"/>\n   </g>\n   <g id=\"patch_4\">\n    <path clip-path=\"url(#pc5936fa875)\" d=\"M 115.045625 360.79145 \nL 163.150625 360.79145 \nL 163.150625 291.214307 \nL 115.045625 291.214307 \nz\n\" style=\"fill:#4586ac;\"/>\n   </g>\n   <g id=\"patch_5\">\n    <path clip-path=\"url(#pc5936fa875)\" d=\"M 175.176875 360.79145 \nL 223.281875 360.79145 \nL 223.281875 221.637164 \nL 175.176875 221.637164 \nz\n\" style=\"fill:#9e97cc;\"/>\n   </g>\n   <g id=\"patch_6\">\n    <path clip-path=\"url(#pc5936fa875)\" d=\"M 235.308125 360.79145 \nL 283.413125 360.79145 \nL 283.413125 198.444783 \nL 235.308125 198.444783 \nz\n\" style=\"fill:#777777;\"/>\n   </g>\n   <g id=\"patch_7\">\n    <path d=\"M 48.90125 360.79145 \nL 48.90125 56.39145 \n\" style=\"fill:none;stroke:#ffffff;stroke-linecap:square;stroke-linejoin:miter;\"/>\n   </g>\n   <g id=\"patch_8\">\n    <path d=\"M 48.90125 360.79145 \nL 289.42625 360.79145 \n\" style=\"fill:none;stroke:#ffffff;stroke-linecap:square;stroke-linejoin:miter;\"/>\n   </g>\n   <g id=\"text_13\">\n    <!--  -->\n    <g transform=\"translate(169.16375 18.14175)scale(0.144 -0.144)\"/>\n    <!-- Label distribution in data -->\n    <g transform=\"translate(79.0625 34.2666)scale(0.144 -0.144)\">\n     <defs>\n      <path d=\"M 45.40625 46.390625 \nL 45.40625 75.984375 \nL 54.390625 75.984375 \nL 54.390625 0 \nL 45.40625 0 \nL 45.40625 8.203125 \nQ 42.578125 3.328125 38.25 0.953125 \nQ 33.9375 -1.421875 27.875 -1.421875 \nQ 17.96875 -1.421875 11.734375 6.484375 \nQ 5.515625 14.40625 5.515625 27.296875 \nQ 5.515625 40.1875 11.734375 48.09375 \nQ 17.96875 56 27.875 56 \nQ 33.9375 56 38.25 53.625 \nQ 42.578125 51.265625 45.40625 46.390625 \nz\nM 14.796875 27.296875 \nQ 14.796875 17.390625 18.875 11.75 \nQ 22.953125 6.109375 30.078125 6.109375 \nQ 37.203125 6.109375 41.296875 11.75 \nQ 45.40625 17.390625 45.40625 27.296875 \nQ 45.40625 37.203125 41.296875 42.84375 \nQ 37.203125 48.484375 30.078125 48.484375 \nQ 22.953125 48.484375 18.875 42.84375 \nQ 14.796875 37.203125 14.796875 27.296875 \nz\n\" id=\"DejaVuSans-100\"/>\n     </defs>\n     <use xlink:href=\"#DejaVuSans-76\"/>\n     <use x=\"55.712891\" xlink:href=\"#DejaVuSans-97\"/>\n     <use x=\"116.992188\" xlink:href=\"#DejaVuSans-98\"/>\n     <use x=\"180.46875\" xlink:href=\"#DejaVuSans-101\"/>\n     <use x=\"241.992188\" xlink:href=\"#DejaVuSans-108\"/>\n     <use x=\"269.775391\" xlink:href=\"#DejaVuSans-32\"/>\n     <use x=\"301.5625\" xlink:href=\"#DejaVuSans-100\"/>\n     <use x=\"365.039062\" xlink:href=\"#DejaVuSans-105\"/>\n     <use x=\"392.822266\" xlink:href=\"#DejaVuSans-115\"/>\n     <use x=\"444.921875\" xlink:href=\"#DejaVuSans-116\"/>\n     <use x=\"484.130859\" xlink:href=\"#DejaVuSans-114\"/>\n     <use x=\"525.244141\" xlink:href=\"#DejaVuSans-105\"/>\n     <use x=\"553.027344\" xlink:href=\"#DejaVuSans-98\"/>\n     <use x=\"616.503906\" xlink:href=\"#DejaVuSans-117\"/>\n     <use x=\"679.882812\" xlink:href=\"#DejaVuSans-116\"/>\n     <use x=\"719.091797\" xlink:href=\"#DejaVuSans-105\"/>\n     <use x=\"746.875\" xlink:href=\"#DejaVuSans-111\"/>\n     <use x=\"808.056641\" xlink:href=\"#DejaVuSans-110\"/>\n     <use x=\"871.435547\" xlink:href=\"#DejaVuSans-32\"/>\n     <use x=\"903.222656\" xlink:href=\"#DejaVuSans-105\"/>\n     <use x=\"931.005859\" xlink:href=\"#DejaVuSans-110\"/>\n     <use x=\"994.384766\" xlink:href=\"#DejaVuSans-32\"/>\n     <use x=\"1026.171875\" xlink:href=\"#DejaVuSans-100\"/>\n     <use x=\"1089.648438\" xlink:href=\"#DejaVuSans-97\"/>\n     <use x=\"1150.927734\" xlink:href=\"#DejaVuSans-116\"/>\n     <use x=\"1190.136719\" xlink:href=\"#DejaVuSans-97\"/>\n    </g>\n    <!--  -->\n    <g transform=\"translate(169.16375 50.39145)scale(0.144 -0.144)\"/>\n   </g>\n  </g>\n </g>\n <defs>\n  <clipPath id=\"pc5936fa875\">\n   <rect height=\"304.4\" width=\"240.525\" x=\"48.90125\" y=\"56.39145\"/>\n  </clipPath>\n </defs>\n</svg>\n",
      "image/png": "[encoded data removed]"
     },
     "metadata": {
      "needs_background": "light"
     }
    }
   ],
   "source": [
    "g = sns.catplot(x='label', data=df, kind='count', height=5, aspect=0.8);\n",
    "g.ax.set_title('\\nLabel distribution in data\\n')\n",
    "g.ax.set_xlabel('\\nLabels')\n",
    "g.ax.set_ylabel('Count')\n",
    "g.ax.set_xticklabels(['No move','X','Y','Circle'], fontsize=12);"
   ]
  },
  {
   "source": [
    "## Plotting relationships between signals\n",
    "\n"
   ],
   "cell_type": "markdown",
   "metadata": {}
  },
  {
   "cell_type": "code",
   "execution_count": 12,
   "metadata": {},
   "outputs": [],
   "source": [
    "def filter_dataset_by_label(df: pd.DataFrame, label: int) -> pd.DataFrame:\n",
    "    return df[df['label'] == label].drop('label', axis=1)\n",
    "\n",
    "def get_acc_dfs(df: pd.DataFrame) -> (pd.DataFrame, pd.DataFrame, pd.DataFrame):\n",
    "    df_acc_x = pd.DataFrame(df.filter(regex='acc_x')).T.reset_index()\n",
    "    df_acc_y = pd.DataFrame(df.filter(regex='acc_y')).T.reset_index()\n",
    "    df_acc_z = pd.DataFrame(df.filter(regex='acc_z')).T.reset_index()\n",
    "\n",
    "    return df_acc_x, df_acc_y, df_acc_z\n",
    "\n",
    "def extract_time(sr: pd.Series) -> pd.Series:\n",
    "    return sr.str.split('_').str[-1]\n",
    "\n",
    "def extract_signal(df: pd.DataFrame) -> pd.DataFrame:\n",
    "    df['signal'] = df['index'].str.extract(r'(.*)_\\d{1,4}')\n",
    "    return df\n",
    "\n",
    "def melt_df(df: pd.DataFrame) -> list:\n",
    "    signals = ['acc_x', 'acc_y','acc_z','gyro_x','gyro_y','gyro_z']\n",
    "    return [pd.melt(df[df['signal'] == s].drop('signal', axis=1)).rename(columns={'value':s}) for s in signals]"
   ]
  },
  {
   "cell_type": "code",
   "execution_count": 13,
   "metadata": {},
   "outputs": [],
   "source": [
    "df_x = filter_dataset_by_label(df, 1).T.reset_index()\n",
    "df_y = filter_dataset_by_label(df, 2).T.reset_index()\n",
    "df_circle = filter_dataset_by_label(df, 3).T.reset_index()"
   ]
  },
  {
   "cell_type": "code",
   "execution_count": 14,
   "metadata": {},
   "outputs": [],
   "source": [
    "df_x = extract_signal(df_x)\n",
    "df_y = extract_signal(df_y)\n",
    "df_circle = extract_signal(df_circle)"
   ]
  },
  {
   "cell_type": "code",
   "execution_count": 15,
   "metadata": {},
   "outputs": [],
   "source": [
    "df_x = df_x.drop('index', axis=1)\n",
    "df_y = df_y.drop('index', axis=1)\n",
    "df_circle = df_circle.drop('index', axis=1)"
   ]
  },
  {
   "cell_type": "code",
   "execution_count": 16,
   "metadata": {},
   "outputs": [],
   "source": [
    "df_x_acc_x, df_x_acc_y, df_x_acc_z, df_x_gyro_x, df_x_gyro_y, df_x_gyro_z = melt_df(df_x)\n",
    "df_y_acc_x, df_y_acc_y, df_y_acc_z, df_y_gyro_x, df_y_gyro_y, df_y_gyro_z = melt_df(df_y)\n",
    "df_circle_acc_x, df_circle_acc_y, df_circle_acc_z, df_circle_gyro_x, df_circle_gyro_y, df_circle_gyro_z = melt_df(df_circle)"
   ]
  },
  {
   "cell_type": "code",
   "execution_count": 17,
   "metadata": {},
   "outputs": [],
   "source": [
    "df_circle_acc = pd.concat([df_circle_acc_x, df_circle_acc_y'', df_circle_acc_z''], axis=1)\n",
    "df_x_acc = pd.concat([df_x_acc_x, df_x_acc_y'', df_x_acc_z''], axis=1)\n",
    "df_y_acc = pd.concat([df_y_acc_x, df_y_acc_y'', df_y_acc_z''], axis=1)"
   ]
  },
  {
   "cell_type": "code",
   "execution_count": 18,
   "metadata": {},
   "outputs": [
    {
     "output_type": "error",
     "ename": "NameError",
     "evalue": "name 'df_x_acc' is not defined",
     "traceback": [
      "\u001b[0;31m---------------------------------------------------------------------------\u001b[0m",
      "\u001b[0;31mNameError\u001b[0m                                 Traceback (most recent call last)",
      "\u001b[0;32m<ipython-input-18-cc3f6b14f5e1>\u001b[0m in \u001b[0;36m<module>\u001b[0;34m\u001b[0m\n\u001b[1;32m      8\u001b[0m \u001b[0;31m# df_circle_gyro = pd.concat([df_circle_gyro_x, df_circle_gyro_y, df_circle_gyro_z], axis=1)\u001b[0m\u001b[0;34m\u001b[0m\u001b[0;34m\u001b[0m\u001b[0;34m\u001b[0m\u001b[0m\n\u001b[1;32m      9\u001b[0m \u001b[0;34m\u001b[0m\u001b[0m\n\u001b[0;32m---> 10\u001b[0;31m \u001b[0mdf_x_acc\u001b[0m\u001b[0;34m[\u001b[0m\u001b[0;34m'label'\u001b[0m\u001b[0;34m]\u001b[0m \u001b[0;34m=\u001b[0m \u001b[0;34m'x'\u001b[0m\u001b[0;34m\u001b[0m\u001b[0;34m\u001b[0m\u001b[0m\n\u001b[0m\u001b[1;32m     11\u001b[0m \u001b[0mdf_x_gyro\u001b[0m\u001b[0;34m[\u001b[0m\u001b[0;34m'label'\u001b[0m\u001b[0;34m]\u001b[0m \u001b[0;34m=\u001b[0m \u001b[0;34m'x'\u001b[0m\u001b[0;34m\u001b[0m\u001b[0;34m\u001b[0m\u001b[0m\n\u001b[1;32m     12\u001b[0m \u001b[0;34m\u001b[0m\u001b[0m\n",
      "\u001b[0;31mNameError\u001b[0m: name 'df_x_acc' is not defined"
     ]
    }
   ],
   "source": [
    "# df_x_acc = pd.concat([df_x_acc_x,df_x_acc_x, df_x_acc_z], axis=1)\n",
    "# df_x_gyro = pd.concat([df_x_gyro_x,df_x_gyro_x,df_x_gyro_z], axis=1)\n",
    "\n",
    "# df_y_acc = pd.concat([df_y_acc_x, df_y_acc_y, df_y_acc_z], axis=1)\n",
    "# df_y_gyro = pd.concat([df_y_gyro_x, df_y_gyro_y, df_y_gyro_z], axis=1)\n",
    "\n",
    "# df_circle_acc = pd.concat([df_circle_acc_x, df_circle_acc_y, df_circle_acc_z], axis=1)\n",
    "# df_circle_gyro = pd.concat([df_circle_gyro_x, df_circle_gyro_y, df_circle_gyro_z], axis=1)\n",
    "\n",
    "df_x_acc['label'] = 'x'\n",
    "df_x_gyro['label'] = 'x'\n",
    "\n",
    "df_y_acc['label'] = 'y'\n",
    "df_y_gyro['label'] = 'y'\n",
    "\n",
    "df_circle_acc['label'] = 'circle'\n",
    "df_circle_gyro['label'] = 'circle'"
   ]
  },
  {
   "cell_type": "code",
   "execution_count": null,
   "metadata": {},
   "outputs": [],
   "source": [
    "# df_y_acc.index = df_x_acc.index[-1] + 2 + df_y_acc.index\n",
    "# df_circle_acc.index = df_y_acc.index[-1] + 2 + df_circle_acc.index\n",
    "# df_x_acc.index, df_y_acc.index, df_circle_acc.index"
   ]
  },
  {
   "cell_type": "code",
   "execution_count": null,
   "metadata": {},
   "outputs": [],
   "source": [
    "df_acc = pd.concat([df_x_acc, df_y_acc, df_circle_acc], axis=0)\n",
    "# df_gyro = pd.concat([df_x_gyro, df_y_gyro, df_circle_gyro], axis=0, ignore_index=True)"
   ]
  },
  {
   "cell_type": "code",
   "execution_count": null,
   "metadata": {},
   "outputs": [],
   "source": [
    "g = sns.pairplot(\n",
    "    df_acc,\n",
    "    hue='label',\n",
    "    height=5,\n",
    "    markers='+'\n",
    "    );"
   ]
  },
  {
   "cell_type": "code",
   "execution_count": null,
   "metadata": {},
   "outputs": [],
   "source": []
  }
 ]
}